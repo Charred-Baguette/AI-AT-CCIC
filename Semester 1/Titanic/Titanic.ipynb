{
 "cells": [
  {
   "cell_type": "code",
   "execution_count": 1,
   "id": "e8a803f3",
   "metadata": {},
   "outputs": [],
   "source": [
    "#imports\n",
    "import pandas as pd\n",
    "import sys\n",
    "import os\n",
    "import time\n",
    "import matplotlib.pyplot as plt"
   ]
  },
  {
   "cell_type": "code",
   "execution_count": 2,
   "id": "be5bfc9e",
   "metadata": {},
   "outputs": [
    {
     "name": "stdout",
     "output_type": "stream",
     "text": [
      "what csv do you want? 1: Titanic.csv1\n",
      "Titanic.csv imported successfully\n"
     ]
    }
   ],
   "source": [
    "dfaffirm = input(\"what csv do you want? 1: Titanic.csv\")\n",
    "if dfaffirm == '1':\n",
    "    df = pd.read_csv('Titanic.csv')\n",
    "    print(\"Titanic.csv imported successfully\")\n",
    "Columns = df.columns\n"
   ]
  },
  {
   "cell_type": "code",
   "execution_count": 7,
   "id": "5b0a19c1",
   "metadata": {},
   "outputs": [
    {
     "name": "stdout",
     "output_type": "stream",
     "text": [
      "columns: ['PassengerId', 'Survived', 'Pclass', 'Name', 'Sex', 'Age', 'SibSp', 'Parch', 'Ticket', 'Fare', 'Cabin', 'Embarked']\n",
      "input6\n",
      "which sample/index?6\n",
      "PassengerId                   6\n",
      "Survived                      0\n",
      "Pclass                        3\n",
      "Name           Moran, Mr. James\n",
      "Sex                        male\n",
      "Age                        20.0\n",
      "SibSp                         0\n",
      "Parch                         0\n",
      "Ticket                   330877\n",
      "Fare                     8.4583\n",
      "Cabin                       NaN\n",
      "Embarked                      Q\n",
      "Name: 5, dtype: object\n"
     ]
    }
   ],
   "source": [
    "print(\"columns:\",list(Columns))\n",
    "req=input('input')\n",
    "if req=='6':\n",
    "    sample = int(input(\"which sample/index?\"))\n",
    "    sampleref = sample-1\n",
    "    specs=df.loc[sampleref]\n",
    "    print(specs)\n",
    "    time.sleep(2)\n"
   ]
  },
  {
   "cell_type": "code",
   "execution_count": 17,
   "id": "8e65d653",
   "metadata": {},
   "outputs": [
    {
     "name": "stdout",
     "output_type": "stream",
     "text": [
      "PassengerId                   6\n",
      "Survived                      0\n",
      "Pclass                        3\n",
      "Name           Moran, Mr. James\n",
      "Sex                        male\n",
      "Age                        20.0\n",
      "SibSp                         0\n",
      "Parch                         0\n",
      "Ticket                   330877\n",
      "Fare                     8.4583\n",
      "Cabin                       NaN\n",
      "Embarked                      Q\n",
      "Name: 5, dtype: object\n"
     ]
    }
   ],
   "source": [
    "df.at[5,'Age']=20\n",
    "print(df.loc[5])"
   ]
  },
  {
   "cell_type": "code",
   "execution_count": 10,
   "id": "95a7d5eb",
   "metadata": {},
   "outputs": [
    {
     "name": "stdout",
     "output_type": "stream",
     "text": [
      "0       True\n",
      "1       True\n",
      "2       True\n",
      "3       True\n",
      "4       True\n",
      "       ...  \n",
      "886     True\n",
      "887     True\n",
      "888    False\n",
      "889     True\n",
      "890     True\n",
      "Name: Age, Length: 891, dtype: bool\n",
      "576\n"
     ]
    }
   ],
   "source": [
    "\n",
    "maj=df['Age']>18\n",
    "print(maj)\n",
    "count=maj.sum()\n",
    "print(count)"
   ]
  },
  {
   "cell_type": "code",
   "execution_count": 16,
   "id": "61732255",
   "metadata": {},
   "outputs": [
    {
     "name": "stdout",
     "output_type": "stream",
     "text": [
      "577\n",
      "314\n",
      "64.75869809203144%\n"
     ]
    }
   ],
   "source": [
    "male=df['Sex']=='male'\n",
    "print(male.sum())\n",
    "fem=df['Sex']=='female'\n",
    "print(fem.sum())\n",
    "tot=fem.sum()+male.sum()\n",
    "print(f\"{(male.sum()/tot)*100}%\")"
   ]
  },
  {
   "cell_type": "code",
   "execution_count": null,
   "id": "8e466d82",
   "metadata": {},
   "outputs": [],
   "source": []
  }
 ],
 "metadata": {
  "kernelspec": {
   "display_name": "Python 3 (ipykernel)",
   "language": "python",
   "name": "python3"
  },
  "language_info": {
   "codemirror_mode": {
    "name": "ipython",
    "version": 3
   },
   "file_extension": ".py",
   "mimetype": "text/x-python",
   "name": "python",
   "nbconvert_exporter": "python",
   "pygments_lexer": "ipython3",
   "version": "3.9.13"
  }
 },
 "nbformat": 4,
 "nbformat_minor": 5
}
