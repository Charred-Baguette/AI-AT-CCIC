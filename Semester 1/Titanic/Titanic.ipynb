{
 "cells": [
  {
   "cell_type": "code",
   "execution_count": 1,
   "id": "c8f38c29",
   "metadata": {},
   "outputs": [],
   "source": [
    "#imports\n",
    "import pandas as pd\n",
    "import sys\n",
    "import os\n",
    "import time\n",
    "import matplotlib.pyplot as plt"
   ]
  },
  {
   "cell_type": "code",
   "execution_count": 3,
   "id": "944b7b67",
   "metadata": {},
   "outputs": [
    {
     "name": "stdin",
     "output_type": "stream",
     "text": [
      "what csv do you want? 1: estonia.csv 1\n"
     ]
    },
    {
     "name": "stdout",
     "output_type": "stream",
     "text": [
      "estonia.csv imported successfully\n",
      "Index(['PassengerId', 'Country', 'Firstname', 'Lastname', 'Sex', 'Age',\n",
      "       'Category', 'Survived'],\n",
      "      dtype='object')\n"
     ]
    }
   ],
   "source": [
    "dfaffirm = input(\"what csv do you want? 1: estonia.csv\")\n",
    "if dfaffirm == '1':\n",
    "    df = pd.read_csv('estonia.csv')\n",
    "    print(\"estonia.csv imported successfully\")\n",
    "Columns = df.columns\n",
    "print(Columns)"
   ]
  },
  {
   "cell_type": "code",
   "execution_count": 3,
   "id": "73902f9a",
   "metadata": {},
   "outputs": [
    {
     "name": "stdout",
     "output_type": "stream",
     "text": [
      "columns: ['PassengerId', 'Country', 'Firstname', 'Lastname', 'Sex', 'Age', 'Category', 'Survived']\n",
      "input\n"
     ]
    }
   ],
   "source": [
    "print(\"columns:\",list(Columns))\n",
    "req=input('input')\n",
    "if req=='6':\n",
    "    sample = int(input(\"which sample/index?\"))\n",
    "    sampleref = sample-1\n",
    "    specs=df.loc[sampleref]\n",
    "    print(specs)\n",
    "    time.sleep(2)\n"
   ]
  },
  {
   "cell_type": "code",
   "execution_count": 4,
   "id": "fc72cde6",
   "metadata": {},
   "outputs": [
    {
     "name": "stdout",
     "output_type": "stream",
     "text": [
      "PassengerId                     6\n",
      "Country                    Sweden\n",
      "Firstname      GERD INGA MAGNHILD\n",
      "Lastname                 AHLSTROM\n",
      "Sex                             F\n",
      "Age                            25\n",
      "Category                        P\n",
      "Survived                        0\n",
      "Name: 5, dtype: object\n"
     ]
    }
   ],
   "source": [
    "#df.loc[5,'Age']=25\n",
    "#print(df.loc[5])"
   ]
  },
  {
   "cell_type": "code",
   "execution_count": 5,
   "id": "b2a44086",
   "metadata": {},
   "outputs": [
    {
     "data": {
      "text/plain": [
       "947"
      ]
     },
     "execution_count": 5,
     "metadata": {},
     "output_type": "execute_result"
    }
   ],
   "source": [
    "#\n",
    "#count=0\n",
    "#for person in df['Age']:\n",
    "#    if person > 18:\n",
    "#        count=count+1\n",
    "\n",
    "#count\n",
    "    "
   ]
  },
  {
   "cell_type": "code",
   "execution_count": 6,
   "id": "81a63a2a",
   "metadata": {},
   "outputs": [
    {
     "data": {
      "text/plain": [
       "947"
      ]
     },
     "execution_count": 6,
     "metadata": {},
     "output_type": "execute_result"
    }
   ],
   "source": [
    "#count = (df['Age'] > 18).sum()\n",
    "#count"
   ]
  },
  {
   "cell_type": "code",
   "execution_count": 7,
   "id": "765c40cb",
   "metadata": {},
   "outputs": [
    {
     "name": "stdout",
     "output_type": "stream",
     "text": [
      "0\n",
      "989\n",
      "0.0%\n"
     ]
    }
   ],
   "source": [
    "#male=df['Sex']=='male'\n",
    "#print(male.sum())\n",
    "#tot=len(df)\n",
    "#print(tot)\n",
    "#print(f\"{(male.sum()/tot)*100}%\")"
   ]
  },
  {
   "cell_type": "code",
   "execution_count": 8,
   "id": "e43cc1cb",
   "metadata": {},
   "outputs": [
    {
     "ename": "KeyError",
     "evalue": "'Pclass'",
     "output_type": "error",
     "traceback": [
      "\u001b[1;31m---------------------------------------------------------------------------\u001b[0m",
      "\u001b[1;31mKeyError\u001b[0m                                  Traceback (most recent call last)",
      "\u001b[1;32mC:\\ProgramData\\Anaconda3\\lib\\site-packages\\pandas\\core\\indexes\\base.py\u001b[0m in \u001b[0;36mget_loc\u001b[1;34m(self, key, method, tolerance)\u001b[0m\n\u001b[0;32m   3628\u001b[0m             \u001b[1;32mtry\u001b[0m\u001b[1;33m:\u001b[0m\u001b[1;33m\u001b[0m\u001b[1;33m\u001b[0m\u001b[0m\n\u001b[1;32m-> 3629\u001b[1;33m                 \u001b[1;32mreturn\u001b[0m \u001b[0mself\u001b[0m\u001b[1;33m.\u001b[0m\u001b[0m_engine\u001b[0m\u001b[1;33m.\u001b[0m\u001b[0mget_loc\u001b[0m\u001b[1;33m(\u001b[0m\u001b[0mcasted_key\u001b[0m\u001b[1;33m)\u001b[0m\u001b[1;33m\u001b[0m\u001b[1;33m\u001b[0m\u001b[0m\n\u001b[0m\u001b[0;32m   3630\u001b[0m             \u001b[1;32mexcept\u001b[0m \u001b[0mKeyError\u001b[0m \u001b[1;32mas\u001b[0m \u001b[0merr\u001b[0m\u001b[1;33m:\u001b[0m\u001b[1;33m\u001b[0m\u001b[1;33m\u001b[0m\u001b[0m\n",
      "\u001b[1;32mC:\\ProgramData\\Anaconda3\\lib\\site-packages\\pandas\\_libs\\index.pyx\u001b[0m in \u001b[0;36mpandas._libs.index.IndexEngine.get_loc\u001b[1;34m()\u001b[0m\n",
      "\u001b[1;32mC:\\ProgramData\\Anaconda3\\lib\\site-packages\\pandas\\_libs\\index.pyx\u001b[0m in \u001b[0;36mpandas._libs.index.IndexEngine.get_loc\u001b[1;34m()\u001b[0m\n",
      "\u001b[1;32mpandas\\_libs\\hashtable_class_helper.pxi\u001b[0m in \u001b[0;36mpandas._libs.hashtable.PyObjectHashTable.get_item\u001b[1;34m()\u001b[0m\n",
      "\u001b[1;32mpandas\\_libs\\hashtable_class_helper.pxi\u001b[0m in \u001b[0;36mpandas._libs.hashtable.PyObjectHashTable.get_item\u001b[1;34m()\u001b[0m\n",
      "\u001b[1;31mKeyError\u001b[0m: 'Pclass'",
      "\nThe above exception was the direct cause of the following exception:\n",
      "\u001b[1;31mKeyError\u001b[0m                                  Traceback (most recent call last)",
      "\u001b[1;32m~\\AppData\\Local\\Temp\\ipykernel_12800\\2668665057.py\u001b[0m in \u001b[0;36m<module>\u001b[1;34m\u001b[0m\n\u001b[1;32m----> 1\u001b[1;33m \u001b[0mprint\u001b[0m\u001b[1;33m(\u001b[0m\u001b[1;34mf\"3: {sum(df['Pclass']==3)}\"\u001b[0m\u001b[1;33m)\u001b[0m\u001b[1;33m\u001b[0m\u001b[1;33m\u001b[0m\u001b[0m\n\u001b[0m\u001b[0;32m      2\u001b[0m \u001b[0mprint\u001b[0m\u001b[1;33m(\u001b[0m\u001b[1;34mf\"2: {sum(df['Pclass']==2)}\"\u001b[0m\u001b[1;33m)\u001b[0m\u001b[1;33m\u001b[0m\u001b[1;33m\u001b[0m\u001b[0m\n\u001b[0;32m      3\u001b[0m \u001b[0mprint\u001b[0m\u001b[1;33m(\u001b[0m\u001b[1;34mf\"1: {sum(df['Pclass']==1)}\"\u001b[0m\u001b[1;33m)\u001b[0m\u001b[1;33m\u001b[0m\u001b[1;33m\u001b[0m\u001b[0m\n",
      "\u001b[1;32mC:\\ProgramData\\Anaconda3\\lib\\site-packages\\pandas\\core\\frame.py\u001b[0m in \u001b[0;36m__getitem__\u001b[1;34m(self, key)\u001b[0m\n\u001b[0;32m   3503\u001b[0m             \u001b[1;32mif\u001b[0m \u001b[0mself\u001b[0m\u001b[1;33m.\u001b[0m\u001b[0mcolumns\u001b[0m\u001b[1;33m.\u001b[0m\u001b[0mnlevels\u001b[0m \u001b[1;33m>\u001b[0m \u001b[1;36m1\u001b[0m\u001b[1;33m:\u001b[0m\u001b[1;33m\u001b[0m\u001b[1;33m\u001b[0m\u001b[0m\n\u001b[0;32m   3504\u001b[0m                 \u001b[1;32mreturn\u001b[0m \u001b[0mself\u001b[0m\u001b[1;33m.\u001b[0m\u001b[0m_getitem_multilevel\u001b[0m\u001b[1;33m(\u001b[0m\u001b[0mkey\u001b[0m\u001b[1;33m)\u001b[0m\u001b[1;33m\u001b[0m\u001b[1;33m\u001b[0m\u001b[0m\n\u001b[1;32m-> 3505\u001b[1;33m             \u001b[0mindexer\u001b[0m \u001b[1;33m=\u001b[0m \u001b[0mself\u001b[0m\u001b[1;33m.\u001b[0m\u001b[0mcolumns\u001b[0m\u001b[1;33m.\u001b[0m\u001b[0mget_loc\u001b[0m\u001b[1;33m(\u001b[0m\u001b[0mkey\u001b[0m\u001b[1;33m)\u001b[0m\u001b[1;33m\u001b[0m\u001b[1;33m\u001b[0m\u001b[0m\n\u001b[0m\u001b[0;32m   3506\u001b[0m             \u001b[1;32mif\u001b[0m \u001b[0mis_integer\u001b[0m\u001b[1;33m(\u001b[0m\u001b[0mindexer\u001b[0m\u001b[1;33m)\u001b[0m\u001b[1;33m:\u001b[0m\u001b[1;33m\u001b[0m\u001b[1;33m\u001b[0m\u001b[0m\n\u001b[0;32m   3507\u001b[0m                 \u001b[0mindexer\u001b[0m \u001b[1;33m=\u001b[0m \u001b[1;33m[\u001b[0m\u001b[0mindexer\u001b[0m\u001b[1;33m]\u001b[0m\u001b[1;33m\u001b[0m\u001b[1;33m\u001b[0m\u001b[0m\n",
      "\u001b[1;32mC:\\ProgramData\\Anaconda3\\lib\\site-packages\\pandas\\core\\indexes\\base.py\u001b[0m in \u001b[0;36mget_loc\u001b[1;34m(self, key, method, tolerance)\u001b[0m\n\u001b[0;32m   3629\u001b[0m                 \u001b[1;32mreturn\u001b[0m \u001b[0mself\u001b[0m\u001b[1;33m.\u001b[0m\u001b[0m_engine\u001b[0m\u001b[1;33m.\u001b[0m\u001b[0mget_loc\u001b[0m\u001b[1;33m(\u001b[0m\u001b[0mcasted_key\u001b[0m\u001b[1;33m)\u001b[0m\u001b[1;33m\u001b[0m\u001b[1;33m\u001b[0m\u001b[0m\n\u001b[0;32m   3630\u001b[0m             \u001b[1;32mexcept\u001b[0m \u001b[0mKeyError\u001b[0m \u001b[1;32mas\u001b[0m \u001b[0merr\u001b[0m\u001b[1;33m:\u001b[0m\u001b[1;33m\u001b[0m\u001b[1;33m\u001b[0m\u001b[0m\n\u001b[1;32m-> 3631\u001b[1;33m                 \u001b[1;32mraise\u001b[0m \u001b[0mKeyError\u001b[0m\u001b[1;33m(\u001b[0m\u001b[0mkey\u001b[0m\u001b[1;33m)\u001b[0m \u001b[1;32mfrom\u001b[0m \u001b[0merr\u001b[0m\u001b[1;33m\u001b[0m\u001b[1;33m\u001b[0m\u001b[0m\n\u001b[0m\u001b[0;32m   3632\u001b[0m             \u001b[1;32mexcept\u001b[0m \u001b[0mTypeError\u001b[0m\u001b[1;33m:\u001b[0m\u001b[1;33m\u001b[0m\u001b[1;33m\u001b[0m\u001b[0m\n\u001b[0;32m   3633\u001b[0m                 \u001b[1;31m# If we have a listlike key, _check_indexing_error will raise\u001b[0m\u001b[1;33m\u001b[0m\u001b[1;33m\u001b[0m\u001b[0m\n",
      "\u001b[1;31mKeyError\u001b[0m: 'Pclass'"
     ]
    }
   ],
   "source": [
    "#print(f\"3: {sum(df['Pclass']==3)}\")\n",
    "#print(f\"2: {sum(df['Pclass']==2)}\")\n",
    "#print(f\"1: {sum(df['Pclass']==1)}\")\n"
   ]
  },
  {
   "cell_type": "code",
   "execution_count": null,
   "id": "4ece3a1e",
   "metadata": {},
   "outputs": [],
   "source": [
    "\"\"\"\n",
    "print(f\"S: {sum(df['Embarked']=='S')}\")\n",
    "print(f\"C: {sum(df['Embarked']=='C')}\")\n",
    "print(f\"Q: {sum(df['Embarked']=='Q')}\")\n",
    "S=sum(df['Embarked']=='S')\n",
    "C=sum(df['Embarked']=='C')\n",
    "Q=sum(df['Embarked']=='Q')\n",
    "t=len(df)\n",
    "print(S)\n",
    "print(C)\n",
    "print(Q)\n",
    "print(t)\n",
    "print(f\"S= {S/t*100}%\")\n",
    "print(f\"C= {C/t*100}%\")\n",
    "print(f\"Q= {Q/t*100}%\")\n",
    "\"\"\""
   ]
  },
  {
   "cell_type": "code",
   "execution_count": null,
   "id": "2d6afa68",
   "metadata": {},
   "outputs": [],
   "source": [
    "\"\"\"\n",
    "classes={\"Class\":[], \"Frequency\":[]}\n",
    "c1=0\n",
    "c2=0\n",
    "c3=0\n",
    "for ticket1 in df['Pclass']:\n",
    "    if ticket1==1:\n",
    "        c1+=1\n",
    "    elif ticket1==2:\n",
    "        c2+=1\n",
    "    elif ticket1==3:\n",
    "        c3+=1\n",
    "classes[\"Class\"].append(\"first\")\n",
    "classes[\"Class\"].append(\"second\")\n",
    "classes[\"Class\"].append(\"third\")\n",
    "classes[\"Frequency\"].append(c1)\n",
    "classes[\"Frequency\"].append(c2)\n",
    "classes[\"Frequency\"].append(c3)\n",
    "\n",
    "print(c1)\n",
    "print(c2)\n",
    "print(c3)\n",
    "print(classes)\n",
    "\n",
    "freq=pd.DataFrame(classes)\n",
    "print(freq)\n",
    "\"\"\""
   ]
  },
  {
   "cell_type": "code",
   "execution_count": null,
   "id": "7ccef33e",
   "metadata": {},
   "outputs": [],
   "source": [
    "\"\"\"\n",
    "po={\"Port\":[], \"Frequency\":[]}\n",
    "p1=0\n",
    "p2=0\n",
    "p3=0\n",
    "for p in df['Pclass']:\n",
    "    if p=='S':\n",
    "        p1+=1\n",
    "    elif ticket1=='C':\n",
    "        p2+=1\n",
    "    elif ticket1=='Q':\n",
    "        p3+=1\n",
    "tot=len(df)\n",
    "po[\"Port\"].append(\"S\")\n",
    "po[\"Port\"].append(\"C\")\n",
    "po[\"Port\"].append(\"Q\")\n",
    "po[\"Frequency\"].append((p1/tot)*100)\n",
    "po[\"Frequency\"].append((p2/tot)*100)\n",
    "po[\"Frequency\"].append((p3/tot)*100)\n",
    "\n",
    "print(c1)\n",
    "print(c2)\n",
    "print(c3)\n",
    "print(po)\n",
    "\n",
    "freq=pd.DataFrame(po)\n",
    "print(freq)\n",
    "\"\"\""
   ]
  },
  {
   "cell_type": "code",
   "execution_count": 23,
   "id": "4e41b97f",
   "metadata": {},
   "outputs": [
    {
     "name": "stdout",
     "output_type": "stream",
     "text": [
      "  AgeGroup  Frequency\n",
      "0   minors         24\n",
      "1    18-25        133\n",
      "2    25-65        668\n",
      "3      65+        164\n"
     ]
    }
   ],
   "source": [
    "\"\"\"\n",
    "Ageclass={'AgeGroup':[\"minors\", \"18-25\", \"25-65\", \"65+\"], \"Frequency\":[]}\n",
    "min=0\n",
    "young=0\n",
    "work=0\n",
    "sen=0\n",
    "for i in df['Age']:\n",
    "    if i < 18:\n",
    "        min +=1\n",
    "    if 18<= i < 25:\n",
    "        young +=1\n",
    "    if 25<= i < 65:\n",
    "        work +=1\n",
    "    if i>=65:\n",
    "        sen+=1\n",
    "Ageclass['Frequency'] = [min, young, work, sen]\n",
    "freq=pd.DataFrame(Ageclass)\n",
    "print(freq)\n",
    "\"\"\""
   ]
  },
  {
   "cell_type": "code",
   "execution_count": 5,
   "id": "aadeb109-b063-45a0-a6d5-2e08c62f378d",
   "metadata": {},
   "outputs": [
    {
     "data": {
      "text/plain": [
       "<Axes: xlabel='Sex', ylabel='Count'>"
      ]
     },
     "execution_count": 5,
     "metadata": {},
     "output_type": "execute_result"
    },
    {
     "data": {
      "image/png": "[encoded data removed]",
      "text/plain": [
       "<Figure size 640x480 with 1 Axes>"
      ]
     },
     "metadata": {},
     "output_type": "display_data"
    }
   ],
   "source": [
    "import seaborn as sns\n",
    "genders={\"Sex\":[\"Male\",\"Female\"],\"Count\":[0,0]}\n",
    "for ind in df[\"Sex\"]:\n",
    "    if ind == \"M\":\n",
    "        genders[\"Count\"][0]+=1\n",
    "    else:\n",
    "        genders[\"Count\"][1]+=1\n",
    "GENDF=pd.DataFrame(genders)\n",
    "sns.barplot(data=GENDF,x=\"Sex\",y=\"Count\")"
   ]
  },
  {
   "cell_type": "code",
   "execution_count": null,
   "id": "692b419c-02a7-450d-a30b-3a3dcc34a08a",
   "metadata": {},
   "outputs": [],
   "source": []
  }
 ],
 "metadata": {
  "kernelspec": {
   "display_name": "Python 3 (ipykernel)",
   "language": "python",
   "name": "python3"
  },
  "language_info": {
   "codemirror_mode": {
    "name": "ipython",
    "version": 3
   },
   "file_extension": ".py",
   "mimetype": "text/x-python",
   "name": "python",
   "nbconvert_exporter": "python",
   "pygments_lexer": "ipython3",
   "version": "3.12.4"
  }
 },
 "nbformat": 4,
 "nbformat_minor": 5
}
