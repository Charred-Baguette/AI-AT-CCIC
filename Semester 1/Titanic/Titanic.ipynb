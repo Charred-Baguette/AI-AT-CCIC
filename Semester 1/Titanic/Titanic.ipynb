{
 "cells": [
  {
   "cell_type": "code",
   "execution_count": 1,
   "id": "c8f38c29",
   "metadata": {},
   "outputs": [],
   "source": [
    "#imports\n",
    "import pandas as pd\n",
    "import sys\n",
    "import os\n",
    "import time\n",
    "import matplotlib.pyplot as plt"
   ]
  },
  {
   "cell_type": "code",
   "execution_count": 2,
   "id": "944b7b67",
   "metadata": {},
   "outputs": [
    {
     "name": "stdout",
     "output_type": "stream",
     "text": [
      "what csv do you want? 1: estonia.csv1\n",
      "Titanic.csv imported successfully\n"
     ]
    }
   ],
   "source": [
    "dfaffirm = input(\"what csv do you want? 1: Titanic.csv\")\n",
    "if dfaffirm == '1':\n",
    "    df = pd.read_csv('Titanic.csv')\n",
    "    print(\"Titanic.csv imported successfully\")\n",
    "Columns = df.columns\n"
   ]
  },
  {
   "cell_type": "code",
   "execution_count": 3,
   "id": "73902f9a",
   "metadata": {},
   "outputs": [
    {
     "name": "stdout",
     "output_type": "stream",
     "text": [
      "columns: ['PassengerId', 'Survived', 'Pclass', 'Name', 'Sex', 'Age', 'SibSp', 'Parch', 'Ticket', 'Fare', 'Cabin', 'Embarked']\n",
      "input\n"
     ]
    }
   ],
   "source": [
    "print(\"columns:\",list(Columns))\n",
    "req=input('input')\n",
    "if req=='6':\n",
    "    sample = int(input(\"which sample/index?\"))\n",
    "    sampleref = sample-1\n",
    "    specs=df.loc[sampleref]\n",
    "    print(specs)\n",
    "    time.sleep(2)\n"
   ]
  },
  {
   "cell_type": "code",
   "execution_count": 4,
   "id": "fc72cde6",
   "metadata": {},
   "outputs": [
    {
     "name": "stdout",
     "output_type": "stream",
     "text": [
      "PassengerId                   6\n",
      "Survived                      0\n",
      "Pclass                        3\n",
      "Name           Moran, Mr. James\n",
      "Sex                        male\n",
      "Age                        25.0\n",
      "SibSp                         0\n",
      "Parch                         0\n",
      "Ticket                   330877\n",
      "Fare                     8.4583\n",
      "Cabin                       NaN\n",
      "Embarked                      Q\n",
      "Name: 5, dtype: object\n"
     ]
    }
   ],
   "source": [
    "df.loc[5,'Age']=25\n",
    "print(df.loc[5])"
   ]
  },
  {
   "cell_type": "code",
   "execution_count": 5,
   "id": "b2a44086",
   "metadata": {},
   "outputs": [
    {
     "data": {
      "text/plain": [
       "576"
      ]
     },
     "execution_count": 5,
     "metadata": {},
     "output_type": "execute_result"
    }
   ],
   "source": [
    "\n",
    "count=0\n",
    "for person in df['Age']:\n",
    "    if person > 18:\n",
    "        count=count+1\n",
    "\n",
    "count\n",
    "    "
   ]
  },
  {
   "cell_type": "code",
   "execution_count": 6,
   "id": "81a63a2a",
   "metadata": {},
   "outputs": [
    {
     "data": {
      "text/plain": [
       "576"
      ]
     },
     "execution_count": 6,
     "metadata": {},
     "output_type": "execute_result"
    }
   ],
   "source": [
    "count = (df['Age'] > 18).sum()\n",
    "count"
   ]
  },
  {
   "cell_type": "code",
   "execution_count": 7,
   "id": "765c40cb",
   "metadata": {},
   "outputs": [
    {
     "name": "stdout",
     "output_type": "stream",
     "text": [
      "577\n",
      "891\n",
      "64.75869809203144%\n"
     ]
    }
   ],
   "source": [
    "male=df['Sex']=='male'\n",
    "print(male.sum())\n",
    "tot=len(df)\n",
    "print(tot)\n",
    "print(f\"{(male.sum()/tot)*100}%\")"
   ]
  },
  {
   "cell_type": "code",
   "execution_count": 8,
   "id": "e43cc1cb",
   "metadata": {},
   "outputs": [
    {
     "name": "stdout",
     "output_type": "stream",
     "text": [
      "3: 491\n",
      "2: 184\n",
      "1: 216\n"
     ]
    }
   ],
   "source": [
    "print(f\"3: {sum(df['Pclass']==3)}\")\n",
    "print(f\"2: {sum(df['Pclass']==2)}\")\n",
    "print(f\"1: {sum(df['Pclass']==1)}\")\n"
   ]
  },
  {
   "cell_type": "code",
   "execution_count": 9,
   "id": "4ece3a1e",
   "metadata": {},
   "outputs": [
    {
     "name": "stdout",
     "output_type": "stream",
     "text": [
      "S: 644\n",
      "C: 168\n",
      "Q: 77\n",
      "644\n",
      "168\n",
      "77\n",
      "891\n",
      "S= 72.27833894500561%\n",
      "C= 18.855218855218855%\n",
      "Q= 8.641975308641975%\n"
     ]
    }
   ],
   "source": [
    "print(f\"S: {sum(df['Embarked']=='S')}\")\n",
    "print(f\"C: {sum(df['Embarked']=='C')}\")\n",
    "print(f\"Q: {sum(df['Embarked']=='Q')}\")\n",
    "S=sum(df['Embarked']=='S')\n",
    "C=sum(df['Embarked']=='C')\n",
    "Q=sum(df['Embarked']=='Q')\n",
    "t=len(df)\n",
    "print(S)\n",
    "print(C)\n",
    "print(Q)\n",
    "print(t)\n",
    "print(f\"S= {S/t*100}%\")\n",
    "print(f\"C= {C/t*100}%\")\n",
    "print(f\"Q= {Q/t*100}%\")"
   ]
  },
  {
   "cell_type": "code",
   "execution_count": 10,
   "id": "2d6afa68",
   "metadata": {},
   "outputs": [
    {
     "name": "stdout",
     "output_type": "stream",
     "text": [
      "216\n",
      "184\n",
      "491\n",
      "{'Class': ['first', 'second', 'third'], 'Frequency': [216, 184, 491]}\n",
      "    Class  Frequency\n",
      "0   first        216\n",
      "1  second        184\n",
      "2   third        491\n"
     ]
    }
   ],
   "source": [
    "classes={\"Class\":[], \"Frequency\":[]}\n",
    "c1=0\n",
    "c2=0\n",
    "c3=0\n",
    "for ticket1 in df['Pclass']:\n",
    "    if ticket1==1:\n",
    "        c1+=1\n",
    "    elif ticket1==2:\n",
    "        c2+=1\n",
    "    elif ticket1==3:\n",
    "        c3+=1\n",
    "classes[\"Class\"].append(\"first\")\n",
    "classes[\"Class\"].append(\"second\")\n",
    "classes[\"Class\"].append(\"third\")\n",
    "classes[\"Frequency\"].append(c1)\n",
    "classes[\"Frequency\"].append(c2)\n",
    "classes[\"Frequency\"].append(c3)\n",
    "\n",
    "print(c1)\n",
    "print(c2)\n",
    "print(c3)\n",
    "print(classes)\n",
    "\n",
    "freq=pd.DataFrame(classes)\n",
    "print(freq)"
   ]
  },
  {
   "cell_type": "code",
   "execution_count": 17,
   "id": "7ccef33e",
   "metadata": {},
   "outputs": [
    {
     "name": "stdout",
     "output_type": "stream",
     "text": [
      "644\n",
      "168\n",
      "77\n",
      "2\n",
      "      Port  Frequency\n",
      "0        S  72.278339\n",
      "1        C  18.855219\n",
      "2        Q   8.641975\n",
      "3  Unknown   0.224467\n"
     ]
    }
   ],
   "source": [
    "po={\"Port\":[], \"Frequency\":[]}\n",
    "p1=0\n",
    "p2=0\n",
    "p3=0\n",
    "p4=0\n",
    "for p in df['Embarked']:\n",
    "    if p=='S':\n",
    "        p1+=1\n",
    "    elif p=='C':\n",
    "        p2+=1\n",
    "    elif p=='Q':\n",
    "        p3+=1\n",
    "    else:\n",
    "        p4+=1\n",
    "tot=len(df)\n",
    "po[\"Port\"].append(\"S\")\n",
    "po[\"Port\"].append(\"C\")\n",
    "po[\"Port\"].append(\"Q\")\n",
    "po[\"Port\"].append(\"Unknown\")\n",
    "po[\"Frequency\"].append((p1/tot)*100)\n",
    "po[\"Frequency\"].append((p2/tot)*100)\n",
    "po[\"Frequency\"].append((p3/tot)*100)\n",
    "po[\"Frequency\"].append((p4/tot)*100)\n",
    "\n",
    "print(p1)\n",
    "print(p2)\n",
    "print(p3)\n",
    "print(p4)\n",
    "\n",
    "freq=pd.DataFrame(po)\n",
    "print(freq)"
   ]
  },
  {
   "cell_type": "code",
   "execution_count": 19,
   "id": "4e41b97f",
   "metadata": {},
   "outputs": [
    {
     "name": "stdout",
     "output_type": "stream",
     "text": [
      "PassengerId                   528\n",
      "Survived                        0\n",
      "Pclass                          1\n",
      "Name           Farthing, Mr. John\n",
      "Sex                          male\n",
      "Age                           NaN\n",
      "SibSp                           0\n",
      "Parch                           0\n",
      "Ticket                   PC 17483\n",
      "Fare                     221.7792\n",
      "Cabin                         C95\n",
      "Embarked                        S\n",
      "Name: 527, dtype: object\n"
     ]
    }
   ],
   "source": [
    "print(df.loc[527])"
   ]
  },
  {
   "cell_type": "code",
   "execution_count": 25,
   "id": "e266b769",
   "metadata": {},
   "outputs": [
    {
     "data": {
      "text/plain": [
       "PassengerId                              707\n",
       "Survived                                   1\n",
       "Pclass                                     2\n",
       "Name           Kelly, Mrs. Florence \"Fannie\"\n",
       "Sex                                   female\n",
       "Age                                     45.0\n",
       "SibSp                                      0\n",
       "Parch                                      0\n",
       "Ticket                                223596\n",
       "Fare                                    13.5\n",
       "Cabin                                    NaN\n",
       "Embarked                                   S\n",
       "Name: 706, dtype: object"
      ]
     },
     "execution_count": 25,
     "metadata": {},
     "output_type": "execute_result"
    }
   ],
   "source": [
    "sr=0\n",
    "for person in df[\"Name\"]:\n",
    "    if \"Fannie\" in person:\n",
    "        break\n",
    "    sr+=1\n",
    "df.loc[sr]"
   ]
  },
  {
   "cell_type": "code",
   "execution_count": null,
   "id": "785eb2e7",
   "metadata": {},
   "outputs": [],
   "source": []
  },
  {
   "cell_type": "code",
   "execution_count": null,
   "id": "23c5c8de",
   "metadata": {},
   "outputs": [],
   "source": []
  }
 ],
 "metadata": {
  "kernelspec": {
   "display_name": "Python 3 (ipykernel)",
   "language": "python",
   "name": "python3"
  },
  "language_info": {
   "codemirror_mode": {
    "name": "ipython",
    "version": 3
   },
   "file_extension": ".py",
   "mimetype": "text/x-python",
   "name": "python",
   "nbconvert_exporter": "python",
   "pygments_lexer": "ipython3",
   "version": "3.9.13"
  }
 },
 "nbformat": 4,
 "nbformat_minor": 5
}
