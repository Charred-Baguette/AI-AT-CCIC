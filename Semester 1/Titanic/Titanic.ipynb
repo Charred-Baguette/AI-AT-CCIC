{
 "cells": [
  {
   "cell_type": "code",
   "execution_count": 2,
   "id": "c8f38c29",
   "metadata": {},
   "outputs": [],
   "source": [
    "#imports\n",
    "import pandas as pd\n",
    "import sys\n",
    "import os\n",
    "import time\n",
    "import matplotlib.pyplot as plt"
   ]
  },
  {
   "cell_type": "code",
   "execution_count": 15,
   "id": "944b7b67",
   "metadata": {},
   "outputs": [
    {
     "name": "stdout",
     "output_type": "stream",
     "text": [
      "what csv do you want? 1: Titanic.csv1\n",
      "Titanic.csv imported successfully\n"
     ]
    }
   ],
   "source": [
    "dfaffirm = input(\"what csv do you want? 1: Titanic.csv\")\n",
    "if dfaffirm == '1':\n",
    "    df = pd.read_csv('Estonia.csv')\n",
    "    print(\"Titanic.csv imported successfully\")\n",
    "Columns = df.columns\n"
   ]
  },
  {
   "cell_type": "code",
   "execution_count": null,
   "id": "73902f9a",
   "metadata": {},
   "outputs": [],
   "source": [
    "print(\"columns:\",list(Columns))\n",
    "req=input('input')\n",
    "if req=='6':\n",
    "    sample = int(input(\"which sample/index?\"))\n",
    "    sampleref = sample-1\n",
    "    specs=df.loc[sampleref]\n",
    "    print(specs)\n",
    "    time.sleep(2)\n"
   ]
  },
  {
   "cell_type": "code",
   "execution_count": null,
   "id": "fc72cde6",
   "metadata": {},
   "outputs": [],
   "source": [
    "df.loc[5,'Age']=25\n",
    "print(df.loc[5])"
   ]
  },
  {
   "cell_type": "code",
   "execution_count": null,
   "id": "b2a44086",
   "metadata": {},
   "outputs": [],
   "source": [
    "\n",
    "count=0\n",
    "for person in df['Age']:\n",
    "    if person > 18:\n",
    "        count=count+1\n",
    "\n",
    "count\n",
    "    "
   ]
  },
  {
   "cell_type": "code",
   "execution_count": null,
   "id": "81a63a2a",
   "metadata": {},
   "outputs": [],
   "source": [
    "count = (df['Age'] > 18).sum()\n",
    "count"
   ]
  },
  {
   "cell_type": "code",
   "execution_count": null,
   "id": "765c40cb",
   "metadata": {},
   "outputs": [],
   "source": [
    "male=df['Sex']=='male'\n",
    "print(male.sum())\n",
    "tot=len(df)\n",
    "print(tot)\n",
    "print(f\"{(male.sum()/tot)*100}%\")"
   ]
  },
  {
   "cell_type": "code",
   "execution_count": null,
   "id": "e43cc1cb",
   "metadata": {},
   "outputs": [],
   "source": [
    "print(f\"3: {sum(df['Pclass']==3)}\")\n",
    "print(f\"2: {sum(df['Pclass']==2)}\")\n",
    "print(f\"1: {sum(df['Pclass']==1)}\")\n"
   ]
  },
  {
   "cell_type": "code",
   "execution_count": null,
   "id": "4ece3a1e",
   "metadata": {},
   "outputs": [],
   "source": [
    "print(f\"S: {sum(df['Embarked']=='S')}\")\n",
    "print(f\"C: {sum(df['Embarked']=='C')}\")\n",
    "print(f\"Q: {sum(df['Embarked']=='Q')}\")\n",
    "S=sum(df['Embarked']=='S')\n",
    "C=sum(df['Embarked']=='C')\n",
    "Q=sum(df['Embarked']=='Q')\n",
    "t=len(df)\n",
    "print(S)\n",
    "print(C)\n",
    "print(Q)\n",
    "print(t)\n",
    "print(f\"S= {S/t*100}%\")\n",
    "print(f\"C= {C/t*100}%\")\n",
    "print(f\"Q= {Q/t*100}%\")"
   ]
  },
  {
   "cell_type": "code",
   "execution_count": null,
   "id": "2d6afa68",
   "metadata": {},
   "outputs": [],
   "source": [
    "classes={\"Class\":[], \"Frequency\":[]}\n",
    "c1=0\n",
    "c2=0\n",
    "c3=0\n",
    "for ticket1 in df['Pclass']:\n",
    "    if ticket1==1:\n",
    "        c1+=1\n",
    "    elif ticket1==2:\n",
    "        c2+=1\n",
    "    elif ticket1==3:\n",
    "        c3+=1\n",
    "classes[\"Class\"].append(\"first\")\n",
    "classes[\"Class\"].append(\"second\")\n",
    "classes[\"Class\"].append(\"third\")\n",
    "classes[\"Frequency\"].append(c1)\n",
    "classes[\"Frequency\"].append(c2)\n",
    "classes[\"Frequency\"].append(c3)\n",
    "\n",
    "print(c1)\n",
    "print(c2)\n",
    "print(c3)\n",
    "print(classes)\n",
    "\n",
    "freq=pd.DataFrame(classes)\n",
    "print(freq)"
   ]
  },
  {
   "cell_type": "code",
   "execution_count": null,
   "id": "7ccef33e",
   "metadata": {},
   "outputs": [],
   "source": [
    "po={\"Port\":[], \"Frequency\":[]}\n",
    "p1=0\n",
    "p2=0\n",
    "p3=0\n",
    "p4=0\n",
    "for p in df['Embarked']:\n",
    "    if p=='S':\n",
    "        p1+=1\n",
    "    elif p=='C':\n",
    "        p2+=1\n",
    "    elif p=='Q':\n",
    "        p3+=1\n",
    "    else:\n",
    "        p4+=1\n",
    "tot=len(df)\n",
    "po[\"Port\"].append(\"S\")\n",
    "po[\"Port\"].append(\"C\")\n",
    "po[\"Port\"].append(\"Q\")\n",
    "po[\"Port\"].append(\"Unknown\")\n",
    "po[\"Frequency\"].append((p1/tot)*100)\n",
    "po[\"Frequency\"].append((p2/tot)*100)\n",
    "po[\"Frequency\"].append((p3/tot)*100)\n",
    "po[\"Frequency\"].append((p4/tot)*100)\n",
    "\n",
    "print(p1)\n",
    "print(p2)\n",
    "print(p3)\n",
    "print(p4)\n",
    "\n",
    "freq=pd.DataFrame(po)\n",
    "print(freq)"
   ]
  },
  {
   "cell_type": "code",
   "execution_count": null,
   "id": "4e41b97f",
   "metadata": {},
   "outputs": [],
   "source": [
    "print(df.loc[527])"
   ]
  },
  {
   "cell_type": "code",
   "execution_count": null,
   "id": "8e96950a",
   "metadata": {},
   "outputs": [],
   "source": [
    "sr=0\n",
    "for person in df[\"Name\"]:\n",
    "    if \"Fannie\" in person:\n",
    "        break\n",
    "    sr+=1\n",
    "df.loc[sr]"
   ]
  },
  {
   "cell_type": "code",
   "execution_count": null,
   "id": "94535d39",
   "metadata": {},
   "outputs": [],
   "source": [
    "SexSurv = {\"Male\": [], \"Female\": []}\n",
    "M=sum(df['Sex']=='male')\n",
    "print(M)\n",
    "F=sum(df['Sex']=='female')\n",
    "print(F)\n",
    "\n",
    "Ms=0\n",
    "Md=0\n",
    "Fs=0\n",
    "Fd=0\n",
    "\n",
    "\n",
    "\n",
    "for test in range(len(df)):\n",
    "    if df.loc[test][\"Sex\"] == 'male' and df.loc[test][\"Survived\"]==1:\n",
    "        Ms+=1\n",
    "    elif df.loc[test][\"Sex\"] == 'male' and df.loc[test][\"Survived\"]==0:\n",
    "        Md+=1\n",
    "    elif df.loc[test][\"Sex\"] == 'female' and df.loc[test][\"Survived\"]==1:\n",
    "        Fs+=1\n",
    "    elif df.loc[test][\"Sex\"] == 'female' and df.loc[test][\"Survived\"]==0:\n",
    "        Fd+=1\n",
    "Msp=(Ms/M)*100\n",
    "Mdp=(Md/M)*100\n",
    "Fsp=(Fs/F)*100\n",
    "Fdp=(Fd/F)*100\n",
    "        \n",
    "SexSurv[\"Male\"] = [Msp, Mdp]\n",
    "SexSurv[\"Female\"] = [Fsp, Fdp]\n",
    "\n",
    "ss=pd.DataFrame(SexSurv)\n",
    "ss.index=[\"Survived\", \"KIA\"]\n",
    "print(ss)"
   ]
  },
  {
   "cell_type": "code",
   "execution_count": 10,
   "id": "4b67c87c",
   "metadata": {},
   "outputs": [
    {
     "name": "stdout",
     "output_type": "stream",
     "text": [
      "601\n",
      "113\n",
      "           children  adults/seniors\n",
      "Survived  53.982301       38.103161\n",
      "KIA       46.017699       61.896839\n"
     ]
    }
   ],
   "source": [
    "agesurv = {\"children\": [], \"adults/seniors\": []}\n",
    "A=sum(df['Age']>=18)\n",
    "print(A)\n",
    "M=sum(df['Age']<18)\n",
    "print(M)\n",
    "\n",
    "As=0\n",
    "Ad=0\n",
    "Ms=0\n",
    "Md=0\n",
    "\n",
    "\n",
    "for test in range(len(df)):\n",
    "    if df.loc[test][\"Age\"] >= 18 and df.loc[test][\"Survived\"]==1:\n",
    "        As+=1\n",
    "    elif df.loc[test][\"Age\"]<18 and df.loc[test][\"Survived\"]==0:\n",
    "        Md+=1\n",
    "    elif df.loc[test][\"Age\"] <18 and df.loc[test][\"Survived\"]==1:\n",
    "        Ms+=1\n",
    "    elif df.loc[test][\"Age\"] >= 18 and df.loc[test][\"Survived\"]==0:\n",
    "        Ad+=1\n",
    "Msp=(Ms/M)*100\n",
    "Mdp=(Md/M)*100\n",
    "Asp=(As/A)*100\n",
    "Adp=(Ad/A)*100\n",
    "        \n",
    "agesurv[\"children\"] = [Msp, Mdp]\n",
    "agesurv[\"adults/seniors\"] = [Asp, Adp]\n",
    "\n",
    "ss=pd.DataFrame(agesurv)\n",
    "ss.index=[\"Survived\", \"KIA\"]\n",
    "print(ss)"
   ]
  },
  {
   "cell_type": "code",
   "execution_count": 18,
   "id": "204b00a0",
   "metadata": {},
   "outputs": [
    {
     "name": "stdout",
     "output_type": "stream",
     "text": [
      "503 486\n"
     ]
    }
   ],
   "source": [
    "Mtot =0\n",
    "Ftot=0\n",
    "for i in df[\"Sex\"]:\n",
    "    if i ==\"M\":\n",
    "        Mtot+=1\n",
    "    elif i ==\"F\":\n",
    "        Ftot+=1\n",
    "print(Mtot, Ftot)"
   ]
  },
  {
   "cell_type": "code",
   "execution_count": null,
   "id": "8fe92690",
   "metadata": {},
   "outputs": [],
   "source": []
  }
 ],
 "metadata": {
  "kernelspec": {
   "display_name": "Python 3 (ipykernel)",
   "language": "python",
   "name": "python3"
  },
  "language_info": {
   "codemirror_mode": {
    "name": "ipython",
    "version": 3
   },
   "file_extension": ".py",
   "mimetype": "text/x-python",
   "name": "python",
   "nbconvert_exporter": "python",
   "pygments_lexer": "ipython3",
   "version": "3.9.13"
  }
 },
 "nbformat": 4,
 "nbformat_minor": 5
}
