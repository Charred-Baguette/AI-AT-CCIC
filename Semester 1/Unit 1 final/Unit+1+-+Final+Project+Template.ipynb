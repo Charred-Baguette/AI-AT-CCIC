{
 "cells": [
  {
   "cell_type": "markdown",
   "id": "c80b3b64",
   "metadata": {},
   "source": [
    "# Choose a Data Set\n",
    "Pick one of the following data sets to analyze for your final project. \n",
    "- [Cosmetics](https://drive.google.com/drive/folders/1qvmRfGb7a_pYAtgW6614gxlP-bxl_Ptz?usp=drive_link)\n",
    "- [Mental Health](https://drive.google.com/drive/folders/1YOp1aQVcmqlAkUEGHNPl_TyNXbY-xHwO?usp=drive_link)\n",
    "- [Pokemon](https://drive.google.com/drive/folders/1kDu2oRgm_hUW5hdM0tHnMUqCGSKUYT1v?usp=drive_link)\n",
    "- [Ramen](https://drive.google.com/drive/folders/1Y4_5QHOCy8rHc5EsEwDUuoCfp2WLo-MN?usp=drive_link)\n",
    "- [Student Performance](https://drive.google.com/drive/folders/1fE31Ka38AnGpgfI_Es3z4psuA0phhH0Y?usp=drive_link)"
   ]
  },
  {
   "cell_type": "markdown",
   "id": "30fe31e3",
   "metadata": {},
   "source": [
    "## Dataset: Ramen"
   ]
  },
  {
   "cell_type": "markdown",
   "id": "8a7e64bc",
   "metadata": {},
   "source": [
    "# My Question"
   ]
  },
  {
   "cell_type": "markdown",
   "id": "b52e166c",
   "metadata": {},
   "source": [
    "What is the distribution of different styles (Cup, Pack, etc.) of Ramen?"
   ]
  },
  {
   "cell_type": "markdown",
   "id": "0a574d2e",
   "metadata": {},
   "source": [
    "# My Analysis"
   ]
  },
  {
   "cell_type": "code",
   "execution_count": 64,
   "id": "1a069470",
   "metadata": {},
   "outputs": [
    {
     "name": "stdout",
     "output_type": "stream",
     "text": [
      "<class 'pandas.core.frame.DataFrame'>\n",
      "RangeIndex: 2580 entries, 0 to 2579\n",
      "Data columns (total 7 columns):\n",
      " #   Column    Non-Null Count  Dtype \n",
      "---  ------    --------------  ----- \n",
      " 0   Review #  2580 non-null   int64 \n",
      " 1   Brand     2580 non-null   object\n",
      " 2   Variety   2580 non-null   object\n",
      " 3   Style     2578 non-null   object\n",
      " 4   Country   2580 non-null   object\n",
      " 5   Stars     2580 non-null   object\n",
      " 6   Top Ten   41 non-null     object\n",
      "dtypes: int64(1), object(6)\n",
      "memory usage: 141.2+ KB\n",
      "['Cup' 'Pack' 'Tray' 'Bowl' 'Box' 'Can' 'Bar' nan]\n"
     ]
    }
   ],
   "source": [
    "#imports\n",
    "import pandas as pd\n",
    "import seaborn as sb\n",
    "import numpy as np\n",
    "import matplotlib.pyplot as plt\n",
    "df=pd.read_csv('ramen.csv')\n",
    "df.info()\n",
    "\n",
    "#understanding style column. Thank goodness for pandas doc\n",
    "differentstyles=df['Style'].unique()\n",
    "print(differentstyles)"
   ]
  },
  {
   "cell_type": "code",
   "execution_count": 65,
   "id": "e9e64518",
   "metadata": {},
   "outputs": [
    {
     "name": "stdout",
     "output_type": "stream",
     "text": [
      "Style & freqency: {'Style': ['bowl', 'cup', 'tray', 'pack', 'box', 'can', 'bar', 'unknown'], 'Frequency': [481, 450, 108, 1531, 6, 1, 1, 2], 'Relative Frequency(%)': [18.643410852713178, 17.441860465116278, 4.186046511627907, 59.34108527131783, 0.23255813953488372, 0.03875968992248062, 0.03875968992248062, 0.07751937984496124]}\n",
      "Total data: 2580\n",
      "Total counted: 2580\n",
      "Totals align. Proceed to question.\n"
     ]
    }
   ],
   "source": [
    "#Confirm all style types\n",
    "bowl=0\n",
    "cup=0\n",
    "tray=0\n",
    "pack=0\n",
    "box=0\n",
    "can=0\n",
    "bar=0\n",
    "unknown=0\n",
    "relbowl=0\n",
    "relcup=0\n",
    "reltray=0\n",
    "relpack=0\n",
    "relbox=0\n",
    "relcan=0\n",
    "relbar=0\n",
    "relunknown=0\n",
    "for i in df['Style']:\n",
    "    if i=='Bowl':\n",
    "        bowl+=1\n",
    "    elif i=='Cup':\n",
    "        cup+=1\n",
    "    elif i=='Pack':\n",
    "        pack+=1\n",
    "    elif i=='Tray':\n",
    "        tray+=1\n",
    "    elif i=='Box':\n",
    "        box+=1\n",
    "    elif i=='Can':\n",
    "        can+=1\n",
    "    elif i=='Bar':\n",
    "        bar+=1\n",
    "    else:\n",
    "        unknown+=1\n",
    "    \n",
    "total=bowl+cup+pack+tray+box+can+bar+unknown\n",
    "relunknown=(unknown/total)*100\n",
    "relcan=(can/total)*100\n",
    "reltray=(tray/total)*100\n",
    "relbox=(box/total)*100\n",
    "relbar=(bar/total)*100\n",
    "relpack=(pack/total)*100\n",
    "relcup=(cup/total)*100\n",
    "relbowl=(bowl/total)*100\n",
    "\n",
    "style={'Style': ['bowl', 'cup', 'tray', 'pack', 'box', 'can', 'bar', 'unknown'], 'Frequency':[bowl, cup, tray, pack, box, can, bar, unknown], 'Relative Frequency(%)':[relbowl, relcup, reltray, relpack, relbox, relcan, relbar, relunknown]}\n",
    "print(f'Style & freqency: {style}')\n",
    "print(f'Total data: {len(df)}')\n",
    "print(f'Total counted: {total}')\n",
    "if total==len(df):\n",
    "    print(\"Totals align. Proceed to question.\")"
   ]
  },
  {
   "cell_type": "code",
   "execution_count": 66,
   "id": "d4292fff",
   "metadata": {},
   "outputs": [
    {
     "name": "stdout",
     "output_type": "stream",
     "text": [
      "     Style  Frequency  Relative Frequency(%)\n",
      "0     bowl        481              18.643411\n",
      "1      cup        450              17.441860\n",
      "2     tray        108               4.186047\n",
      "3     pack       1531              59.341085\n",
      "4      box          6               0.232558\n",
      "5      can          1               0.038760\n",
      "6      bar          1               0.038760\n",
      "7  unknown          2               0.077519\n"
     ]
    }
   ],
   "source": [
    "#starting with relative frequency table to see relative frequencies of each style\n",
    "dfstyle=pd.DataFrame(style)\n",
    "print(dfstyle)\n",
    "    "
   ]
  },
  {
   "cell_type": "code",
   "execution_count": 67,
   "id": "f8967264",
   "metadata": {},
   "outputs": [
    {
     "data": {
      "text/plain": [
       "<AxesSubplot:xlabel='Style', ylabel='Frequency'>"
      ]
     },
     "execution_count": 67,
     "metadata": {},
     "output_type": "execute_result"
    },
    {
     "data": {
      "image/png": "[encoded data removed]",
      "text/plain": [
       "<Figure size 640x480 with 1 Axes>"
      ]
     },
     "metadata": {},
     "output_type": "display_data"
    }
   ],
   "source": [
    "sb.barplot(data=dfstyle, x=\"Style\", y='Frequency')\n"
   ]
  },
  {
   "cell_type": "code",
   "execution_count": null,
   "id": "cec77ad5",
   "metadata": {},
   "outputs": [],
   "source": []
  },
  {
   "cell_type": "code",
   "execution_count": null,
   "id": "9462b6b0",
   "metadata": {},
   "outputs": [],
   "source": []
  },
  {
   "cell_type": "markdown",
   "id": "77e676b2",
   "metadata": {},
   "source": [
    "# My Answer"
   ]
  },
  {
   "cell_type": "markdown",
   "id": "16aec0ac",
   "metadata": {},
   "source": [
    "The total amount of ramen reviewed is 2580. The different styles are bowl, cup, tray, pack, box, can, bar, and other. Of those different styles, pack is the most popular and makes up 59.341% of the data. Bowl and cup counts are relatively similar with bowl occuring 481 times (18.643%) and cup occuring 450 times (17.441%). Can and bar are the least popular both with only 1 count (0.038%). All of this can be easily compared and understood by looking at the bar graph."
   ]
  }
 ],
 "metadata": {
  "kernelspec": {
   "display_name": "Python 3 (ipykernel)",
   "language": "python",
   "name": "python3"
  },
  "language_info": {
   "codemirror_mode": {
    "name": "ipython",
    "version": 3
   },
   "file_extension": ".py",
   "mimetype": "text/x-python",
   "name": "python",
   "nbconvert_exporter": "python",
   "pygments_lexer": "ipython3",
   "version": "3.9.13"
  }
 },
 "nbformat": 4,
 "nbformat_minor": 5
}
