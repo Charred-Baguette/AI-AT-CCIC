{
 "cells": [
  {
   "cell_type": "code",
   "execution_count": 1,
   "id": "9a992afa",
   "metadata": {},
   "outputs": [],
   "source": [
    "import requests\n",
    "from bs4 import BeautifulSoup\n",
    "import random\n",
    "from tqdm import tqdm\n",
    "import pandas\n"
   ]
  },
  {
   "cell_type": "markdown",
   "id": "fa2d4e1f",
   "metadata": {},
   "source": [
    "Should you go to Mines or Boulder?"
   ]
  },
  {
   "cell_type": "code",
   "execution_count": 8,
   "id": "0b533fae",
   "metadata": {},
   "outputs": [
    {
     "name": "stdout",
     "output_type": "stream",
     "text": [
      "HTTP Response Status Code: 200\n",
      "Full API Response: {\"metadata\":{\"page\":0,\"total\":1,\"per_page\":20},\"results\":[{\"school.name\":\"Colorado School of Mines\",\"id\":126775}]}\n",
      "API Data for Colorado School of Mines:\n",
      "  Median Debt (CS): Data not available\n",
      "  Median Earnings (CS): Data not available\n",
      "HTTP Response Status Code: 200\n",
      "Full API Response: {\"metadata\":{\"page\":0,\"total\":1,\"per_page\":20},\"results\":[{\"school.name\":\"University of Colorado Boulder\",\"id\":126614}]}\n",
      "API Data for University of Colorado Boulder:\n",
      "  Median Debt (CS): Data not available\n",
      "  Median Earnings (CS): Data not available\n",
      "\n",
      "Collected Data:\n",
      "{'College': ['Colorado School of Mines', 'University of Colorado Boulder'], 'Median Debt (CS)': ['Data not available', 'Data not available'], 'Median Earnings (CS)': ['Data not available', 'Data not available']}\n"
     ]
    }
   ],
   "source": [
    "api_url = 'https://api.data.gov/ed/collegescorecard/v1/schools'\n",
    "api_key='oqaiUZhYmvyPfyIw43pYx3Smga15vRSWVhLDIJlg'\n",
    "\n",
    "career_length=35\n",
    "college_length=7\n",
    "school_names = [\"Colorado School of Mines\", \"University of Colorado Boulder\"]\n",
    "\n",
    "data = {\n",
    "    'College': school_names,\n",
    "    'Median Debt (CS)': [],\n",
    "    'Median Earnings (CS)': [],\n",
    "}\n",
    "\n",
    "\n",
    "def get_college_data(school_name):\n",
    "    params = {\n",
    "        'api_key': api_key,\n",
    "        'school.name': school_name,\n",
    "        'fields': 'id,school.name,latest.median_debt,latest.median_earnings,fields_of_study'\n",
    "    }\n",
    "    response = requests.get(api_url, params=params)\n",
    "\n",
    "    # Print the HTTP response status code and full response for debugging\n",
    "    print(f\"HTTP Response Status Code: {response.status_code}\")\n",
    "    print(f\"Full API Response: {response.text}\")  # Print the raw response text\n",
    "\n",
    "    if response.status_code == 200:\n",
    "        data = response.json()\n",
    "        return data\n",
    "    else:\n",
    "        print(f\"Error fetching data for {school_name}: {response.status_code}\")\n",
    "        return None\n",
    "\n",
    "# Iterate over each school\n",
    "for i, school_name in enumerate(data['College']):\n",
    "    # Step 1: Fetch college data from the API\n",
    "    college_data = get_college_data(school_name)\n",
    "    if college_data:\n",
    "        # Extract the relevant data from the API response\n",
    "        median_debt = college_data.get('latest', {}).get('median_debt', 'Data not available')\n",
    "        median_earnings = college_data.get('latest', {}).get('median_earnings', 'Data not available')\n",
    "\n",
    "        # Filter for Computer Science or related fields in 'fields_of_study'\n",
    "        if 'fields_of_study' in college_data:\n",
    "            found_cs = False\n",
    "            for program in college_data['fields_of_study']:\n",
    "                if 'Computer Science' in program.get('program_name', '').lower():\n",
    "                    median_debt = program.get('median_debt', 'Data not available')\n",
    "                    median_earnings = program.get('median_earnings', 'Data not available')\n",
    "                    found_cs = True\n",
    "                    break\n",
    "            \n",
    "            # If no Computer Science field found, keep the general data\n",
    "            if not found_cs:\n",
    "                median_debt = 'Computer Science data not available'\n",
    "                median_earnings = 'Computer Science data not available'\n",
    "\n",
    "        data['Median Debt (CS)'].append(median_debt)\n",
    "        data['Median Earnings (CS)'].append(median_earnings)\n",
    "\n",
    "        print(f\"API Data for {school_name}:\")\n",
    "        print(f\"  Median Debt (CS): {median_debt}\")\n",
    "        print(f\"  Median Earnings (CS): {median_earnings}\")\n",
    "    else:\n",
    "        data['Median Debt (CS)'].append('Data not available')\n",
    "        data['Median Earnings (CS)'].append('Data not available')\n",
    "\n",
    "# Print collected data\n",
    "print(\"\\nCollected Data:\")\n",
    "print(data)"
   ]
  },
  {
   "cell_type": "code",
   "execution_count": null,
   "id": "babd713e",
   "metadata": {},
   "outputs": [],
   "source": []
  }
 ],
 "metadata": {
  "kernelspec": {
   "display_name": "Python 3 (ipykernel)",
   "language": "python",
   "name": "python3"
  },
  "language_info": {
   "codemirror_mode": {
    "name": "ipython",
    "version": 3
   },
   "file_extension": ".py",
   "mimetype": "text/x-python",
   "name": "python",
   "nbconvert_exporter": "python",
   "pygments_lexer": "ipython3",
   "version": "3.9.13"
  }
 },
 "nbformat": 4,
 "nbformat_minor": 5
}
