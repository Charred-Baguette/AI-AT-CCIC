{
 "cells": [
  {
   "cell_type": "code",
   "execution_count": 1,
   "id": "5bfcb24c",
   "metadata": {},
   "outputs": [],
   "source": [
    "import requests\n",
    "from bs4 import BeautifulSoup\n",
    "import pandas as pd\n",
    "import random\n",
    "from tqdm import tqdm"
   ]
  },
  {
   "cell_type": "markdown",
   "id": "9f8e9dda",
   "metadata": {},
   "source": [
    "Write the Python program you would need to scrape the following web page for the number of wins earned by each team listed in the table. Your program should ultimately produce a dataframe of this data by the time it is done executing. https://www.scrapethissite.com/pages/forms/"
   ]
  },
  {
   "cell_type": "code",
   "execution_count": null,
   "id": "3b21f25e",
   "metadata": {},
   "outputs": [],
   "source": []
  },
  {
   "cell_type": "code",
   "execution_count": 26,
   "id": "958df41c",
   "metadata": {},
   "outputs": [],
   "source": [
    "hockey={'team': [], 'wins': [], 'year':[]}\n",
    "for i in range(1,24):\n",
    "    url=f'https://www.scrapethissite.com/pages/forms/?page_num={i}'\n",
    "    response=requests.get(url)\n",
    "    soup = BeautifulSoup(response.text, 'html.parser')\n",
    "    teams = soup.find_all('tr', class_='team')\n",
    "    for team in teams:\n",
    "        teamname=team.find('td', class_='name').text.strip()\n",
    "        wins=team.find('td', class_='wins').text.strip()\n",
    "        year=team.find('td', class_='year').text.strip()\n",
    "        hockey['team'].append(teamname)\n",
    "        hockey['wins'].append(wins)\n",
    "        hockey['year'].append(year)\n",
    "        \n",
    "df=pd.DataFrame(hockey)"
   ]
  },
  {
   "cell_type": "code",
   "execution_count": 27,
   "id": "fafa00c9",
   "metadata": {},
   "outputs": [
    {
     "data": {
      "text/html": [
       "<div>\n",
       "<style scoped>\n",
       "    .dataframe tbody tr th:only-of-type {\n",
       "        vertical-align: middle;\n",
       "    }\n",
       "\n",
       "    .dataframe tbody tr th {\n",
       "        vertical-align: top;\n",
       "    }\n",
       "\n",
       "    .dataframe thead th {\n",
       "        text-align: right;\n",
       "    }\n",
       "</style>\n",
       "<table border=\"1\" class=\"dataframe\">\n",
       "  <thead>\n",
       "    <tr style=\"text-align: right;\">\n",
       "      <th></th>\n",
       "      <th>team</th>\n",
       "      <th>wins</th>\n",
       "      <th>year</th>\n",
       "    </tr>\n",
       "  </thead>\n",
       "  <tbody>\n",
       "    <tr>\n",
       "      <th>0</th>\n",
       "      <td>Boston Bruins</td>\n",
       "      <td>44</td>\n",
       "      <td>1990</td>\n",
       "    </tr>\n",
       "    <tr>\n",
       "      <th>1</th>\n",
       "      <td>Buffalo Sabres</td>\n",
       "      <td>31</td>\n",
       "      <td>1990</td>\n",
       "    </tr>\n",
       "    <tr>\n",
       "      <th>2</th>\n",
       "      <td>Calgary Flames</td>\n",
       "      <td>46</td>\n",
       "      <td>1990</td>\n",
       "    </tr>\n",
       "    <tr>\n",
       "      <th>3</th>\n",
       "      <td>Chicago Blackhawks</td>\n",
       "      <td>49</td>\n",
       "      <td>1990</td>\n",
       "    </tr>\n",
       "    <tr>\n",
       "      <th>4</th>\n",
       "      <td>Detroit Red Wings</td>\n",
       "      <td>34</td>\n",
       "      <td>1990</td>\n",
       "    </tr>\n",
       "    <tr>\n",
       "      <th>...</th>\n",
       "      <td>...</td>\n",
       "      <td>...</td>\n",
       "      <td>...</td>\n",
       "    </tr>\n",
       "    <tr>\n",
       "      <th>570</th>\n",
       "      <td>New York Rangers</td>\n",
       "      <td>51</td>\n",
       "      <td>2011</td>\n",
       "    </tr>\n",
       "    <tr>\n",
       "      <th>571</th>\n",
       "      <td>Ottawa Senators</td>\n",
       "      <td>41</td>\n",
       "      <td>2011</td>\n",
       "    </tr>\n",
       "    <tr>\n",
       "      <th>572</th>\n",
       "      <td>Philadelphia Flyers</td>\n",
       "      <td>47</td>\n",
       "      <td>2011</td>\n",
       "    </tr>\n",
       "    <tr>\n",
       "      <th>573</th>\n",
       "      <td>Phoenix Coyotes</td>\n",
       "      <td>42</td>\n",
       "      <td>2011</td>\n",
       "    </tr>\n",
       "    <tr>\n",
       "      <th>574</th>\n",
       "      <td>Pittsburgh Penguins</td>\n",
       "      <td>51</td>\n",
       "      <td>2011</td>\n",
       "    </tr>\n",
       "  </tbody>\n",
       "</table>\n",
       "<p>575 rows × 3 columns</p>\n",
       "</div>"
      ],
      "text/plain": [
       "                    team wins  year\n",
       "0          Boston Bruins   44  1990\n",
       "1         Buffalo Sabres   31  1990\n",
       "2         Calgary Flames   46  1990\n",
       "3     Chicago Blackhawks   49  1990\n",
       "4      Detroit Red Wings   34  1990\n",
       "..                   ...  ...   ...\n",
       "570     New York Rangers   51  2011\n",
       "571      Ottawa Senators   41  2011\n",
       "572  Philadelphia Flyers   47  2011\n",
       "573      Phoenix Coyotes   42  2011\n",
       "574  Pittsburgh Penguins   51  2011\n",
       "\n",
       "[575 rows x 3 columns]"
      ]
     },
     "execution_count": 27,
     "metadata": {},
     "output_type": "execute_result"
    }
   ],
   "source": [
    "df"
   ]
  },
  {
   "cell_type": "code",
   "execution_count": 41,
   "id": "3ad4b09e",
   "metadata": {},
   "outputs": [
    {
     "name": "stderr",
     "output_type": "stream",
     "text": [
      "Processing...: 100%|██████████| 5000000/5000000 [00:23<00:00, 211843.34it/s]"
     ]
    },
    {
     "name": "stdout",
     "output_type": "stream",
     "text": [
      "0.378708\n"
     ]
    },
    {
     "name": "stderr",
     "output_type": "stream",
     "text": [
      "\n"
     ]
    }
   ],
   "source": [
    "results=0\n",
    "with tqdm(total=5000000, desc=\"Processing...\") as pbar:\n",
    "    for i in range(5000000):\n",
    "        yearselected=[]\n",
    "        tmp=0\n",
    "        for i in range(3):\n",
    "            teamc = random.choice(range(len(hockey['team'])))\n",
    "            team = hockey['team'][teamc]\n",
    "            year = hockey['year'][teamc]\n",
    "            wins = hockey['wins'][teamc]\n",
    "            if year not in yearselected:\n",
    "                yearselected.append(year)\n",
    "                if int(wins) > 30:\n",
    "                    tmp += 1\n",
    "            if tmp==3:\n",
    "                results+=1\n",
    "        pbar.update(1)\n",
    "fin=results/5000000\n",
    "print(fin)"
   ]
  },
  {
   "cell_type": "markdown",
   "id": "8d70ea43",
   "metadata": {},
   "source": []
  },
  {
   "cell_type": "code",
   "execution_count": null,
   "id": "6cfd1dbe",
   "metadata": {},
   "outputs": [],
   "source": []
  }
 ],
 "metadata": {
  "kernelspec": {
   "display_name": "Python 3 (ipykernel)",
   "language": "python",
   "name": "python3"
  },
  "language_info": {
   "codemirror_mode": {
    "name": "ipython",
    "version": 3
   },
   "file_extension": ".py",
   "mimetype": "text/x-python",
   "name": "python",
   "nbconvert_exporter": "python",
   "pygments_lexer": "ipython3",
   "version": "3.9.13"
  }
 },
 "nbformat": 4,
 "nbformat_minor": 5
}
