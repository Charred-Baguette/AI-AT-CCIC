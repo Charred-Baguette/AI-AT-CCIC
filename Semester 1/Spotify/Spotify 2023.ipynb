{
 "cells": [
  {
   "cell_type": "code",
   "execution_count": 1,
   "id": "ba1d2f5e",
   "metadata": {},
   "outputs": [],
   "source": [
    "#imports \n",
    "import pandas as pd\n",
    "import seaborn as sb\n",
    "import matplotlib.pyplot as plt\n",
    "df = pd.read_csv('spotify2023.csv', encoding='latin-1')\n"
   ]
  },
  {
   "cell_type": "code",
   "execution_count": 2,
   "id": "7caff0cf",
   "metadata": {},
   "outputs": [
    {
     "data": {
      "text/html": [
       "<div>\n",
       "<style scoped>\n",
       "    .dataframe tbody tr th:only-of-type {\n",
       "        vertical-align: middle;\n",
       "    }\n",
       "\n",
       "    .dataframe tbody tr th {\n",
       "        vertical-align: top;\n",
       "    }\n",
       "\n",
       "    .dataframe thead th {\n",
       "        text-align: right;\n",
       "    }\n",
       "</style>\n",
       "<table border=\"1\" class=\"dataframe\">\n",
       "  <thead>\n",
       "    <tr style=\"text-align: right;\">\n",
       "      <th></th>\n",
       "      <th>track_name</th>\n",
       "      <th>artist(s)_name</th>\n",
       "      <th>artist_count</th>\n",
       "      <th>released_year</th>\n",
       "      <th>released_month</th>\n",
       "      <th>released_day</th>\n",
       "      <th>in_spotify_playlists</th>\n",
       "      <th>in_spotify_charts</th>\n",
       "      <th>streams</th>\n",
       "      <th>in_apple_playlists</th>\n",
       "      <th>...</th>\n",
       "      <th>bpm</th>\n",
       "      <th>key</th>\n",
       "      <th>mode</th>\n",
       "      <th>danceability_%</th>\n",
       "      <th>valence_%</th>\n",
       "      <th>energy_%</th>\n",
       "      <th>acousticness_%</th>\n",
       "      <th>instrumentalness_%</th>\n",
       "      <th>liveness_%</th>\n",
       "      <th>speechiness_%</th>\n",
       "    </tr>\n",
       "  </thead>\n",
       "  <tbody>\n",
       "    <tr>\n",
       "      <th>0</th>\n",
       "      <td>Seven (feat. Latto) (Explicit Ver.)</td>\n",
       "      <td>Latto, Jung Kook</td>\n",
       "      <td>2</td>\n",
       "      <td>2023</td>\n",
       "      <td>7</td>\n",
       "      <td>14</td>\n",
       "      <td>553</td>\n",
       "      <td>147</td>\n",
       "      <td>141381703</td>\n",
       "      <td>43</td>\n",
       "      <td>...</td>\n",
       "      <td>125</td>\n",
       "      <td>B</td>\n",
       "      <td>Major</td>\n",
       "      <td>80</td>\n",
       "      <td>89</td>\n",
       "      <td>83</td>\n",
       "      <td>31</td>\n",
       "      <td>0</td>\n",
       "      <td>8</td>\n",
       "      <td>4</td>\n",
       "    </tr>\n",
       "    <tr>\n",
       "      <th>1</th>\n",
       "      <td>LALA</td>\n",
       "      <td>Myke Towers</td>\n",
       "      <td>1</td>\n",
       "      <td>2023</td>\n",
       "      <td>3</td>\n",
       "      <td>23</td>\n",
       "      <td>1474</td>\n",
       "      <td>48</td>\n",
       "      <td>133716286</td>\n",
       "      <td>48</td>\n",
       "      <td>...</td>\n",
       "      <td>92</td>\n",
       "      <td>C#</td>\n",
       "      <td>Major</td>\n",
       "      <td>71</td>\n",
       "      <td>61</td>\n",
       "      <td>74</td>\n",
       "      <td>7</td>\n",
       "      <td>0</td>\n",
       "      <td>10</td>\n",
       "      <td>4</td>\n",
       "    </tr>\n",
       "    <tr>\n",
       "      <th>2</th>\n",
       "      <td>vampire</td>\n",
       "      <td>Olivia Rodrigo</td>\n",
       "      <td>1</td>\n",
       "      <td>2023</td>\n",
       "      <td>6</td>\n",
       "      <td>30</td>\n",
       "      <td>1397</td>\n",
       "      <td>113</td>\n",
       "      <td>140003974</td>\n",
       "      <td>94</td>\n",
       "      <td>...</td>\n",
       "      <td>138</td>\n",
       "      <td>F</td>\n",
       "      <td>Major</td>\n",
       "      <td>51</td>\n",
       "      <td>32</td>\n",
       "      <td>53</td>\n",
       "      <td>17</td>\n",
       "      <td>0</td>\n",
       "      <td>31</td>\n",
       "      <td>6</td>\n",
       "    </tr>\n",
       "    <tr>\n",
       "      <th>3</th>\n",
       "      <td>Cruel Summer</td>\n",
       "      <td>Taylor Swift</td>\n",
       "      <td>1</td>\n",
       "      <td>2019</td>\n",
       "      <td>8</td>\n",
       "      <td>23</td>\n",
       "      <td>7858</td>\n",
       "      <td>100</td>\n",
       "      <td>800840817</td>\n",
       "      <td>116</td>\n",
       "      <td>...</td>\n",
       "      <td>170</td>\n",
       "      <td>A</td>\n",
       "      <td>Major</td>\n",
       "      <td>55</td>\n",
       "      <td>58</td>\n",
       "      <td>72</td>\n",
       "      <td>11</td>\n",
       "      <td>0</td>\n",
       "      <td>11</td>\n",
       "      <td>15</td>\n",
       "    </tr>\n",
       "    <tr>\n",
       "      <th>4</th>\n",
       "      <td>WHERE SHE GOES</td>\n",
       "      <td>Bad Bunny</td>\n",
       "      <td>1</td>\n",
       "      <td>2023</td>\n",
       "      <td>5</td>\n",
       "      <td>18</td>\n",
       "      <td>3133</td>\n",
       "      <td>50</td>\n",
       "      <td>303236322</td>\n",
       "      <td>84</td>\n",
       "      <td>...</td>\n",
       "      <td>144</td>\n",
       "      <td>A</td>\n",
       "      <td>Minor</td>\n",
       "      <td>65</td>\n",
       "      <td>23</td>\n",
       "      <td>80</td>\n",
       "      <td>14</td>\n",
       "      <td>63</td>\n",
       "      <td>11</td>\n",
       "      <td>6</td>\n",
       "    </tr>\n",
       "  </tbody>\n",
       "</table>\n",
       "<p>5 rows × 24 columns</p>\n",
       "</div>"
      ],
      "text/plain": [
       "                            track_name    artist(s)_name  artist_count  \\\n",
       "0  Seven (feat. Latto) (Explicit Ver.)  Latto, Jung Kook             2   \n",
       "1                                 LALA       Myke Towers             1   \n",
       "2                              vampire    Olivia Rodrigo             1   \n",
       "3                         Cruel Summer      Taylor Swift             1   \n",
       "4                       WHERE SHE GOES         Bad Bunny             1   \n",
       "\n",
       "   released_year  released_month  released_day  in_spotify_playlists  \\\n",
       "0           2023               7            14                   553   \n",
       "1           2023               3            23                  1474   \n",
       "2           2023               6            30                  1397   \n",
       "3           2019               8            23                  7858   \n",
       "4           2023               5            18                  3133   \n",
       "\n",
       "   in_spotify_charts    streams  in_apple_playlists  ...  bpm key   mode  \\\n",
       "0                147  141381703                  43  ...  125   B  Major   \n",
       "1                 48  133716286                  48  ...   92  C#  Major   \n",
       "2                113  140003974                  94  ...  138   F  Major   \n",
       "3                100  800840817                 116  ...  170   A  Major   \n",
       "4                 50  303236322                  84  ...  144   A  Minor   \n",
       "\n",
       "  danceability_%  valence_% energy_% acousticness_%  instrumentalness_%  \\\n",
       "0             80         89       83             31                   0   \n",
       "1             71         61       74              7                   0   \n",
       "2             51         32       53             17                   0   \n",
       "3             55         58       72             11                   0   \n",
       "4             65         23       80             14                  63   \n",
       "\n",
       "   liveness_%  speechiness_%  \n",
       "0           8              4  \n",
       "1          10              4  \n",
       "2          31              6  \n",
       "3          11             15  \n",
       "4          11              6  \n",
       "\n",
       "[5 rows x 24 columns]"
      ]
     },
     "execution_count": 2,
     "metadata": {},
     "output_type": "execute_result"
    }
   ],
   "source": [
    "#standard info\n",
    "df.head()"
   ]
  },
  {
   "cell_type": "code",
   "execution_count": 3,
   "id": "bf15853a",
   "metadata": {},
   "outputs": [
    {
     "name": "stdout",
     "output_type": "stream",
     "text": [
      "Which sample?9\n",
      "track_name              fukumean\n",
      "artist(s)_name             Gunna\n",
      "artist_count                   1\n",
      "released_year               2023\n",
      "released_month                 5\n",
      "released_day                  15\n",
      "in_spotify_playlists        1096\n",
      "in_spotify_charts             83\n",
      "streams                 95217315\n",
      "in_apple_playlists            60\n",
      "in_apple_charts              210\n",
      "in_deezer_playlists           48\n",
      "in_deezer_charts              11\n",
      "in_shazam_charts             953\n",
      "bpm                          130\n",
      "key                           C#\n",
      "mode                       Minor\n",
      "danceability_%                85\n",
      "valence_%                     22\n",
      "energy_%                      62\n",
      "acousticness_%                12\n",
      "instrumentalness_%             0\n",
      "liveness_%                    28\n",
      "speechiness_%                  9\n",
      "Name: 8, dtype: object\n"
     ]
    }
   ],
   "source": [
    "#check specific sample\n",
    "print(df.loc[(int(input(\"Which sample?\"))-1)])"
   ]
  },
  {
   "cell_type": "code",
   "execution_count": 4,
   "id": "7015246a",
   "metadata": {},
   "outputs": [
    {
     "data": {
      "text/plain": [
       "<bound method DataFrame.info of                               track_name      artist(s)_name  artist_count  \\\n",
       "0    Seven (feat. Latto) (Explicit Ver.)    Latto, Jung Kook             2   \n",
       "1                                   LALA         Myke Towers             1   \n",
       "2                                vampire      Olivia Rodrigo             1   \n",
       "3                           Cruel Summer        Taylor Swift             1   \n",
       "4                         WHERE SHE GOES           Bad Bunny             1   \n",
       "..                                   ...                 ...           ...   \n",
       "948                         My Mind & Me        Selena Gomez             1   \n",
       "949            Bigger Than The Whole Sky        Taylor Swift             1   \n",
       "950                 A Veces (feat. Feid)  Feid, Paulo Londra             2   \n",
       "951                        En La De Ella  Feid, Sech, Jhayco             3   \n",
       "952                                Alone           Burna Boy             1   \n",
       "\n",
       "     released_year  released_month  released_day  in_spotify_playlists  \\\n",
       "0             2023               7            14                   553   \n",
       "1             2023               3            23                  1474   \n",
       "2             2023               6            30                  1397   \n",
       "3             2019               8            23                  7858   \n",
       "4             2023               5            18                  3133   \n",
       "..             ...             ...           ...                   ...   \n",
       "948           2022              11             3                   953   \n",
       "949           2022              10            21                  1180   \n",
       "950           2022              11             3                   573   \n",
       "951           2022              10            20                  1320   \n",
       "952           2022              11             4                   782   \n",
       "\n",
       "     in_spotify_charts    streams  in_apple_playlists  ...  bpm key   mode  \\\n",
       "0                  147  141381703                  43  ...  125   B  Major   \n",
       "1                   48  133716286                  48  ...   92  C#  Major   \n",
       "2                  113  140003974                  94  ...  138   F  Major   \n",
       "3                  100  800840817                 116  ...  170   A  Major   \n",
       "4                   50  303236322                  84  ...  144   A  Minor   \n",
       "..                 ...        ...                 ...  ...  ...  ..    ...   \n",
       "948                  0   91473363                  61  ...  144   A  Major   \n",
       "949                  0  121871870                   4  ...  166  F#  Major   \n",
       "950                  0   73513683                   2  ...   92  C#  Major   \n",
       "951                  0  133895612                  29  ...   97  C#  Major   \n",
       "952                  2   96007391                  27  ...   90   E  Minor   \n",
       "\n",
       "    danceability_%  valence_% energy_% acousticness_%  instrumentalness_%  \\\n",
       "0               80         89       83             31                   0   \n",
       "1               71         61       74              7                   0   \n",
       "2               51         32       53             17                   0   \n",
       "3               55         58       72             11                   0   \n",
       "4               65         23       80             14                  63   \n",
       "..             ...        ...      ...            ...                 ...   \n",
       "948             60         24       39             57                   0   \n",
       "949             42          7       24             83                   1   \n",
       "950             80         81       67              4                   0   \n",
       "951             82         67       77              8                   0   \n",
       "952             61         32       67             15                   0   \n",
       "\n",
       "     liveness_%  speechiness_%  \n",
       "0             8              4  \n",
       "1            10              4  \n",
       "2            31              6  \n",
       "3            11             15  \n",
       "4            11              6  \n",
       "..          ...            ...  \n",
       "948           8              3  \n",
       "949          12              6  \n",
       "950           8              6  \n",
       "951          12              5  \n",
       "952          11              5  \n",
       "\n",
       "[953 rows x 24 columns]>"
      ]
     },
     "execution_count": 4,
     "metadata": {},
     "output_type": "execute_result"
    }
   ],
   "source": [
    "df.info"
   ]
  },
  {
   "cell_type": "code",
   "execution_count": 12,
   "id": "95acbaca",
   "metadata": {
    "scrolled": true
   },
   "outputs": [
    {
     "data": {
      "image/png": "[encoded data removed]",
      "text/plain": [
       "<Figure size 640x480 with 1 Axes>"
      ]
     },
     "metadata": {},
     "output_type": "display_data"
    }
   ],
   "source": [
    "sb.histplot(data=df, x=\"energy_%\")\n",
    "plt.show()"
   ]
  },
  {
   "cell_type": "code",
   "execution_count": 4,
   "id": "b282ceaf",
   "metadata": {},
   "outputs": [],
   "source": [
    "df[\"streams\"]=df[\"streams\"].str.replace(',',\"\")\n",
    "df[\"streams\"]= pd.to_numeric(df[\"streams\"], errors=\"coerce\")"
   ]
  },
  {
   "cell_type": "code",
   "execution_count": 5,
   "id": "eb1bfe9c",
   "metadata": {},
   "outputs": [
    {
     "name": "stdout",
     "output_type": "stream",
     "text": [
      "{'Min': 2762.0, 'first quartile': 141636175.0, 'median': 290530915.0, 'third quartile': 673869022.0, 'Max': 3703895074.0}\n"
     ]
    },
    {
     "data": {
      "text/plain": [
       "<AxesSubplot:xlabel='streams'>"
      ]
     },
     "execution_count": 5,
     "metadata": {},
     "output_type": "execute_result"
    },
    {
     "data": {
      "image/png": "[encoded data removed]",
      "text/plain": [
       "<Figure size 640x480 with 1 Axes>"
      ]
     },
     "metadata": {},
     "output_type": "display_data"
    }
   ],
   "source": [
    "tmx=df['streams'].max()\n",
    "tmn=df['streams'].min()\n",
    "quart=df['streams'].quantile(.25)\n",
    "med=df['streams'].quantile(.5)\n",
    "highquart=df['streams'].quantile(.75)\n",
    "\n",
    "summary={\"Min\":tmn, \"first quartile\":quart, \"median\":med, \"third quartile\":highquart, \"Max\":tmx}\n",
    "print(summary)\n",
    "sb.boxplot(data=df, x='streams')"
   ]
  },
  {
   "cell_type": "markdown",
   "id": "4ab5cb9f",
   "metadata": {},
   "source": [
    "The 5 number summary suggests the distribution is quite large as the min amount of streams is 2762 while the max is 3703895074. The 5 number summary states the first quartile is 141636175, the median is 290530915, and the third quartile is 673869022.The 25-50 percentiles are closer than the 50-75 and 75-100 percentiles as can be seen in the 5 number summary and the boxplot which shows larger distribution. This can suggest the data is skewed right since a high concentration of the data is more to the left. "
   ]
  },
  {
   "cell_type": "code",
   "execution_count": 6,
   "id": "05ebcb2d",
   "metadata": {},
   "outputs": [
    {
     "data": {
      "text/plain": [
       "66.96956977964324"
      ]
     },
     "execution_count": 6,
     "metadata": {},
     "output_type": "execute_result"
    }
   ],
   "source": [
    "def meancalc(column):\n",
    "    tot=0\n",
    "    for num in df[column]:\n",
    "        tot=num+tot\n",
    "    mean=(tot/len(df))\n",
    "    return mean\n",
    "\n",
    "meancalc('danceability_%')"
   ]
  },
  {
   "cell_type": "code",
   "execution_count": 5,
   "id": "9bed0a2c",
   "metadata": {},
   "outputs": [
    {
     "name": "stdout",
     "output_type": "stream",
     "text": [
      "<class 'pandas.core.frame.DataFrame'>\n",
      "RangeIndex: 953 entries, 0 to 952\n",
      "Data columns (total 24 columns):\n",
      " #   Column                Non-Null Count  Dtype \n",
      "---  ------                --------------  ----- \n",
      " 0   track_name            953 non-null    object\n",
      " 1   artist(s)_name        953 non-null    object\n",
      " 2   artist_count          953 non-null    int64 \n",
      " 3   released_year         953 non-null    int64 \n",
      " 4   released_month        953 non-null    int64 \n",
      " 5   released_day          953 non-null    int64 \n",
      " 6   in_spotify_playlists  953 non-null    int64 \n",
      " 7   in_spotify_charts     953 non-null    int64 \n",
      " 8   streams               953 non-null    object\n",
      " 9   in_apple_playlists    953 non-null    int64 \n",
      " 10  in_apple_charts       953 non-null    int64 \n",
      " 11  in_deezer_playlists   953 non-null    object\n",
      " 12  in_deezer_charts      953 non-null    int64 \n",
      " 13  in_shazam_charts      903 non-null    object\n",
      " 14  bpm                   953 non-null    int64 \n",
      " 15  key                   858 non-null    object\n",
      " 16  mode                  953 non-null    object\n",
      " 17  danceability_%        953 non-null    int64 \n",
      " 18  valence_%             953 non-null    int64 \n",
      " 19  energy_%              953 non-null    int64 \n",
      " 20  acousticness_%        953 non-null    int64 \n",
      " 21  instrumentalness_%    953 non-null    int64 \n",
      " 22  liveness_%            953 non-null    int64 \n",
      " 23  speechiness_%         953 non-null    int64 \n",
      "dtypes: int64(17), object(7)\n",
      "memory usage: 178.8+ KB\n"
     ]
    }
   ],
   "source": [
    "df.info()"
   ]
  },
  {
   "cell_type": "code",
   "execution_count": 11,
   "id": "79f02e7f",
   "metadata": {},
   "outputs": [
    {
     "data": {
      "image/png": "[encoded data removed]",
      "text/plain": [
       "<Figure size 640x480 with 1 Axes>"
      ]
     },
     "metadata": {},
     "output_type": "display_data"
    }
   ],
   "source": [
    "def histoverlay(bottom, top, x, bins):\n",
    "    sb.histplot(data=bottom, x=x, bins=bins, color=\"orange\")\n",
    "    sb.histplot(data=top, x=x, bins=bins, color=\"blue\")\n",
    "df_winter=df[df['released_month']<=6]\n",
    "df_summer=df[df['released_month']>6]\n",
    "histoverlay(df_winter, df_summer, 'released_month', 6)"
   ]
  },
  {
   "cell_type": "code",
   "execution_count": 14,
   "id": "2c91020e",
   "metadata": {},
   "outputs": [
    {
     "data": {
      "image/png": "[encoded data removed]",
      "text/plain": [
       "<Figure size 640x480 with 1 Axes>"
      ]
     },
     "metadata": {},
     "output_type": "display_data"
    }
   ],
   "source": [
    "df_winter=df[df['released_month']<=6]\n",
    "df_summer=df[df['released_month']>6]\n",
    "histoverlay(df_winter, df_summer, 'valence_%', 10)"
   ]
  },
  {
   "cell_type": "code",
   "execution_count": null,
   "id": "bcdc917b",
   "metadata": {},
   "outputs": [],
   "source": []
  }
 ],
 "metadata": {
  "kernelspec": {
   "display_name": "Python 3 (ipykernel)",
   "language": "python",
   "name": "python3"
  },
  "language_info": {
   "codemirror_mode": {
    "name": "ipython",
    "version": 3
   },
   "file_extension": ".py",
   "mimetype": "text/x-python",
   "name": "python",
   "nbconvert_exporter": "python",
   "pygments_lexer": "ipython3",
   "version": "3.9.13"
  }
 },
 "nbformat": 4,
 "nbformat_minor": 5
}
