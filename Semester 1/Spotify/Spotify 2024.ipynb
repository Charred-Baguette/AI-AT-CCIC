{
 "cells": [
  {
   "cell_type": "code",
   "execution_count": 14,
   "id": "464cda20",
   "metadata": {},
   "outputs": [],
   "source": [
    "#imports \n",
    "import pandas as pd\n",
    "import seaborn as sb\n",
    "import matplotlib.pyplot as plt\n",
    "df = pd.read_csv('spotify2024.csv', encoding='latin-1')\n"
   ]
  },
  {
   "cell_type": "code",
   "execution_count": 15,
   "id": "c5a1dd83",
   "metadata": {},
   "outputs": [
    {
     "data": {
      "text/html": [
       "<div>\n",
       "<style scoped>\n",
       "    .dataframe tbody tr th:only-of-type {\n",
       "        vertical-align: middle;\n",
       "    }\n",
       "\n",
       "    .dataframe tbody tr th {\n",
       "        vertical-align: top;\n",
       "    }\n",
       "\n",
       "    .dataframe thead th {\n",
       "        text-align: right;\n",
       "    }\n",
       "</style>\n",
       "<table border=\"1\" class=\"dataframe\">\n",
       "  <thead>\n",
       "    <tr style=\"text-align: right;\">\n",
       "      <th></th>\n",
       "      <th>Track</th>\n",
       "      <th>Album Name</th>\n",
       "      <th>Artist</th>\n",
       "      <th>Release Date</th>\n",
       "      <th>ISRC</th>\n",
       "      <th>All Time Rank</th>\n",
       "      <th>Track Score</th>\n",
       "      <th>Spotify Streams</th>\n",
       "      <th>Spotify Playlist Count</th>\n",
       "      <th>Spotify Playlist Reach</th>\n",
       "      <th>...</th>\n",
       "      <th>SiriusXM Spins</th>\n",
       "      <th>Deezer Playlist Count</th>\n",
       "      <th>Deezer Playlist Reach</th>\n",
       "      <th>Amazon Playlist Count</th>\n",
       "      <th>Pandora Streams</th>\n",
       "      <th>Pandora Track Stations</th>\n",
       "      <th>Soundcloud Streams</th>\n",
       "      <th>Shazam Counts</th>\n",
       "      <th>TIDAL Popularity</th>\n",
       "      <th>Explicit Track</th>\n",
       "    </tr>\n",
       "  </thead>\n",
       "  <tbody>\n",
       "    <tr>\n",
       "      <th>0</th>\n",
       "      <td>MILLION DOLLAR BABY</td>\n",
       "      <td>Million Dollar Baby - Single</td>\n",
       "      <td>Tommy Richman</td>\n",
       "      <td>4/26/2024</td>\n",
       "      <td>QM24S2402528</td>\n",
       "      <td>1</td>\n",
       "      <td>725.4</td>\n",
       "      <td>390,470,936</td>\n",
       "      <td>30,716</td>\n",
       "      <td>196,631,588</td>\n",
       "      <td>...</td>\n",
       "      <td>684</td>\n",
       "      <td>62.0</td>\n",
       "      <td>17,598,718</td>\n",
       "      <td>114.0</td>\n",
       "      <td>18,004,655</td>\n",
       "      <td>22,931</td>\n",
       "      <td>4,818,457</td>\n",
       "      <td>2,669,262</td>\n",
       "      <td>NaN</td>\n",
       "      <td>0</td>\n",
       "    </tr>\n",
       "    <tr>\n",
       "      <th>1</th>\n",
       "      <td>Not Like Us</td>\n",
       "      <td>Not Like Us</td>\n",
       "      <td>Kendrick Lamar</td>\n",
       "      <td>5/4/2024</td>\n",
       "      <td>USUG12400910</td>\n",
       "      <td>2</td>\n",
       "      <td>545.9</td>\n",
       "      <td>323,703,884</td>\n",
       "      <td>28,113</td>\n",
       "      <td>174,597,137</td>\n",
       "      <td>...</td>\n",
       "      <td>3</td>\n",
       "      <td>67.0</td>\n",
       "      <td>10,422,430</td>\n",
       "      <td>111.0</td>\n",
       "      <td>7,780,028</td>\n",
       "      <td>28,444</td>\n",
       "      <td>6,623,075</td>\n",
       "      <td>1,118,279</td>\n",
       "      <td>NaN</td>\n",
       "      <td>1</td>\n",
       "    </tr>\n",
       "    <tr>\n",
       "      <th>2</th>\n",
       "      <td>i like the way you kiss me</td>\n",
       "      <td>I like the way you kiss me</td>\n",
       "      <td>Artemas</td>\n",
       "      <td>3/19/2024</td>\n",
       "      <td>QZJ842400387</td>\n",
       "      <td>3</td>\n",
       "      <td>538.4</td>\n",
       "      <td>601,309,283</td>\n",
       "      <td>54,331</td>\n",
       "      <td>211,607,669</td>\n",
       "      <td>...</td>\n",
       "      <td>536</td>\n",
       "      <td>136.0</td>\n",
       "      <td>36,321,847</td>\n",
       "      <td>172.0</td>\n",
       "      <td>5,022,621</td>\n",
       "      <td>5,639</td>\n",
       "      <td>7,208,651</td>\n",
       "      <td>5,285,340</td>\n",
       "      <td>NaN</td>\n",
       "      <td>0</td>\n",
       "    </tr>\n",
       "    <tr>\n",
       "      <th>3</th>\n",
       "      <td>Flowers</td>\n",
       "      <td>Flowers - Single</td>\n",
       "      <td>Miley Cyrus</td>\n",
       "      <td>1/12/2023</td>\n",
       "      <td>USSM12209777</td>\n",
       "      <td>4</td>\n",
       "      <td>444.9</td>\n",
       "      <td>2,031,280,633</td>\n",
       "      <td>269,802</td>\n",
       "      <td>136,569,078</td>\n",
       "      <td>...</td>\n",
       "      <td>2,182</td>\n",
       "      <td>264.0</td>\n",
       "      <td>24,684,248</td>\n",
       "      <td>210.0</td>\n",
       "      <td>190,260,277</td>\n",
       "      <td>203,384</td>\n",
       "      <td>NaN</td>\n",
       "      <td>11,822,942</td>\n",
       "      <td>NaN</td>\n",
       "      <td>0</td>\n",
       "    </tr>\n",
       "    <tr>\n",
       "      <th>4</th>\n",
       "      <td>Houdini</td>\n",
       "      <td>Houdini</td>\n",
       "      <td>Eminem</td>\n",
       "      <td>5/31/2024</td>\n",
       "      <td>USUG12403398</td>\n",
       "      <td>5</td>\n",
       "      <td>423.3</td>\n",
       "      <td>107,034,922</td>\n",
       "      <td>7,223</td>\n",
       "      <td>151,469,874</td>\n",
       "      <td>...</td>\n",
       "      <td>1</td>\n",
       "      <td>82.0</td>\n",
       "      <td>17,660,624</td>\n",
       "      <td>105.0</td>\n",
       "      <td>4,493,884</td>\n",
       "      <td>7,006</td>\n",
       "      <td>207,179</td>\n",
       "      <td>457,017</td>\n",
       "      <td>NaN</td>\n",
       "      <td>1</td>\n",
       "    </tr>\n",
       "  </tbody>\n",
       "</table>\n",
       "<p>5 rows × 29 columns</p>\n",
       "</div>"
      ],
      "text/plain": [
       "                        Track                    Album Name          Artist  \\\n",
       "0         MILLION DOLLAR BABY  Million Dollar Baby - Single   Tommy Richman   \n",
       "1                 Not Like Us                   Not Like Us  Kendrick Lamar   \n",
       "2  i like the way you kiss me    I like the way you kiss me         Artemas   \n",
       "3                     Flowers              Flowers - Single     Miley Cyrus   \n",
       "4                     Houdini                       Houdini          Eminem   \n",
       "\n",
       "  Release Date          ISRC All Time Rank  Track Score Spotify Streams  \\\n",
       "0    4/26/2024  QM24S2402528             1        725.4     390,470,936   \n",
       "1     5/4/2024  USUG12400910             2        545.9     323,703,884   \n",
       "2    3/19/2024  QZJ842400387             3        538.4     601,309,283   \n",
       "3    1/12/2023  USSM12209777             4        444.9   2,031,280,633   \n",
       "4    5/31/2024  USUG12403398             5        423.3     107,034,922   \n",
       "\n",
       "  Spotify Playlist Count Spotify Playlist Reach  ...  SiriusXM Spins  \\\n",
       "0                 30,716            196,631,588  ...             684   \n",
       "1                 28,113            174,597,137  ...               3   \n",
       "2                 54,331            211,607,669  ...             536   \n",
       "3                269,802            136,569,078  ...           2,182   \n",
       "4                  7,223            151,469,874  ...               1   \n",
       "\n",
       "  Deezer Playlist Count Deezer Playlist Reach Amazon Playlist Count  \\\n",
       "0                  62.0            17,598,718                 114.0   \n",
       "1                  67.0            10,422,430                 111.0   \n",
       "2                 136.0            36,321,847                 172.0   \n",
       "3                 264.0            24,684,248                 210.0   \n",
       "4                  82.0            17,660,624                 105.0   \n",
       "\n",
       "  Pandora Streams Pandora Track Stations Soundcloud Streams  Shazam Counts  \\\n",
       "0      18,004,655                 22,931          4,818,457      2,669,262   \n",
       "1       7,780,028                 28,444          6,623,075      1,118,279   \n",
       "2       5,022,621                  5,639          7,208,651      5,285,340   \n",
       "3     190,260,277                203,384                NaN     11,822,942   \n",
       "4       4,493,884                  7,006            207,179        457,017   \n",
       "\n",
       "  TIDAL Popularity Explicit Track  \n",
       "0              NaN              0  \n",
       "1              NaN              1  \n",
       "2              NaN              0  \n",
       "3              NaN              0  \n",
       "4              NaN              1  \n",
       "\n",
       "[5 rows x 29 columns]"
      ]
     },
     "execution_count": 15,
     "metadata": {},
     "output_type": "execute_result"
    }
   ],
   "source": [
    "#standard info\n",
    "df.head()"
   ]
  },
  {
   "cell_type": "code",
   "execution_count": 3,
   "id": "1be8023a",
   "metadata": {},
   "outputs": [
    {
     "name": "stdout",
     "output_type": "stream",
     "text": [
      "Which sample?1\n",
      "Track                                  MILLION DOLLAR BABY\n",
      "Album Name                    Million Dollar Baby - Single\n",
      "Artist                                       Tommy Richman\n",
      "Release Date                                     4/26/2024\n",
      "ISRC                                          QM24S2402528\n",
      "All Time Rank                                            1\n",
      "Track Score                                          725.4\n",
      "Spotify Streams                                390,470,936\n",
      "Spotify Playlist Count                              30,716\n",
      "Spotify Playlist Reach                         196,631,588\n",
      "Spotify Popularity                                    92.0\n",
      "YouTube Views                                   84,274,754\n",
      "YouTube Likes                                    1,713,126\n",
      "TikTok Posts                                     5,767,700\n",
      "TikTok Likes                                   651,565,900\n",
      "TikTok Views                                 5,332,281,936\n",
      "YouTube Playlist Reach                         150,597,040\n",
      "Apple Music Playlist Count                           210.0\n",
      "AirPlay Spins                                       40,975\n",
      "SiriusXM Spins                                         684\n",
      "Deezer Playlist Count                                 62.0\n",
      "Deezer Playlist Reach                           17,598,718\n",
      "Amazon Playlist Count                                114.0\n",
      "Pandora Streams                                 18,004,655\n",
      "Pandora Track Stations                              22,931\n",
      "Soundcloud Streams                               4,818,457\n",
      "Shazam Counts                                    2,669,262\n",
      "TIDAL Popularity                                       NaN\n",
      "Explicit Track                                           0\n",
      "Name: 0, dtype: object\n"
     ]
    }
   ],
   "source": [
    "#check specific sample\n",
    "print(df.loc[(int(input(\"Which sample?\"))-1)])"
   ]
  },
  {
   "cell_type": "code",
   "execution_count": 7,
   "id": "02b42aeb",
   "metadata": {},
   "outputs": [
    {
     "data": {
      "text/plain": [
       "<bound method DataFrame.info of                                 Track                        Album Name  \\\n",
       "0                 MILLION DOLLAR BABY      Million Dollar Baby - Single   \n",
       "1                         Not Like Us                       Not Like Us   \n",
       "2          i like the way you kiss me        I like the way you kiss me   \n",
       "3                             Flowers                  Flowers - Single   \n",
       "4                             Houdini                           Houdini   \n",
       "...                               ...                               ...   \n",
       "4595                For the Last Time                 For the Last Time   \n",
       "4596                 Dil Meri Na Sune  Dil Meri Na Sune (From \"Genius\")   \n",
       "4597            Grace (feat. 42 Dugg)                           My Turn   \n",
       "4598              Nashe Si Chadh Gayi             November Top 10 Songs   \n",
       "4599  Me Acostumbre (feat. Bad Bunny)   Me Acostumbre (feat. Bad Bunny)   \n",
       "\n",
       "              Artist Release Date          ISRC All Time Rank  Track Score  \\\n",
       "0      Tommy Richman    4/26/2024  QM24S2402528             1        725.4   \n",
       "1     Kendrick Lamar     5/4/2024  USUG12400910             2        545.9   \n",
       "2            Artemas    3/19/2024  QZJ842400387             3        538.4   \n",
       "3        Miley Cyrus    1/12/2023  USSM12209777             4        444.9   \n",
       "4             Eminem    5/31/2024  USUG12403398             5        423.3   \n",
       "...              ...          ...           ...           ...          ...   \n",
       "4595     $uicideboy$     9/5/2017  QM8DG1703420         4,585         19.4   \n",
       "4596      Atif Aslam    7/27/2018  INT101800122         4,575         19.4   \n",
       "4597        Lil Baby    2/28/2020  USUG12000043         4,571         19.4   \n",
       "4598    Arijit Singh    11/8/2016  INY091600067         4,591         19.4   \n",
       "4599       Arcï¿½ï¿½    4/11/2017  USB271700107         4,593         19.4   \n",
       "\n",
       "     Spotify Streams Spotify Playlist Count Spotify Playlist Reach  ...  \\\n",
       "0        390,470,936                 30,716            196,631,588  ...   \n",
       "1        323,703,884                 28,113            174,597,137  ...   \n",
       "2        601,309,283                 54,331            211,607,669  ...   \n",
       "3      2,031,280,633                269,802            136,569,078  ...   \n",
       "4        107,034,922                  7,223            151,469,874  ...   \n",
       "...              ...                    ...                    ...  ...   \n",
       "4595     305,049,963                 65,770              5,103,054  ...   \n",
       "4596      52,282,360                  4,602              1,449,767  ...   \n",
       "4597     189,972,685                 72,066              6,704,802  ...   \n",
       "4598     145,467,020                 14,037              7,387,064  ...   \n",
       "4599     255,740,653                 32,138             14,066,526  ...   \n",
       "\n",
       "      SiriusXM Spins  Deezer Playlist Count Deezer Playlist Reach  \\\n",
       "0                684                   62.0            17,598,718   \n",
       "1                  3                   67.0            10,422,430   \n",
       "2                536                  136.0            36,321,847   \n",
       "3              2,182                  264.0            24,684,248   \n",
       "4                  1                   82.0            17,660,624   \n",
       "...              ...                    ...                   ...   \n",
       "4595             NaN                    2.0                14,217   \n",
       "4596             NaN                    1.0                   927   \n",
       "4597             NaN                    1.0                    74   \n",
       "4598             NaN                    NaN                   NaN   \n",
       "4599             NaN                    4.0               127,479   \n",
       "\n",
       "     Amazon Playlist Count Pandora Streams Pandora Track Stations  \\\n",
       "0                    114.0      18,004,655                 22,931   \n",
       "1                    111.0       7,780,028                 28,444   \n",
       "2                    172.0       5,022,621                  5,639   \n",
       "3                    210.0     190,260,277                203,384   \n",
       "4                    105.0       4,493,884                  7,006   \n",
       "...                    ...             ...                    ...   \n",
       "4595                   NaN      20,104,066                 13,184   \n",
       "4596                   NaN             NaN                    NaN   \n",
       "4597                   6.0      84,426,740                 28,999   \n",
       "4598                   7.0       6,817,840                    NaN   \n",
       "4599                   4.0      69,006,739                 11,320   \n",
       "\n",
       "     Soundcloud Streams  Shazam Counts TIDAL Popularity Explicit Track  \n",
       "0             4,818,457      2,669,262              NaN              0  \n",
       "1             6,623,075      1,118,279              NaN              1  \n",
       "2             7,208,651      5,285,340              NaN              0  \n",
       "3                   NaN     11,822,942              NaN              0  \n",
       "4               207,179        457,017              NaN              1  \n",
       "...                 ...            ...              ...            ...  \n",
       "4595         50,633,006        656,337              NaN              1  \n",
       "4596                NaN        193,590              NaN              0  \n",
       "4597                NaN      1,135,998              NaN              1  \n",
       "4598                NaN        448,292              NaN              0  \n",
       "4599                NaN        767,006              NaN              1  \n",
       "\n",
       "[4600 rows x 29 columns]>"
      ]
     },
     "execution_count": 7,
     "metadata": {},
     "output_type": "execute_result"
    }
   ],
   "source": [
    "df.info"
   ]
  },
  {
   "cell_type": "code",
   "execution_count": null,
   "id": "14bddeef",
   "metadata": {},
   "outputs": [],
   "source": [
    "mth={\"Jan\":0, \"Feb\":0, \"Mar\":0, \"Apr\":0, \"May\":0, \"June\":0, \"July\":0, \"Aug\":0, \"Sep\":0, \"Oct\":0, \"Nov\":0, \"Dec\":0}\n",
    "\n",
    "\n",
    "for date in df[\"Release Date\"]:\n",
    "    month=date.split(\"/\")[0]\n",
    "    month=int(month)\n",
    "    if month ==1:\n",
    "        mth[\"Jan\"]+=1\n",
    "    elif month ==2:\n",
    "        mth[\"Feb\"]+=1\n",
    "    elif month ==3:\n",
    "        mth[\"Mar\"]+=1\n",
    "    elif month ==4:\n",
    "        mth[\"Apr\"]+=1\n",
    "    elif month ==5:\n",
    "        mth[\"May\"]+=1\n",
    "    elif month ==6:\n",
    "        mth[\"June\"]+=1\n",
    "    elif month ==7:\n",
    "        mth[\"July\"]+=1\n",
    "    elif month ==8:\n",
    "        mth[\"Aug\"]+=1\n",
    "    elif month ==9:\n",
    "        mth[\"Sep\"]+=1\n",
    "    elif month ==10:\n",
    "        mth[\"Oct\"]+=1\n",
    "    elif month ==11:\n",
    "        mth[\"Nov\"]+=1\n",
    "    elif month ==12:\n",
    "        mth[\"Dec\"]+=1\n",
    "dates={\"Months\":[\"Jan\", \"Feb\", \"Mar\", \"Apr\", \"May\", \"June\", \"July\", \"Aug\", \"Sep\", \"Oct\", \"Nov\", \"Dec\"], \"Count\":[mth[\"Jan\"], mth[\"Feb\"],mth[\"Mar\"],mth[\"Apr\"],mth[\"May\"],mth[\"June\"],mth[\"July\"],mth[\"Aug\"],mth[\"Sep\"],mth[\"Oct\"],mth[\"Nov\"],mth[\"Dec\"],]}\n",
    "date_df=pd.DataFrame(dates)\n",
    "sb.barplot(data=date_df, x=\"Months\", y=\"Count\")\n"
   ]
  },
  {
   "cell_type": "code",
   "execution_count": null,
   "id": "5cc7eb22",
   "metadata": {},
   "outputs": [],
   "source": [
    "mth"
   ]
  },
  {
   "cell_type": "code",
   "execution_count": 27,
   "id": "ba36db57",
   "metadata": {
    "scrolled": true
   },
   "outputs": [
    {
     "data": {
      "text/plain": [
       "<AxesSubplot:xlabel='Spotify Popularity', ylabel='Count'>"
      ]
     },
     "execution_count": 27,
     "metadata": {},
     "output_type": "execute_result"
    },
    {
     "data": {
      "image/png": "[encoded data removed]",
      "text/plain": [
       "<Figure size 640x480 with 1 Axes>"
      ]
     },
     "metadata": {},
     "output_type": "display_data"
    }
   ],
   "source": [
    "sb.histplot(data=df, x=\"Spotify Popularity\", bins=100)"
   ]
  },
  {
   "cell_type": "code",
   "execution_count": 5,
   "id": "4266b7bd",
   "metadata": {
    "scrolled": false
   },
   "outputs": [],
   "source": [
    "df[\"YouTube Views\"]=df[\"YouTube Views\"].str.replace(',',\"\")\n",
    "df[\"YouTube Views\"]= pd.to_numeric(df[\"YouTube Views\"], errors=\"coerce\")\n"
   ]
  },
  {
   "cell_type": "code",
   "execution_count": 10,
   "id": "6cd14e82",
   "metadata": {},
   "outputs": [
    {
     "data": {
      "text/plain": [
       "<AxesSubplot:xlabel='YouTube Views', ylabel='Count'>"
      ]
     },
     "execution_count": 10,
     "metadata": {},
     "output_type": "execute_result"
    },
    {
     "data": {
      "image/png": "[encoded data removed]",
      "text/plain": [
       "<Figure size 640x480 with 1 Axes>"
      ]
     },
     "metadata": {},
     "output_type": "display_data"
    }
   ],
   "source": [
    "sb.histplot(data=df,x=\"YouTube Views\", bins=100)"
   ]
  },
  {
   "cell_type": "code",
   "execution_count": null,
   "id": "ce0189bd",
   "metadata": {},
   "outputs": [],
   "source": [
    "df[\"Spotify Streams\"]=df[\"Spotify Streams\"].str.replace(',',\"\")\n",
    "df[\"Spotify Streams\"]= pd.to_numeric(df[\"Spotify Streams\"], errors=\"coerce\")\n"
   ]
  },
  {
   "cell_type": "code",
   "execution_count": 24,
   "id": "7e0541fa",
   "metadata": {},
   "outputs": [
    {
     "data": {
      "text/plain": [
       "<AxesSubplot:xlabel='Spotify Streams', ylabel='Count'>"
      ]
     },
     "execution_count": 24,
     "metadata": {},
     "output_type": "execute_result"
    },
    {
     "data": {
      "image/png": "[encoded data removed]",
      "text/plain": [
       "<Figure size 640x480 with 1 Axes>"
      ]
     },
     "metadata": {},
     "output_type": "display_data"
    }
   ],
   "source": [
    "sb.histplot(data=df,x='Spotify Streams', bins=1000)"
   ]
  },
  {
   "cell_type": "code",
   "execution_count": null,
   "id": "969892fe",
   "metadata": {},
   "outputs": [],
   "source": [
    "df[\"Shazam Counts\"]=df[\"Shazam Counts\"].str.replace(',',\"\")\n",
    "df[\"Shazam Counts\"]= pd.to_numeric(df[\"Shazam Counts\"], errors=\"coerce\")\n"
   ]
  },
  {
   "cell_type": "code",
   "execution_count": 25,
   "id": "89f07917",
   "metadata": {},
   "outputs": [
    {
     "data": {
      "text/plain": [
       "<AxesSubplot:xlabel='Shazam Counts', ylabel='Count'>"
      ]
     },
     "execution_count": 25,
     "metadata": {},
     "output_type": "execute_result"
    },
    {
     "data": {
      "image/png": "[encoded data removed]",
      "text/plain": [
       "<Figure size 640x480 with 1 Axes>"
      ]
     },
     "metadata": {},
     "output_type": "display_data"
    }
   ],
   "source": [
    "sb.histplot(data=df, x='Shazam Counts', bins=100)"
   ]
  },
  {
   "cell_type": "code",
   "execution_count": null,
   "id": "05e9fe15",
   "metadata": {},
   "outputs": [],
   "source": []
  }
 ],
 "metadata": {
  "kernelspec": {
   "display_name": "Python 3 (ipykernel)",
   "language": "python",
   "name": "python3"
  },
  "language_info": {
   "codemirror_mode": {
    "name": "ipython",
    "version": 3
   },
   "file_extension": ".py",
   "mimetype": "text/x-python",
   "name": "python",
   "nbconvert_exporter": "python",
   "pygments_lexer": "ipython3",
   "version": "3.9.13"
  }
 },
 "nbformat": 4,
 "nbformat_minor": 5
}
