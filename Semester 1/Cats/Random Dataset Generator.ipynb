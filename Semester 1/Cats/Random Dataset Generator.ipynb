{
 "cells": [
  {
   "cell_type": "code",
   "execution_count": null,
   "id": "9423bb3e-396d-4486-adb2-602456692f4e",
   "metadata": {},
   "outputs": [],
   "source": [
    "#necessary imports\n",
    "import random\n",
    "import csv\n",
    "import datetime\n",
    "import time\n",
    "\n",
    "\n"
   ]
  },
  {
   "cell_type": "code",
   "execution_count": null,
   "id": "cb7afbbd-3878-4c2b-9596-ba5ef379c307",
   "metadata": {},
   "outputs": [],
   "source": [
    "print(\"This is a random dataset generator. It will produce a .csv\")"
   ]
  },
  {
   "cell_type": "code",
   "execution_count": null,
   "id": "da1dce8c-8f8d-4aaf-b915-e226a5a91287",
   "metadata": {},
   "outputs": [],
   "source": [
    "#Basic questions\n",
    "rows=int(input(\"how many rows do you want?\"))\n",
    "columns=int(input(\"how many columns do you want?\"))"
   ]
  },
  {
   "cell_type": "code",
   "execution_count": null,
   "id": "245fd8d0-458c-4e03-9ce4-b934b50c0fb5",
   "metadata": {},
   "outputs": [],
   "source": [
    "#ask different column names\n",
    "cats=[]\n",
    "num=[]\n",
    "for i in range(columns):\n",
    "    cat=input(f\"what column do you want for column{i}\")\n",
    "    cats.append(cat)\n",
    "    nmafrm=input(f\"do you want {cat} to be numeric? Yes or n\")\n",
    "    if nmafrm == 'yes' or nmafrm=='Yes' or nmafrm=='y':\n",
    "        num.append(i)\n",
    "        print(f\"cat{i} will be numeric\")\n",
    "    else:\n",
    "        print(f\"{cat} will not be numeric\")\n",
    "print(f\"these are your columns: {cats}\")\n",
    "print(f\"these are the numeric columns: {[cats[i] for i in num]}\")"
   ]
  },
  {
   "cell_type": "code",
   "execution_count": null,
   "id": "ecc8ea33-3e62-4064-88a7-375b13c2ea18",
   "metadata": {},
   "outputs": [],
   "source": [
    "#numeric columns\n",
    "fin=[[] for i in range(rows)]\n",
    "\n",
    "print(\"will now start populating numeric columns\")\n",
    "\n",
    "max=int(input(\"what is the max possible number you want?\"))\n",
    "min=int(input(\"What is the min possible number you want?\"))\n",
    "\n",
    "for row in range(rows):\n",
    "    for col in range(columns):\n",
    "        if col in num:\n",
    "            v = random.randint(min, max)\n",
    "            fin[row].append(v)\n",
    "            print(f\"{cats[col]}, row: {row}, value: {v}\")\n",
    "        else:\n",
    "            fin[row].append(\"\")\n",
    "for row in fin[:2]:\n",
    "    print(row)"
   ]
  },
  {
   "cell_type": "code",
   "execution_count": null,
   "id": "9c85c2e5-625e-43fb-b68b-193527d255db",
   "metadata": {},
   "outputs": [],
   "source": [
    "#non-numeric\n",
    "print(\"will now start populating non-numeric columns\")\n",
    "for row in range(rows):\n",
    "    for col in range(columns):\n",
    "        if col not in num:\n",
    "            print(\"Active column:\", col, \"Active Row:\", row)\n",
    "            print(\"1: Random name\")\n",
    "            print(\"2: Random date\")\n",
    "            print(\"3: Random color\")\n",
    "            print(\"4: Random of your choice\")\n",
    "            choice=input(\"what is your choice?(1-4)\")\n",
    "            if choice =='1':\n",
    "                names=['Liam', 'Olivia', 'Noah', 'Emma', 'Oliver', 'Ava', 'Elijah', 'Charlotte', 'William', 'Sophia', 'James', 'Amelia', 'Benjamin', 'Isabella', 'Lucas', 'Mia', 'Henry', 'Evelyn', 'Alexander', 'Harper','Mason', 'Camila', 'Michael', 'Gianna', 'Ethan', 'Abigail', 'Daniel', 'Luna', 'Jacob', 'Ella',\n",
    "         'Logan', 'Elizabeth', 'Jackson', 'Sofia', 'Sebastian', 'Emily', 'Jack', 'Avery', 'Aiden', 'Mila',\n",
    "         'Owen', 'Scarlett', 'Samuel', 'Eleanor', 'Matthew', 'Madison', 'Joseph', 'Layla', 'Levi', 'Penelope',\n",
    "         'Mateo', 'Aria', 'David', 'Chloe', 'John', 'Grace', 'Wyatt', 'Ellie', 'Carter', 'Nora',\n",
    "         'Julian', 'Hazel', 'Luke', 'Zoey', 'Grayson', 'Riley', 'Isaac', 'Victoria', 'Jayden', 'Lily',\n",
    "         'Theodore', 'Aurora', 'Gabriel', 'Violet', 'Anthony', 'Nova', 'Dylan', 'Hannah', 'Leo', 'Emilia',\n",
    "         'Lincoln', 'Zoe', 'Jaxon', 'Stella', 'Asher', 'Everly', 'Christopher', 'Isla', 'Josiah', 'Leah',\n",
    "         'Andrew', 'Lillian', 'Thomas', 'Addison', 'Joshua', 'Willow', 'Ezra', 'Lucy', 'Hudson', 'Paisley',\n",
    "         'Charles', 'Natalie', 'Caleb', 'Naomi', 'Isaiah', 'Eliana', 'Ryan', 'Brooklyn', 'Nathan', 'Elena',\n",
    "         'Adrian', 'Aubrey', 'Christian', 'Claire', 'Maverick', 'Ivy', 'Colton', 'Kinsley', 'Elias', 'Audrey',\n",
    "         'Aaron', 'Maya', 'Eli', 'Genesis', 'Landon', 'Skylar', 'Jonathan', 'Bella', 'Nolan', 'Aaliyah',\n",
    "         'Hunter', 'Madelyn', 'Cameron', 'Savannah', 'Connor', 'Anna', 'Santiago', 'Delilah', 'Jeremiah', 'Serenity',\n",
    "         'Ezekiel', 'Caroline', 'Angel', 'Kennedy', 'Roman', 'Valentina', 'Easton', 'Ruby', 'Miles', 'Sophie']\n",
    "                fin[row][col]=random.choice(names)\n",
    "\n",
    "            elif choice=='2':\n",
    "                sd=datetime.datetime(1900,1,1)\n",
    "                ed=datetime.datetime.now()\n",
    "                rd=sd+datetime.timedelta(days=random.randint(0, (ed - sd).days))\n",
    "                fin[row][col]=rd.strftime('%y-%m-%d')\n",
    "\n",
    "            elif choice=='3':\n",
    "                fin[row][col]=random.choice(['Red', 'Blue', 'Green', 'Yellow', 'Purple', 'Orange', 'Pink', 'Brown', 'Gray', 'Black', 'Navy'])\n",
    "            elif choice=='4':\n",
    "                choices=input(\"what are thy choices (seperate them with commas!):\").split(',')\n",
    "                fin[row][col]=random.choice(choices)\n",
    "            else:\n",
    "                print(\"invalid input so invalid will be placeholder\")\n",
    "                fin[row][col]=(\"invalid\")"
   ]
  },
  {
   "cell_type": "code",
   "execution_count": null,
   "id": "e8b13acb-1edf-4c8d-97a8-97dfa3b5042f",
   "metadata": {},
   "outputs": [],
   "source": [
    "#final check\n",
    "prev=int(input(\"how many rows do you want to preview?\"))\n",
    "for row in fin[:prev]:\n",
    "    print(row)"
   ]
  },
  {
   "cell_type": "code",
   "execution_count": null,
   "id": "8e550bf9-827b-482a-b9ac-89b83f2372e2",
   "metadata": {},
   "outputs": [],
   "source": [
    "#save\n",
    "\n",
    "ultraconfirm=input(\"do you want to save this?\")\n",
    "if ultraconfirm=='yes' or ultraconfirm=='YES' or ultraconfirm=='Yes' or ultraconfirm=='y':\n",
    "    finalpathname=input(\"what do you want to name it? Please include .csv\")\n",
    "    with open(finalpathname, 'w', newline='') as file:\n",
    "        csv.writer(file).writerow(cats)\n",
    "        csv.writer(file).writerows(fin)\n",
    "    print(\"your data has been written as\", finalpathname)\n",
    "else:\n",
    "    print(\"data not saved\")\n",
    "    time.sleep(1)\n",
    "    "
   ]
  },
  {
   "cell_type": "code",
   "execution_count": null,
   "id": "ca1dbab9-9365-4e25-9dd2-492bb083e332",
   "metadata": {},
   "outputs": [],
   "source": []
  }
 ],
 "metadata": {
  "kernelspec": {
   "display_name": "Python 3 (ipykernel)",
   "language": "python",
   "name": "python3"
  },
  "language_info": {
   "codemirror_mode": {
    "name": "ipython",
    "version": 3
   },
   "file_extension": ".py",
   "mimetype": "text/x-python",
   "name": "python",
   "nbconvert_exporter": "python",
   "pygments_lexer": "ipython3",
   "version": "3.12.4"
  }
 },
 "nbformat": 4,
 "nbformat_minor": 5
}
