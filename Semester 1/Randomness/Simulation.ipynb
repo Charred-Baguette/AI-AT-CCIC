{
 "cells": [
  {
   "cell_type": "code",
   "execution_count": 6,
   "id": "2c746a99",
   "metadata": {},
   "outputs": [],
   "source": [
    "import random\n",
    "from tqdm import tqdm"
   ]
  },
  {
   "cell_type": "code",
   "execution_count": 4,
   "id": "b32f7e62",
   "metadata": {},
   "outputs": [],
   "source": [
    "#teenie beanie babies simulation\n",
    "#10 types of babies\n",
    "#assume equal circulation\n",
    "#find approximation for how many meals needed to get all 10\n",
    "\n",
    "def beaniesimulation(Simcounter=5000000):\n",
    "    results=0\n",
    "    for i in range(Simcounter):\n",
    "        beanietypes=set()\n",
    "        counter=0\n",
    "        while len(beanietypes)<10:\n",
    "            counter+=1\n",
    "            active=random.randint(1,10)\n",
    "            beanietypes.add(active)\n",
    "        results+=(counter)\n",
    "    mean=results/Simcounter\n",
    "    return mean\n"
   ]
  },
  {
   "cell_type": "code",
   "execution_count": 5,
   "id": "d8b0fe82",
   "metadata": {},
   "outputs": [
    {
     "data": {
      "text/plain": [
       "29.2828216"
      ]
     },
     "execution_count": 5,
     "metadata": {},
     "output_type": "execute_result"
    }
   ],
   "source": [
    "beaniesimulation()"
   ]
  },
  {
   "cell_type": "markdown",
   "id": "96a334c6",
   "metadata": {},
   "source": [
    "Assuming that each meal had an equal chance of a specific teenie beanie, then according to the simulation one will have to buy around 29 meals. The simulation was conducted 5,000,000 times. Each simulation counted how long it took to get all 10 beanies. It then took the average amount and returned 29.282 times. This means on average one needs to buy 29 happy meals to get all 10 beanies. "
   ]
  },
  {
   "cell_type": "code",
   "execution_count": 23,
   "id": "ad4efd81",
   "metadata": {},
   "outputs": [
    {
     "name": "stderr",
     "output_type": "stream",
     "text": [
      "Processing...: 100%|██████████| 9000000/9000000 [00:40<00:00, 224874.34it/s]"
     ]
    },
    {
     "name": "stdout",
     "output_type": "stream",
     "text": [
      "The team which starts at home has a 50.61324444444445% chance of winning.\n"
     ]
    },
    {
     "name": "stderr",
     "output_type": "stream",
     "text": [
      "\n"
     ]
    }
   ],
   "source": [
    "\"\"\"World series\n",
    "Consists of 7 games max. First to 4 wins\n",
    "first 2 at home, next 3 at yankee, and final 2 at home\n",
    "there is home advantage where 55% chance of winning\n",
    "how often will the team that starts at home win the series\n",
    "\"\"\"\n",
    "def Worldseriessim(Simcounter=9000000):\n",
    "    with tqdm(total=Simcounter, desc=\"Processing...\") as pbar:\n",
    "        results=0\n",
    "        for i in range(Simcounter):\n",
    "            teamwins={'1':0, '2':0}\n",
    "            for i in range(2):\n",
    "                active = random.randint(1, 100)\n",
    "                if active <= 55:\n",
    "                    teamwins['1'] += 1\n",
    "                else:\n",
    "                    teamwins['2'] += 1\n",
    "            \n",
    "            for i in range(3):\n",
    "                active = random.randint(1, 100)\n",
    "                if active < 45:  \n",
    "                    teamwins['1'] += 1\n",
    "                else:\n",
    "                    teamwins['2'] += 1\n",
    "            \n",
    "            for i in range(2):\n",
    "                active = random.randint(1, 100)\n",
    "                if active <= 55:\n",
    "                    teamwins['1'] += 1\n",
    "                else:\n",
    "                    teamwins['2'] += 1\n",
    "\n",
    "            if teamwins['1'] > teamwins['2']:\n",
    "                results += 1\n",
    "            \n",
    "            pbar.update(1)\n",
    "    mean=results/Simcounter\n",
    "    return mean\n",
    "mean=Worldseriessim()*100\n",
    "print(f'The team which starts at home has a {mean}% chance of winning.')"
   ]
  },
  {
   "cell_type": "markdown",
   "id": "0570f958",
   "metadata": {},
   "source": [
    "The theoretical probability of eating a hot dorito for the first round of roulette is 1/6. "
   ]
  },
  {
   "cell_type": "code",
   "execution_count": 27,
   "id": "3f929ec5",
   "metadata": {},
   "outputs": [
    {
     "name": "stderr",
     "output_type": "stream",
     "text": [
      "Processing...: 100%|██████████| 9000000/9000000 [00:05<00:00, 1676901.86it/s]"
     ]
    },
    {
     "name": "stdout",
     "output_type": "stream",
     "text": [
      "After 9000000 amount of trials, we have found that on average you have a 16.660533333333333% chance of having the painful dorrito.\n"
     ]
    },
    {
     "name": "stderr",
     "output_type": "stream",
     "text": [
      "\n"
     ]
    }
   ],
   "source": [
    "def chiproulette(simcount=9000000):\n",
    "    with tqdm(total=simcount, desc=\"Processing...\") as pbar:\n",
    "        results=0\n",
    "        for i in range(simcount):\n",
    "            if random.randint(1,6) == 6:\n",
    "                results+=1\n",
    "            pbar.update(1)\n",
    "        final=(results/simcount)*100\n",
    "    return final, simcount\n",
    "\n",
    "pain, suffering=chiproulette()\n",
    "print(f'After {suffering} amount of trials, we have found that on average you have a {pain}% chance of having the painful dorrito.')"
   ]
  },
  {
   "cell_type": "markdown",
   "id": "6b15699d",
   "metadata": {},
   "source": [
    "After running a significant amount of trials, the empirical probability should approach the theoretical probability due to the law of large numbers. My empirical probability is 16.6605% which is very close to the 16.6666% theoretical probability."
   ]
  },
  {
   "cell_type": "code",
   "execution_count": 68,
   "id": "646cd62f",
   "metadata": {},
   "outputs": [],
   "source": [
    "def roulettegame():\n",
    "    playercount = int(input('How many players? '))\n",
    "    players = {'player': [], 'number': []}\n",
    "    \n",
    "    print('Loading and spinning...')\n",
    "    activechamber=random.randint(1,6)\n",
    "    currentchamber=random.randint(1,6)\n",
    "    for i in range(playercount):\n",
    "        playername = input(f'What is the name of player {i + 1}? ')\n",
    "        players['player'].append(playername)\n",
    "        players['number'].append(i)\n",
    "\n",
    "    print('Let’s see who goes first...')\n",
    "    current_player_index = random.randint(0, playercount - 1) \n",
    "    current_player = players['player'][current_player_index]\n",
    "    while len(players['player']) > 0:\n",
    "        current_player = players['player'][current_player_index]\n",
    "        print(f'{current_player} has the gun. Pull the trigger! (Press Enter)')\n",
    "        input()\n",
    "        \n",
    "        if currentchamber==activechamber:\n",
    "            print(f'BANG! {current_player} has a booboo!')\n",
    "            players['player'].remove(current_player)\n",
    "            if current_player_index >= len(players['player']):\n",
    "                current_player_index = 0\n",
    "            activechamber=random.randint(1,6)\n",
    "            currentchamber=random.randint(1,6)\n",
    "\n",
    "        else:\n",
    "            print(f'Click! {current_player} survives!')\n",
    "            current_player_index = (current_player_index + 1) % len(players['player'])            \n",
    "            currentchamber+=1\n",
    "            if currentchamber==7:\n",
    "                currentchamber=1\n"
   ]
  },
  {
   "cell_type": "code",
   "execution_count": null,
   "id": "7e4eb6be",
   "metadata": {
    "scrolled": true
   },
   "outputs": [],
   "source": [
    "roulettegame()"
   ]
  },
  {
   "cell_type": "code",
   "execution_count": 52,
   "id": "46ce6f8e",
   "metadata": {},
   "outputs": [],
   "source": [
    "def birthday(people=23, simulations=900000):\n",
    "    with tqdm(total=simulations, desc=\"Processing...\") as pbar:\n",
    "\n",
    "        results=0\n",
    "        currentsim=0\n",
    "        for i in range(simulations):\n",
    "            birthdaylist = []\n",
    "            for i in range(people):\n",
    "                birthday = random.randint(1, 365)\n",
    "                if birthday in birthdaylist:\n",
    "                    results += 1\n",
    "                    break\n",
    "                birthdaylist.append(birthday)\n",
    "            pbar.update(1)\n",
    "    fin=(results/simulations)*100\n",
    "    return fin"
   ]
  },
  {
   "cell_type": "code",
   "execution_count": 53,
   "id": "9be49c93",
   "metadata": {},
   "outputs": [
    {
     "name": "stderr",
     "output_type": "stream",
     "text": [
      "Processing...: 100%|██████████| 900000/900000 [00:33<00:00, 26730.62it/s]"
     ]
    },
    {
     "name": "stdout",
     "output_type": "stream",
     "text": [
      "50.800222222222224\n"
     ]
    },
    {
     "name": "stderr",
     "output_type": "stream",
     "text": [
      "\n"
     ]
    }
   ],
   "source": [
    "fin=birthday()\n",
    "print(fin)"
   ]
  },
  {
   "cell_type": "code",
   "execution_count": null,
   "id": "a5082bcf",
   "metadata": {},
   "outputs": [],
   "source": []
  }
 ],
 "metadata": {
  "kernelspec": {
   "display_name": "Python 3 (ipykernel)",
   "language": "python",
   "name": "python3"
  },
  "language_info": {
   "codemirror_mode": {
    "name": "ipython",
    "version": 3
   },
   "file_extension": ".py",
   "mimetype": "text/x-python",
   "name": "python",
   "nbconvert_exporter": "python",
   "pygments_lexer": "ipython3",
   "version": "3.9.13"
  }
 },
 "nbformat": 4,
 "nbformat_minor": 5
}
