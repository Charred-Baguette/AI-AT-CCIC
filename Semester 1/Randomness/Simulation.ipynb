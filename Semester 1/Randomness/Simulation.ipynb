{
 "cells": [
  {
   "cell_type": "code",
   "execution_count": 6,
   "id": "2c746a99",
   "metadata": {},
   "outputs": [],
   "source": [
    "import random\n",
    "from tqdm import tqdm"
   ]
  },
  {
   "cell_type": "code",
   "execution_count": 4,
   "id": "b32f7e62",
   "metadata": {},
   "outputs": [],
   "source": [
    "#teenie beanie babies simulation\n",
    "#10 types of babies\n",
    "#assume equal circulation\n",
    "#find approximation for how many meals needed to get all 10\n",
    "\n",
    "def beaniesimulation(Simcounter=5000000):\n",
    "    results=0\n",
    "    for i in range(Simcounter):\n",
    "        beanietypes=set()\n",
    "        counter=0\n",
    "        while len(beanietypes)<10:\n",
    "            counter+=1\n",
    "            active=random.randint(1,10)\n",
    "            beanietypes.add(active)\n",
    "        results+=(counter)\n",
    "    mean=results/Simcounter\n",
    "    return mean\n"
   ]
  },
  {
   "cell_type": "code",
   "execution_count": 5,
   "id": "d8b0fe82",
   "metadata": {},
   "outputs": [
    {
     "data": {
      "text/plain": [
       "29.2828216"
      ]
     },
     "execution_count": 5,
     "metadata": {},
     "output_type": "execute_result"
    }
   ],
   "source": [
    "beaniesimulation()"
   ]
  },
  {
   "cell_type": "markdown",
   "id": "96a334c6",
   "metadata": {},
   "source": [
    "Assuming that each meal had an equal chance of a specific teenie beanie, then according to the simulation one will have to buy around 29 meals. The simulation was conducted 5,000,000 times. Each simulation counted how long it took to get all 10 beanies. It then took the average amount and returned 29.282 times. This means on average one needs to buy 29 happy meals to get all 10 beanies. "
   ]
  },
  {
   "cell_type": "code",
   "execution_count": 13,
   "id": "ad4efd81",
   "metadata": {},
   "outputs": [
    {
     "name": "stderr",
     "output_type": "stream",
     "text": [
      "Processing...: 100%|██████████| 5000000/5000000 [00:35<00:00, 142808.40it/s]"
     ]
    },
    {
     "name": "stdout",
     "output_type": "stream",
     "text": [
      "The team which starts at home has a 28.93056% chance of winning.\n"
     ]
    },
    {
     "name": "stderr",
     "output_type": "stream",
     "text": [
      "\n"
     ]
    }
   ],
   "source": [
    "\"\"\"World series\n",
    "Consists of 7 games max. First to 4 wins\n",
    "first 2 at home, next 3 at yankee, and final 2 at home\n",
    "there is home advantage where 55% chance of winning\n",
    "how often will the team that starts at home win the series\n",
    "\"\"\"\n",
    "def Worldseriessim(Simcounter=5000000):\n",
    "    with tqdm(total=Simcounter, desc=\"Processing...\") as pbar:\n",
    "        results=0\n",
    "        for i in range(Simcounter):\n",
    "            teamwins={'1':0, '2':0}\n",
    "            while teamwins['1']<4 or teamwins['2']<4:\n",
    "                for i in range(1,2):\n",
    "                    active=random.randint(1, 100)\n",
    "                    if active<=55:\n",
    "                        teamwins['1']+=1\n",
    "                    else:\n",
    "                        teamwins['2']+=1\n",
    "                for i in range(1,3):\n",
    "                    active=random.randint(1, 100)\n",
    "                    if active<45:\n",
    "                        teamwins['1']+=1\n",
    "                    else:\n",
    "                        teamwins['2']+=1\n",
    "                for i in range(1,2):\n",
    "                    active=random.randint(1, 100)\n",
    "                    if active<=55:\n",
    "                        teamwins['1']+=1\n",
    "                    else:\n",
    "                        teamwins['2']+=1\n",
    "            if teamwins['1']>teamwins['2']:\n",
    "                results+=1\n",
    "            pbar.update(1)\n",
    "    mean=results/Simcounter\n",
    "    return mean\n",
    "mean=Worldseriessim()*100\n",
    "print(f'The team which starts at home has a {mean}% chance of winning.')"
   ]
  },
  {
   "cell_type": "code",
   "execution_count": null,
   "id": "1775effc",
   "metadata": {},
   "outputs": [],
   "source": []
  }
 ],
 "metadata": {
  "kernelspec": {
   "display_name": "Python 3 (ipykernel)",
   "language": "python",
   "name": "python3"
  },
  "language_info": {
   "codemirror_mode": {
    "name": "ipython",
    "version": 3
   },
   "file_extension": ".py",
   "mimetype": "text/x-python",
   "name": "python",
   "nbconvert_exporter": "python",
   "pygments_lexer": "ipython3",
   "version": "3.9.13"
  }
 },
 "nbformat": 4,
 "nbformat_minor": 5
}
