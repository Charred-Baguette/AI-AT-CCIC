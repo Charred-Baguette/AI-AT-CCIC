{
 "cells": [
  {
   "cell_type": "code",
   "execution_count": 1,
   "id": "ab4170b6",
   "metadata": {},
   "outputs": [],
   "source": [
    "import random\n",
    "from tqdm import tqdm"
   ]
  },
  {
   "cell_type": "code",
   "execution_count": 8,
   "id": "a6320093",
   "metadata": {},
   "outputs": [
    {
     "name": "stderr",
     "output_type": "stream",
     "text": [
      "Processing...: 100%|██████████| 90000000/90000000 [02:38<00:00, 567684.72it/s]\n"
     ]
    },
    {
     "data": {
      "text/plain": [
       "0.1914507888888889"
      ]
     },
     "execution_count": 8,
     "metadata": {},
     "output_type": "execute_result"
    }
   ],
   "source": [
    "def cilantro(simulations=90000000):\n",
    "    with tqdm(total=simulations, desc=\"Processing...\") as pbar:\n",
    "        results=0\n",
    "        for i in range(simulations):\n",
    "            select = random.choice('AAAAAAAAAGGGGGGG')\n",
    "            select2 = random.choice('CCCTTTCCCTTTCCCT')\n",
    "            if select == 'G' and select2 == 'T':\n",
    "                results += 1\n",
    "            pbar.update(1)\n",
    "    fin=results/simulations\n",
    "    return fin\n",
    "cilantro()"
   ]
  },
  {
   "cell_type": "code",
   "execution_count": 9,
   "id": "5b5417e6",
   "metadata": {},
   "outputs": [
    {
     "name": "stderr",
     "output_type": "stream",
     "text": [
      "processing...: 100%|██████████| 9000000/9000000 [00:19<00:00, 461846.38it/s]\n"
     ]
    },
    {
     "data": {
      "text/plain": [
       "0.24994022222222223"
      ]
     },
     "execution_count": 9,
     "metadata": {},
     "output_type": "execute_result"
    }
   ],
   "source": [
    "#AG and GG eye types mix, what is probability of girl with brown eyes. A is dominant and brown\n",
    "def eyegender(simulations=9000000):\n",
    "    with tqdm(total=simulations, desc=\"processing...\") as pbar:\n",
    "        results=0\n",
    "        for i in range(simulations):\n",
    "            eye=random.randint(1,2)\n",
    "            gender=random.randint(1,2)\n",
    "            if eye==1 and gender==1:\n",
    "                results+=1\n",
    "            pbar.update(1)\n",
    "    fin=results/simulations\n",
    "    return fin\n",
    "eyegender()\n",
    "                "
   ]
  },
  {
   "cell_type": "code",
   "execution_count": null,
   "id": "5685c4fc",
   "metadata": {},
   "outputs": [],
   "source": []
  }
 ],
 "metadata": {
  "kernelspec": {
   "display_name": "Python 3 (ipykernel)",
   "language": "python",
   "name": "python3"
  },
  "language_info": {
   "codemirror_mode": {
    "name": "ipython",
    "version": 3
   },
   "file_extension": ".py",
   "mimetype": "text/x-python",
   "name": "python",
   "nbconvert_exporter": "python",
   "pygments_lexer": "ipython3",
   "version": "3.9.13"
  }
 },
 "nbformat": 4,
 "nbformat_minor": 5
}
