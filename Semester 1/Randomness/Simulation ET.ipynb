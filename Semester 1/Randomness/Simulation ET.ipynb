{
 "cells": [
  {
   "cell_type": "code",
   "execution_count": 1,
   "id": "9e61dccc",
   "metadata": {},
   "outputs": [],
   "source": [
    "import random\n",
    "from tqdm import tqdm"
   ]
  },
  {
   "cell_type": "markdown",
   "id": "b03843ec",
   "metadata": {},
   "source": [
    "Write a Python program that allows you to simulate removing a marble from a box. The box contains an unknown number of marbles. There are three different colors in the box: red, green, blue. You want to determine the proportion of each color in your box even though you don't know what the total number of marbles is in the box. Create the simulation you would need in order to determine the proportion of each color found in the box. Copy and paste your code below.\n",
    "*"
   ]
  },
  {
   "cell_type": "code",
   "execution_count": 2,
   "id": "a8f76ac3",
   "metadata": {},
   "outputs": [
    {
     "name": "stdout",
     "output_type": "stream",
     "text": [
      "red probability: 0.33329, blue probability: 0.33352, green probability: 0.33319\n"
     ]
    }
   ],
   "source": [
    "def marbletest(Simcounter=100000):\n",
    "    results={'red':0, 'green':0, 'blue':0}\n",
    "    for i in range(Simcounter):\n",
    "        choice=random.choice(['red', 'green', 'blue'])\n",
    "        results[choice] += 1\n",
    "    redprob=results['red']/Simcounter\n",
    "    blueprob=results['blue']/Simcounter\n",
    "    greenprob=results['green']/Simcounter\n",
    "    return redprob, blueprob, greenprob\n",
    "red, blue, green = marbletest()\n",
    "print(f'red probability: {red}, blue probability: {blue}, green probability: {green}')"
   ]
  },
  {
   "cell_type": "markdown",
   "id": "b8de1fe9",
   "metadata": {},
   "source": [
    "Suppose a cereal manufacturer puts pictures of famous athletes on cards in boxes of cereal in the hope of boosting sales. The manufacturer announces that 20% of the boxes contain a picture of Tiger Woods, 30% a picture of Cristiano Ronaldo, and the rest a picture of Serena Williams. You want all three pictures. How many boxes of cereal do you expect to have to buy in order to get the complete set? Use the outcomes of your simulation above to justify your answer."
   ]
  },
  {
   "cell_type": "code",
   "execution_count": 20,
   "id": "be0de96b",
   "metadata": {},
   "outputs": [
    {
     "name": "stderr",
     "output_type": "stream",
     "text": [
      "Processing...: 100%|██████████| 900000000/900000000 [1:01:35<00:00, 243509.87it/s]"
     ]
    },
    {
     "name": "stdout",
     "output_type": "stream",
     "text": [
      "The results of the simulation suggest you need to buy an average of 6.654662138888889 cereal boxes to get all 3 pictures.\n"
     ]
    },
    {
     "name": "stderr",
     "output_type": "stream",
     "text": [
      "\n"
     ]
    }
   ],
   "source": [
    "def sportcardtest(Simcounter=900000000):\n",
    "    with tqdm(total=Simcounter, desc=\"Processing...\") as pbar:\n",
    "        results=0\n",
    "        for i in range(Simcounter):\n",
    "            cardtype=set()\n",
    "            counter=0\n",
    "            while len(cardtype)<3:\n",
    "                counter+=1\n",
    "                active=random.randint(1,10)\n",
    "                if active in {1, 2}:\n",
    "                    cardtype.add(1)\n",
    "                elif active in {3, 4, 5}:\n",
    "                    cardtype.add(2)\n",
    "                else:\n",
    "                    cardtype.add(3)\n",
    "            results+=(counter)\n",
    "            pbar.update(1)\n",
    "    mean=results/Simcounter\n",
    "    return mean\n",
    "results=sportcardtest()\n",
    "print(f'The results of the simulation suggest you need to buy an average of {results} cereal boxes to get all 3 pictures.')"
   ]
  },
  {
   "cell_type": "code",
   "execution_count": 28,
   "id": "f2175765",
   "metadata": {},
   "outputs": [
    {
     "name": "stderr",
     "output_type": "stream",
     "text": [
      "Processing...: 100%|██████████| 1000/1000 [00:00<00:00, 333437.00it/s]"
     ]
    },
    {
     "name": "stdout",
     "output_type": "stream",
     "text": [
      "The empirical probability of getting a queen when drawing from 52 cards is 7.6.\n"
     ]
    },
    {
     "name": "stderr",
     "output_type": "stream",
     "text": [
      "\n"
     ]
    }
   ],
   "source": [
    "#i used tqdm to ensure I dont put my code in an infinite loop\n",
    "def cardtest(simcount=900000):\n",
    "    with tqdm(total=simcount, desc=\"Processing...\") as pbar:\n",
    "        results=0\n",
    "        for i in range(simcount):\n",
    "            cards=[1, 2, 3, 4]\n",
    "            if random.randint(1,52) in cards:\n",
    "                results+=1\n",
    "            pbar.update(1)\n",
    "    final=(results/simcount)*100\n",
    "    return final\n",
    "results=cardtest(1000)\n",
    "print(f'The empirical probability of getting a queen when drawing from 52 cards is {results}.')\n"
   ]
  },
  {
   "cell_type": "markdown",
   "id": "0e0697f6",
   "metadata": {},
   "source": [
    "Imagine you buy a deck of 52 cards and you shuffle the deck perfectly. What is the theoretical probability of pulling a queen or a king? Write the probability of pulling a a queen or a king below."
   ]
  },
  {
   "cell_type": "code",
   "execution_count": 9,
   "id": "0e935510",
   "metadata": {},
   "outputs": [
    {
     "name": "stderr",
     "output_type": "stream",
     "text": [
      "Processing...: 100%|██████████| 900000/900000 [00:00<00:00, 1425720.17it/s]"
     ]
    },
    {
     "name": "stdout",
     "output_type": "stream",
     "text": [
      "The probability of getting a queen or king on first draw is 15.467555555555556%\n"
     ]
    },
    {
     "name": "stderr",
     "output_type": "stream",
     "text": [
      "\n"
     ]
    }
   ],
   "source": [
    "def kingqueen(simulations=900000):\n",
    "    with tqdm(total=simulations, desc=\"Processing...\") as pbar:\n",
    "        results=0\n",
    "        for i in range(simulations):\n",
    "            Type=random.randint(1, 52)\n",
    "            \n",
    "            #for simulating 4 kings\n",
    "            if Type in [1,2,3,4]:\n",
    "                results+=1\n",
    "            #for simulating 4 queens\n",
    "            elif Type in [5, 6, 7, 8]:\n",
    "                results+=1\n",
    "            pbar.update(1)\n",
    "    fin=(results/simulations)*100\n",
    "    return fin\n",
    "fin = kingqueen()\n",
    "print(f'The probability of getting a queen or king on first draw is {fin}%')"
   ]
  },
  {
   "cell_type": "code",
   "execution_count": null,
   "id": "230a7671",
   "metadata": {},
   "outputs": [],
   "source": []
  }
 ],
 "metadata": {
  "kernelspec": {
   "display_name": "Python 3 (ipykernel)",
   "language": "python",
   "name": "python3"
  },
  "language_info": {
   "codemirror_mode": {
    "name": "ipython",
    "version": 3
   },
   "file_extension": ".py",
   "mimetype": "text/x-python",
   "name": "python",
   "nbconvert_exporter": "python",
   "pygments_lexer": "ipython3",
   "version": "3.9.13"
  }
 },
 "nbformat": 4,
 "nbformat_minor": 5
}
