{
 "cells": [
  {
   "cell_type": "code",
   "execution_count": 3,
   "id": "29de4c22",
   "metadata": {},
   "outputs": [],
   "source": [
    "import random\n",
    "from tqdm import tqdm"
   ]
  },
  {
   "cell_type": "markdown",
   "id": "4e8170e4",
   "metadata": {},
   "source": [
    "The theoretical probability of eating a hot dorito for the first round of roulette is 1/6. "
   ]
  },
  {
   "cell_type": "code",
   "execution_count": 4,
   "id": "23925659",
   "metadata": {},
   "outputs": [
    {
     "name": "stderr",
     "output_type": "stream",
     "text": [
      "Processing...: 100%|██████████| 9000000/9000000 [00:12<00:00, 707411.39it/s]"
     ]
    },
    {
     "name": "stdout",
     "output_type": "stream",
     "text": [
      "After 9000000 amount of trials, we have found that on average you have a 16.680644444444447% chance of having the painful dorrito.\n"
     ]
    },
    {
     "name": "stderr",
     "output_type": "stream",
     "text": [
      "\n"
     ]
    }
   ],
   "source": [
    "def roulette(simcount=9000000):\n",
    "    with tqdm(total=simcount, desc=\"Processing...\") as pbar:\n",
    "        results=0\n",
    "        for i in range(simcount):\n",
    "            if random.randint(1,6) == 6:\n",
    "                results+=1\n",
    "            pbar.update(1)\n",
    "        final=(results/simcount)*100\n",
    "    return final, simcount\n",
    "\n",
    "pain, suffering=roulette()\n",
    "print(f'After {suffering} amount of trials, we have found that on average you have a {pain}% chance of having the painful dorrito.')"
   ]
  },
  {
   "cell_type": "markdown",
   "id": "5b1970ed",
   "metadata": {},
   "source": [
    "After running a significant amount of trials, the empirical probability should approach the theoretical probability due to the law of large numbers. My empirical probability is 16.6806% which is very close to the 16.6666% theoretical probability."
   ]
  },
  {
   "cell_type": "code",
   "execution_count": null,
   "id": "32461558",
   "metadata": {},
   "outputs": [],
   "source": []
  }
 ],
 "metadata": {
  "kernelspec": {
   "display_name": "Python 3 (ipykernel)",
   "language": "python",
   "name": "python3"
  },
  "language_info": {
   "codemirror_mode": {
    "name": "ipython",
    "version": 3
   },
   "file_extension": ".py",
   "mimetype": "text/x-python",
   "name": "python",
   "nbconvert_exporter": "python",
   "pygments_lexer": "ipython3",
   "version": "3.9.13"
  }
 },
 "nbformat": 4,
 "nbformat_minor": 5
}
