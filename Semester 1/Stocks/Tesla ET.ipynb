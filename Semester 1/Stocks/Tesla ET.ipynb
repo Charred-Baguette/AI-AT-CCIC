{
 "cells": [
  {
   "cell_type": "code",
   "execution_count": 40,
   "id": "5d2c718f",
   "metadata": {},
   "outputs": [],
   "source": [
    "import pandas as pd\n",
    "import seaborn as sns\n",
    "import requests\n",
    "from datetime import datetime, timedelta\n",
    "import time\n",
    "import numpy as np\n",
    "df=pd.read_json('tsla.json')\n",
    "tsla=pd.read_json('tsla.json')\n",
    "musk=pd.read_json('musk.json')"
   ]
  },
  {
   "cell_type": "code",
   "execution_count": 30,
   "id": "7a02c912",
   "metadata": {},
   "outputs": [
    {
     "data": {
      "text/html": [
       "<div>\n",
       "<style scoped>\n",
       "    .dataframe tbody tr th:only-of-type {\n",
       "        vertical-align: middle;\n",
       "    }\n",
       "\n",
       "    .dataframe tbody tr th {\n",
       "        vertical-align: top;\n",
       "    }\n",
       "\n",
       "    .dataframe thead th {\n",
       "        text-align: right;\n",
       "    }\n",
       "</style>\n",
       "<table border=\"1\" class=\"dataframe\">\n",
       "  <thead>\n",
       "    <tr style=\"text-align: right;\">\n",
       "      <th></th>\n",
       "      <th>date</th>\n",
       "      <th>open</th>\n",
       "      <th>high</th>\n",
       "      <th>low</th>\n",
       "      <th>close</th>\n",
       "      <th>volume</th>\n",
       "      <th>rsi_7</th>\n",
       "      <th>rsi_14</th>\n",
       "      <th>cci_7</th>\n",
       "      <th>cci_14</th>\n",
       "      <th>sma_50</th>\n",
       "      <th>ema_50</th>\n",
       "      <th>sma_100</th>\n",
       "      <th>ema_100</th>\n",
       "      <th>macd</th>\n",
       "      <th>bollinger</th>\n",
       "      <th>TrueRange</th>\n",
       "      <th>atr_7</th>\n",
       "      <th>atr_14</th>\n",
       "      <th>next_day_close</th>\n",
       "    </tr>\n",
       "  </thead>\n",
       "  <tbody>\n",
       "    <tr>\n",
       "      <th>0</th>\n",
       "      <td>2014-01-02</td>\n",
       "      <td>9.986667</td>\n",
       "      <td>10.165333</td>\n",
       "      <td>9.770000</td>\n",
       "      <td>10.006667</td>\n",
       "      <td>92826000</td>\n",
       "      <td>55.344071</td>\n",
       "      <td>54.440118</td>\n",
       "      <td>-37.373644</td>\n",
       "      <td>15.213422</td>\n",
       "      <td>9.682107</td>\n",
       "      <td>9.820167</td>\n",
       "      <td>10.494240</td>\n",
       "      <td>9.674284</td>\n",
       "      <td>0.169472</td>\n",
       "      <td>9.740800</td>\n",
       "      <td>0.395333</td>\n",
       "      <td>0.402641</td>\n",
       "      <td>0.447550</td>\n",
       "      <td>9.970667</td>\n",
       "    </tr>\n",
       "    <tr>\n",
       "      <th>1</th>\n",
       "      <td>2014-01-03</td>\n",
       "      <td>10.000000</td>\n",
       "      <td>10.146000</td>\n",
       "      <td>9.906667</td>\n",
       "      <td>9.970667</td>\n",
       "      <td>70425000</td>\n",
       "      <td>53.742629</td>\n",
       "      <td>53.821521</td>\n",
       "      <td>-81.304471</td>\n",
       "      <td>17.481130</td>\n",
       "      <td>9.652800</td>\n",
       "      <td>9.826069</td>\n",
       "      <td>10.495693</td>\n",
       "      <td>9.680190</td>\n",
       "      <td>0.162623</td>\n",
       "      <td>9.776167</td>\n",
       "      <td>0.239333</td>\n",
       "      <td>0.379311</td>\n",
       "      <td>0.432677</td>\n",
       "      <td>9.800000</td>\n",
       "    </tr>\n",
       "    <tr>\n",
       "      <th>2</th>\n",
       "      <td>2014-01-06</td>\n",
       "      <td>10.000000</td>\n",
       "      <td>10.026667</td>\n",
       "      <td>9.682667</td>\n",
       "      <td>9.800000</td>\n",
       "      <td>80416500</td>\n",
       "      <td>46.328174</td>\n",
       "      <td>50.870410</td>\n",
       "      <td>-123.427544</td>\n",
       "      <td>-37.824708</td>\n",
       "      <td>9.629467</td>\n",
       "      <td>9.825047</td>\n",
       "      <td>10.496740</td>\n",
       "      <td>9.682577</td>\n",
       "      <td>0.141790</td>\n",
       "      <td>9.797900</td>\n",
       "      <td>0.344000</td>\n",
       "      <td>0.374267</td>\n",
       "      <td>0.426343</td>\n",
       "      <td>9.957333</td>\n",
       "    </tr>\n",
       "    <tr>\n",
       "      <th>3</th>\n",
       "      <td>2014-01-07</td>\n",
       "      <td>9.841333</td>\n",
       "      <td>10.026667</td>\n",
       "      <td>9.683333</td>\n",
       "      <td>9.957333</td>\n",
       "      <td>75511500</td>\n",
       "      <td>53.263037</td>\n",
       "      <td>53.406750</td>\n",
       "      <td>-84.784651</td>\n",
       "      <td>-20.779431</td>\n",
       "      <td>9.597747</td>\n",
       "      <td>9.830235</td>\n",
       "      <td>10.503407</td>\n",
       "      <td>9.688051</td>\n",
       "      <td>0.136402</td>\n",
       "      <td>9.837900</td>\n",
       "      <td>0.343334</td>\n",
       "      <td>0.369848</td>\n",
       "      <td>0.420414</td>\n",
       "      <td>10.085333</td>\n",
       "    </tr>\n",
       "    <tr>\n",
       "      <th>4</th>\n",
       "      <td>2014-01-08</td>\n",
       "      <td>9.923333</td>\n",
       "      <td>10.246667</td>\n",
       "      <td>9.917333</td>\n",
       "      <td>10.085333</td>\n",
       "      <td>92448000</td>\n",
       "      <td>58.368660</td>\n",
       "      <td>55.423026</td>\n",
       "      <td>60.799662</td>\n",
       "      <td>43.570559</td>\n",
       "      <td>9.573240</td>\n",
       "      <td>9.840239</td>\n",
       "      <td>10.511147</td>\n",
       "      <td>9.695964</td>\n",
       "      <td>0.140837</td>\n",
       "      <td>9.870167</td>\n",
       "      <td>0.329334</td>\n",
       "      <td>0.364060</td>\n",
       "      <td>0.413908</td>\n",
       "      <td>9.835333</td>\n",
       "    </tr>\n",
       "  </tbody>\n",
       "</table>\n",
       "</div>"
      ],
      "text/plain": [
       "        date       open       high       low      close    volume      rsi_7  \\\n",
       "0 2014-01-02   9.986667  10.165333  9.770000  10.006667  92826000  55.344071   \n",
       "1 2014-01-03  10.000000  10.146000  9.906667   9.970667  70425000  53.742629   \n",
       "2 2014-01-06  10.000000  10.026667  9.682667   9.800000  80416500  46.328174   \n",
       "3 2014-01-07   9.841333  10.026667  9.683333   9.957333  75511500  53.263037   \n",
       "4 2014-01-08   9.923333  10.246667  9.917333  10.085333  92448000  58.368660   \n",
       "\n",
       "      rsi_14       cci_7     cci_14    sma_50    ema_50    sma_100   ema_100  \\\n",
       "0  54.440118  -37.373644  15.213422  9.682107  9.820167  10.494240  9.674284   \n",
       "1  53.821521  -81.304471  17.481130  9.652800  9.826069  10.495693  9.680190   \n",
       "2  50.870410 -123.427544 -37.824708  9.629467  9.825047  10.496740  9.682577   \n",
       "3  53.406750  -84.784651 -20.779431  9.597747  9.830235  10.503407  9.688051   \n",
       "4  55.423026   60.799662  43.570559  9.573240  9.840239  10.511147  9.695964   \n",
       "\n",
       "       macd  bollinger  TrueRange     atr_7    atr_14  next_day_close  \n",
       "0  0.169472   9.740800   0.395333  0.402641  0.447550        9.970667  \n",
       "1  0.162623   9.776167   0.239333  0.379311  0.432677        9.800000  \n",
       "2  0.141790   9.797900   0.344000  0.374267  0.426343        9.957333  \n",
       "3  0.136402   9.837900   0.343334  0.369848  0.420414       10.085333  \n",
       "4  0.140837   9.870167   0.329334  0.364060  0.413908        9.835333  "
      ]
     },
     "execution_count": 30,
     "metadata": {},
     "output_type": "execute_result"
    }
   ],
   "source": [
    "df.head()"
   ]
  },
  {
   "cell_type": "code",
   "execution_count": 31,
   "id": "873fc294",
   "metadata": {},
   "outputs": [
    {
     "name": "stdout",
     "output_type": "stream",
     "text": [
      "<class 'pandas.core.frame.DataFrame'>\n",
      "RangeIndex: 2516 entries, 0 to 2515\n",
      "Data columns (total 20 columns):\n",
      " #   Column          Non-Null Count  Dtype         \n",
      "---  ------          --------------  -----         \n",
      " 0   date            2516 non-null   datetime64[ns]\n",
      " 1   open            2516 non-null   float64       \n",
      " 2   high            2516 non-null   float64       \n",
      " 3   low             2516 non-null   float64       \n",
      " 4   close           2516 non-null   float64       \n",
      " 5   volume          2516 non-null   int64         \n",
      " 6   rsi_7           2516 non-null   float64       \n",
      " 7   rsi_14          2516 non-null   float64       \n",
      " 8   cci_7           2516 non-null   float64       \n",
      " 9   cci_14          2516 non-null   float64       \n",
      " 10  sma_50          2516 non-null   float64       \n",
      " 11  ema_50          2516 non-null   float64       \n",
      " 12  sma_100         2516 non-null   float64       \n",
      " 13  ema_100         2516 non-null   float64       \n",
      " 14  macd            2516 non-null   float64       \n",
      " 15  bollinger       2516 non-null   float64       \n",
      " 16  TrueRange       2516 non-null   float64       \n",
      " 17  atr_7           2516 non-null   float64       \n",
      " 18  atr_14          2516 non-null   float64       \n",
      " 19  next_day_close  2516 non-null   float64       \n",
      "dtypes: datetime64[ns](1), float64(18), int64(1)\n",
      "memory usage: 393.2 KB\n"
     ]
    }
   ],
   "source": [
    "df.info()"
   ]
  },
  {
   "cell_type": "code",
   "execution_count": 32,
   "id": "91e78de9",
   "metadata": {},
   "outputs": [],
   "source": [
    "def corr(df, col1, col2):\n",
    "    print(f'{col1} vs {col2}:')\n",
    "    corout=df[col1].corr(df[col2])\n",
    "    print(f'Correlation with outliers: {corout}')\n",
    "    q1=df[[col1, col2]].quantile(.25)\n",
    "    q3=df[[col1, col2]].quantile(.75)\n",
    "    IQR=q3-q1\n",
    "    lb=q1-(1.5*IQR)\n",
    "    hb=q3+(1.5*IQR)\n",
    "    dfnoout=df.copy()\n",
    "    idx=0\n",
    "    for idx in range(len(dfnoout)):\n",
    "        v1=dfnoout.loc[idx][col1]\n",
    "        v2=dfnoout.loc[idx][col2]\n",
    "        if v1>hb[col1] or v1<lb[col1]:\n",
    "            dfnoout.drop([idx], inplace=True)\n",
    "        if v2>hb[col2] or v1<lb[col2]:\n",
    "            dfnoout.drop([idx], inplace=True)\n",
    "    cornoout=dfnoout[col1].corr(dfnoout[col2])\n",
    "    print(f'Correlation without outliers: {cornoout}')\n"
   ]
  },
  {
   "cell_type": "code",
   "execution_count": 25,
   "id": "8416842b",
   "metadata": {},
   "outputs": [
    {
     "name": "stdout",
     "output_type": "stream",
     "text": [
      "open vs volume:\n",
      "Correlation with outliers: -0.048496276906608585\n",
      "Correlation without outliers: 0.04557821259138341\n"
     ]
    }
   ],
   "source": [
    "corr(df, 'open', 'volume')"
   ]
  },
  {
   "cell_type": "code",
   "execution_count": 33,
   "id": "441da8be",
   "metadata": {},
   "outputs": [],
   "source": [
    "def scatter(df, x, y, outliers):\n",
    "    idx=[]\n",
    "    for i in range(outliers):\n",
    "        idx=df[x].idxmax()\n",
    "        df.drop([idx], inplace=True)\n",
    "    sns.scatterplot(data=df, x=x, y=y)"
   ]
  },
  {
   "cell_type": "code",
   "execution_count": 36,
   "id": "d76f1e30",
   "metadata": {},
   "outputs": [
    {
     "data": {
      "image/png": "[encoded data removed]",
      "text/plain": [
       "<Figure size 640x480 with 1 Axes>"
      ]
     },
     "metadata": {},
     "output_type": "display_data"
    }
   ],
   "source": [
    "scatter(df, 'TrueRange', 'volume', 0)"
   ]
  },
  {
   "cell_type": "code",
   "execution_count": 58,
   "id": "7112f2b6",
   "metadata": {},
   "outputs": [],
   "source": [
    "def corrcalc(df, x, y, num_outliers):\n",
    "    if num_outliers >0:\n",
    "        for count in range(num_outliers):\n",
    "            idx=df[df[x]==df[x].max()].index\n",
    "            for i in idx:\n",
    "                df.drop([i], inplace=True)\n",
    "            idx=df[df[y]==df[y].max()].index\n",
    "            for i in idx:\n",
    "                df.drop([i], inplace=True)\n",
    "    sub_df=df[[x,y]]\n",
    "    return sub_df.corr(method='pearson')"
   ]
  },
  {
   "cell_type": "code",
   "execution_count": 38,
   "id": "3ab77309",
   "metadata": {},
   "outputs": [
    {
     "data": {
      "text/html": [
       "<div>\n",
       "<style scoped>\n",
       "    .dataframe tbody tr th:only-of-type {\n",
       "        vertical-align: middle;\n",
       "    }\n",
       "\n",
       "    .dataframe tbody tr th {\n",
       "        vertical-align: top;\n",
       "    }\n",
       "\n",
       "    .dataframe thead th {\n",
       "        text-align: right;\n",
       "    }\n",
       "</style>\n",
       "<table border=\"1\" class=\"dataframe\">\n",
       "  <thead>\n",
       "    <tr style=\"text-align: right;\">\n",
       "      <th></th>\n",
       "      <th>TrueRange</th>\n",
       "      <th>volume</th>\n",
       "    </tr>\n",
       "  </thead>\n",
       "  <tbody>\n",
       "    <tr>\n",
       "      <th>TrueRange</th>\n",
       "      <td>1.000000</td>\n",
       "      <td>0.145996</td>\n",
       "    </tr>\n",
       "    <tr>\n",
       "      <th>volume</th>\n",
       "      <td>0.145996</td>\n",
       "      <td>1.000000</td>\n",
       "    </tr>\n",
       "  </tbody>\n",
       "</table>\n",
       "</div>"
      ],
      "text/plain": [
       "           TrueRange    volume\n",
       "TrueRange   1.000000  0.145996\n",
       "volume      0.145996  1.000000"
      ]
     },
     "execution_count": 38,
     "metadata": {},
     "output_type": "execute_result"
    }
   ],
   "source": [
    "corrcalc(df, 'TrueRange', 'volume', 0)"
   ]
  },
  {
   "cell_type": "code",
   "execution_count": 2,
   "id": "73a99be4",
   "metadata": {},
   "outputs": [
    {
     "name": "stdout",
     "output_type": "stream",
     "text": [
      "api?2atA47KMpygWRov7z_zLABcIgdKIrqTI\n"
     ]
    },
    {
     "data": {
      "text/html": [
       "<div>\n",
       "<style scoped>\n",
       "    .dataframe tbody tr th:only-of-type {\n",
       "        vertical-align: middle;\n",
       "    }\n",
       "\n",
       "    .dataframe tbody tr th {\n",
       "        vertical-align: top;\n",
       "    }\n",
       "\n",
       "    .dataframe thead th {\n",
       "        text-align: right;\n",
       "    }\n",
       "</style>\n",
       "<table border=\"1\" class=\"dataframe\">\n",
       "  <thead>\n",
       "    <tr style=\"text-align: right;\">\n",
       "      <th></th>\n",
       "      <th>Date</th>\n",
       "      <th>Open</th>\n",
       "      <th>High</th>\n",
       "      <th>Low</th>\n",
       "      <th>Close</th>\n",
       "      <th>Volume</th>\n",
       "    </tr>\n",
       "  </thead>\n",
       "  <tbody>\n",
       "    <tr>\n",
       "      <th>0</th>\n",
       "      <td>2024-09-25</td>\n",
       "      <td>252.54</td>\n",
       "      <td>257.05</td>\n",
       "      <td>252.28</td>\n",
       "      <td>257.02</td>\n",
       "      <td>64864664.0</td>\n",
       "    </tr>\n",
       "  </tbody>\n",
       "</table>\n",
       "</div>"
      ],
      "text/plain": [
       "        Date    Open    High     Low   Close      Volume\n",
       "0 2024-09-25  252.54  257.05  252.28  257.02  64864664.0"
      ]
     },
     "execution_count": 2,
     "metadata": {},
     "output_type": "execute_result"
    }
   ],
   "source": [
    "def gather_data(start, end):\n",
    "    api=input(\"api?\")\n",
    "    data={'Date':[], 'Open':[], 'High':[], 'Low':[], 'Close':[], 'Volume':[]}\n",
    "    current_date = pd.to_datetime(start)\n",
    "    end_date=pd.to_datetime(end)\n",
    "    \n",
    "    while current_date<=end_date:\n",
    "        date_str = current_date.strftime('%Y-%m-%d')\n",
    "        url= f'https://api.polygon.io/v1/open-close/TSLA/{date_str}?adjusted=false&apiKey={api}'\n",
    "        \n",
    "        response=requests.get(url)\n",
    "        if response.status_code==200:\n",
    "            json_data=response.json()\n",
    "            data[\"Date\"].append(current_date)\n",
    "            data[\"Open\"].append(json_data['open'])\n",
    "            data[\"High\"].append(json_data['high'])\n",
    "            data[\"Low\"].append(json_data['low'])\n",
    "            data[\"Close\"].append(json_data['close'])\n",
    "            data[\"Volume\"].append(json_data['volume'])\n",
    "        else:\n",
    "            print(\"Bad Request\")\n",
    "            \n",
    "        current_date+=timedelta(days=1)\n",
    "        time.sleep(60)\n",
    "        current_date+=timedelta(days=1)\n",
    "    return pd.DataFrame(data)\n",
    "\n",
    "gather_data('2024-09-25', '2024-09-25')"
   ]
  },
  {
   "cell_type": "code",
   "execution_count": 18,
   "id": "a746d848",
   "metadata": {},
   "outputs": [],
   "source": [
    "def combine_datasets(df1, df2, shared_column):\n",
    "    merged_df=pd.merge(df1, df2, on=shared_column, how='inner')\n",
    "    dfm=merged_df\n",
    "    return dfm\n"
   ]
  },
  {
   "cell_type": "code",
   "execution_count": 19,
   "id": "43b4acfe",
   "metadata": {},
   "outputs": [
    {
     "name": "stdout",
     "output_type": "stream",
     "text": [
      "<class 'pandas.core.frame.DataFrame'>\n",
      "RangeIndex: 2516 entries, 0 to 2515\n",
      "Data columns (total 20 columns):\n",
      " #   Column          Non-Null Count  Dtype         \n",
      "---  ------          --------------  -----         \n",
      " 0   Date            2516 non-null   datetime64[ns]\n",
      " 1   open            2516 non-null   float64       \n",
      " 2   high            2516 non-null   float64       \n",
      " 3   low             2516 non-null   float64       \n",
      " 4   close           2516 non-null   float64       \n",
      " 5   volume          2516 non-null   int64         \n",
      " 6   rsi_7           2516 non-null   float64       \n",
      " 7   rsi_14          2516 non-null   float64       \n",
      " 8   cci_7           2516 non-null   float64       \n",
      " 9   cci_14          2516 non-null   float64       \n",
      " 10  sma_50          2516 non-null   float64       \n",
      " 11  ema_50          2516 non-null   float64       \n",
      " 12  sma_100         2516 non-null   float64       \n",
      " 13  ema_100         2516 non-null   float64       \n",
      " 14  macd            2516 non-null   float64       \n",
      " 15  bollinger       2516 non-null   float64       \n",
      " 16  TrueRange       2516 non-null   float64       \n",
      " 17  atr_7           2516 non-null   float64       \n",
      " 18  atr_14          2516 non-null   float64       \n",
      " 19  next_day_close  2516 non-null   float64       \n",
      "dtypes: datetime64[ns](1), float64(18), int64(1)\n",
      "memory usage: 393.2 KB\n"
     ]
    }
   ],
   "source": [
    "tsla.info()"
   ]
  },
  {
   "cell_type": "code",
   "execution_count": 20,
   "id": "77b7ecf6",
   "metadata": {},
   "outputs": [
    {
     "name": "stdout",
     "output_type": "stream",
     "text": [
      "<class 'pandas.core.frame.DataFrame'>\n",
      "RangeIndex: 2784 entries, 0 to 2783\n",
      "Data columns (total 2 columns):\n",
      " #   Column       Non-Null Count  Dtype         \n",
      "---  ------       --------------  -----         \n",
      " 0   Date         2784 non-null   datetime64[ns]\n",
      " 1   Tweet Count  2784 non-null   int64         \n",
      "dtypes: datetime64[ns](1), int64(1)\n",
      "memory usage: 43.6 KB\n"
     ]
    }
   ],
   "source": [
    "musk.info()"
   ]
  },
  {
   "cell_type": "code",
   "execution_count": 21,
   "id": "126909df",
   "metadata": {},
   "outputs": [],
   "source": [
    "tsla.rename(columns={'date': 'Date'}, inplace=True)"
   ]
  },
  {
   "cell_type": "code",
   "execution_count": 25,
   "id": "0859420f",
   "metadata": {},
   "outputs": [],
   "source": [
    "dfm = combine_datasets(tsla, musk, 'Date')"
   ]
  },
  {
   "cell_type": "code",
   "execution_count": 34,
   "id": "ec8a1a1e",
   "metadata": {},
   "outputs": [
    {
     "data": {
      "text/plain": [
       "<AxesSubplot:xlabel='Tweet Count', ylabel='volume'>"
      ]
     },
     "execution_count": 34,
     "metadata": {},
     "output_type": "execute_result"
    },
    {
     "data": {
      "image/png": "[encoded data removed]",
      "text/plain": [
       "<Figure size 640x480 with 1 Axes>"
      ]
     },
     "metadata": {},
     "output_type": "display_data"
    }
   ],
   "source": [
    "sns.scatterplot(data=dfm, x='Tweet Count', y='volume')"
   ]
  },
  {
   "cell_type": "code",
   "execution_count": 59,
   "id": "8431a911",
   "metadata": {},
   "outputs": [
    {
     "data": {
      "text/html": [
       "<div>\n",
       "<style scoped>\n",
       "    .dataframe tbody tr th:only-of-type {\n",
       "        vertical-align: middle;\n",
       "    }\n",
       "\n",
       "    .dataframe tbody tr th {\n",
       "        vertical-align: top;\n",
       "    }\n",
       "\n",
       "    .dataframe thead th {\n",
       "        text-align: right;\n",
       "    }\n",
       "</style>\n",
       "<table border=\"1\" class=\"dataframe\">\n",
       "  <thead>\n",
       "    <tr style=\"text-align: right;\">\n",
       "      <th></th>\n",
       "      <th>Tweet Count</th>\n",
       "      <th>volume</th>\n",
       "    </tr>\n",
       "  </thead>\n",
       "  <tbody>\n",
       "    <tr>\n",
       "      <th>Tweet Count</th>\n",
       "      <td>1.000000</td>\n",
       "      <td>0.128422</td>\n",
       "    </tr>\n",
       "    <tr>\n",
       "      <th>volume</th>\n",
       "      <td>0.128422</td>\n",
       "      <td>1.000000</td>\n",
       "    </tr>\n",
       "  </tbody>\n",
       "</table>\n",
       "</div>"
      ],
      "text/plain": [
       "             Tweet Count    volume\n",
       "Tweet Count     1.000000  0.128422\n",
       "volume          0.128422  1.000000"
      ]
     },
     "execution_count": 59,
     "metadata": {},
     "output_type": "execute_result"
    }
   ],
   "source": [
    "corrcalc(dfm, 'Tweet Count', 'volume', 0)"
   ]
  },
  {
   "cell_type": "code",
   "execution_count": null,
   "id": "5568ccab",
   "metadata": {},
   "outputs": [],
   "source": []
  },
  {
   "cell_type": "code",
   "execution_count": null,
   "id": "112f371c",
   "metadata": {},
   "outputs": [],
   "source": []
  },
  {
   "cell_type": "code",
   "execution_count": null,
   "id": "411601fd",
   "metadata": {},
   "outputs": [],
   "source": []
  },
  {
   "cell_type": "code",
   "execution_count": null,
   "id": "7393dacb",
   "metadata": {},
   "outputs": [],
   "source": []
  },
  {
   "cell_type": "code",
   "execution_count": null,
   "id": "d06e351f",
   "metadata": {},
   "outputs": [],
   "source": []
  },
  {
   "cell_type": "code",
   "execution_count": null,
   "id": "73c62590",
   "metadata": {},
   "outputs": [],
   "source": []
  },
  {
   "cell_type": "code",
   "execution_count": null,
   "id": "126b8ca9",
   "metadata": {},
   "outputs": [],
   "source": []
  },
  {
   "cell_type": "code",
   "execution_count": null,
   "id": "9221bdf3",
   "metadata": {},
   "outputs": [],
   "source": []
  }
 ],
 "metadata": {
  "kernelspec": {
   "display_name": "Python 3 (ipykernel)",
   "language": "python",
   "name": "python3"
  },
  "language_info": {
   "codemirror_mode": {
    "name": "ipython",
    "version": 3
   },
   "file_extension": ".py",
   "mimetype": "text/x-python",
   "name": "python",
   "nbconvert_exporter": "python",
   "pygments_lexer": "ipython3",
   "version": "3.9.13"
  }
 },
 "nbformat": 4,
 "nbformat_minor": 5
}
