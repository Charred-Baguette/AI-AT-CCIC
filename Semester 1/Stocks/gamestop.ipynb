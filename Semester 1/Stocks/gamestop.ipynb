{
 "cells": [
  {
   "cell_type": "code",
   "execution_count": 26,
   "id": "7540f667",
   "metadata": {},
   "outputs": [],
   "source": [
    "import pandas as pd\n",
    "import seaborn as sns\n",
    "df=pd.read_json('gme.json')"
   ]
  },
  {
   "cell_type": "code",
   "execution_count": 27,
   "id": "a60b5f56",
   "metadata": {},
   "outputs": [
    {
     "name": "stdout",
     "output_type": "stream",
     "text": [
      "<class 'pandas.core.frame.DataFrame'>\n",
      "RangeIndex: 5600 entries, 0 to 5599\n",
      "Data columns (total 7 columns):\n",
      " #   Column     Non-Null Count  Dtype         \n",
      "---  ------     --------------  -----         \n",
      " 0   Date       5600 non-null   datetime64[ns]\n",
      " 1   Open       5600 non-null   float64       \n",
      " 2   High       5600 non-null   float64       \n",
      " 3   Low        5600 non-null   float64       \n",
      " 4   Close      5600 non-null   float64       \n",
      " 5   Adj Close  5600 non-null   float64       \n",
      " 6   Volume     5600 non-null   int64         \n",
      "dtypes: datetime64[ns](1), float64(5), int64(1)\n",
      "memory usage: 306.4 KB\n"
     ]
    }
   ],
   "source": [
    "df.info()"
   ]
  },
  {
   "cell_type": "code",
   "execution_count": 28,
   "id": "b138cf9e",
   "metadata": {},
   "outputs": [
    {
     "data": {
      "text/html": [
       "<div>\n",
       "<style scoped>\n",
       "    .dataframe tbody tr th:only-of-type {\n",
       "        vertical-align: middle;\n",
       "    }\n",
       "\n",
       "    .dataframe tbody tr th {\n",
       "        vertical-align: top;\n",
       "    }\n",
       "\n",
       "    .dataframe thead th {\n",
       "        text-align: right;\n",
       "    }\n",
       "</style>\n",
       "<table border=\"1\" class=\"dataframe\">\n",
       "  <thead>\n",
       "    <tr style=\"text-align: right;\">\n",
       "      <th></th>\n",
       "      <th>Date</th>\n",
       "      <th>Open</th>\n",
       "      <th>High</th>\n",
       "      <th>Low</th>\n",
       "      <th>Close</th>\n",
       "      <th>Adj Close</th>\n",
       "      <th>Volume</th>\n",
       "    </tr>\n",
       "  </thead>\n",
       "  <tbody>\n",
       "    <tr>\n",
       "      <th>0</th>\n",
       "      <td>2002-02-13</td>\n",
       "      <td>2.40625</td>\n",
       "      <td>2.51500</td>\n",
       "      <td>2.38125</td>\n",
       "      <td>2.51250</td>\n",
       "      <td>1.691666</td>\n",
       "      <td>76216000</td>\n",
       "    </tr>\n",
       "    <tr>\n",
       "      <th>1</th>\n",
       "      <td>2002-02-14</td>\n",
       "      <td>2.54375</td>\n",
       "      <td>2.54875</td>\n",
       "      <td>2.48125</td>\n",
       "      <td>2.50000</td>\n",
       "      <td>1.683250</td>\n",
       "      <td>11021600</td>\n",
       "    </tr>\n",
       "    <tr>\n",
       "      <th>2</th>\n",
       "      <td>2002-02-15</td>\n",
       "      <td>2.50000</td>\n",
       "      <td>2.50625</td>\n",
       "      <td>2.46250</td>\n",
       "      <td>2.48750</td>\n",
       "      <td>1.674834</td>\n",
       "      <td>8389600</td>\n",
       "    </tr>\n",
       "    <tr>\n",
       "      <th>3</th>\n",
       "      <td>2002-02-19</td>\n",
       "      <td>2.47500</td>\n",
       "      <td>2.47500</td>\n",
       "      <td>2.34375</td>\n",
       "      <td>2.38750</td>\n",
       "      <td>1.607504</td>\n",
       "      <td>7410400</td>\n",
       "    </tr>\n",
       "    <tr>\n",
       "      <th>4</th>\n",
       "      <td>2002-02-20</td>\n",
       "      <td>2.40000</td>\n",
       "      <td>2.46875</td>\n",
       "      <td>2.38125</td>\n",
       "      <td>2.46875</td>\n",
       "      <td>1.662210</td>\n",
       "      <td>6892800</td>\n",
       "    </tr>\n",
       "  </tbody>\n",
       "</table>\n",
       "</div>"
      ],
      "text/plain": [
       "        Date     Open     High      Low    Close  Adj Close    Volume\n",
       "0 2002-02-13  2.40625  2.51500  2.38125  2.51250   1.691666  76216000\n",
       "1 2002-02-14  2.54375  2.54875  2.48125  2.50000   1.683250  11021600\n",
       "2 2002-02-15  2.50000  2.50625  2.46250  2.48750   1.674834   8389600\n",
       "3 2002-02-19  2.47500  2.47500  2.34375  2.38750   1.607504   7410400\n",
       "4 2002-02-20  2.40000  2.46875  2.38125  2.46875   1.662210   6892800"
      ]
     },
     "execution_count": 28,
     "metadata": {},
     "output_type": "execute_result"
    }
   ],
   "source": [
    "df.head()"
   ]
  },
  {
   "cell_type": "markdown",
   "id": "872060e6",
   "metadata": {},
   "source": [
    "We can see that there are 7 total variables: date, open, high, low, close, adj close, and volume. All of these values are numeric in nature with the date column being in a date time format. "
   ]
  },
  {
   "cell_type": "code",
   "execution_count": 9,
   "id": "0fda04be",
   "metadata": {
    "scrolled": true
   },
   "outputs": [
    {
     "name": "stdout",
     "output_type": "stream",
     "text": [
      "           Date   Open    High      Low      Close  Adj Close     Volume\n",
      "4772 2021-01-28  66.25  120.75  28.0625  48.400002  48.400002  235263200\n"
     ]
    }
   ],
   "source": [
    "\n",
    "high=df[df['High']==df['High'].max()]\n",
    "print(high)"
   ]
  },
  {
   "cell_type": "code",
   "execution_count": 10,
   "id": "ead94ef8",
   "metadata": {},
   "outputs": [],
   "source": [
    "df['month']=df['Date'].dt.month"
   ]
  },
  {
   "cell_type": "code",
   "execution_count": 11,
   "id": "567e38bf",
   "metadata": {},
   "outputs": [
    {
     "data": {
      "text/html": [
       "<div>\n",
       "<style scoped>\n",
       "    .dataframe tbody tr th:only-of-type {\n",
       "        vertical-align: middle;\n",
       "    }\n",
       "\n",
       "    .dataframe tbody tr th {\n",
       "        vertical-align: top;\n",
       "    }\n",
       "\n",
       "    .dataframe thead th {\n",
       "        text-align: right;\n",
       "    }\n",
       "</style>\n",
       "<table border=\"1\" class=\"dataframe\">\n",
       "  <thead>\n",
       "    <tr style=\"text-align: right;\">\n",
       "      <th></th>\n",
       "      <th>Date</th>\n",
       "      <th>Open</th>\n",
       "      <th>High</th>\n",
       "      <th>Low</th>\n",
       "      <th>Close</th>\n",
       "      <th>Adj Close</th>\n",
       "      <th>Volume</th>\n",
       "      <th>month</th>\n",
       "    </tr>\n",
       "  </thead>\n",
       "  <tbody>\n",
       "    <tr>\n",
       "      <th>0</th>\n",
       "      <td>2002-02-13</td>\n",
       "      <td>2.40625</td>\n",
       "      <td>2.51500</td>\n",
       "      <td>2.38125</td>\n",
       "      <td>2.51250</td>\n",
       "      <td>1.691666</td>\n",
       "      <td>76216000</td>\n",
       "      <td>2</td>\n",
       "    </tr>\n",
       "    <tr>\n",
       "      <th>1</th>\n",
       "      <td>2002-02-14</td>\n",
       "      <td>2.54375</td>\n",
       "      <td>2.54875</td>\n",
       "      <td>2.48125</td>\n",
       "      <td>2.50000</td>\n",
       "      <td>1.683250</td>\n",
       "      <td>11021600</td>\n",
       "      <td>2</td>\n",
       "    </tr>\n",
       "    <tr>\n",
       "      <th>2</th>\n",
       "      <td>2002-02-15</td>\n",
       "      <td>2.50000</td>\n",
       "      <td>2.50625</td>\n",
       "      <td>2.46250</td>\n",
       "      <td>2.48750</td>\n",
       "      <td>1.674834</td>\n",
       "      <td>8389600</td>\n",
       "      <td>2</td>\n",
       "    </tr>\n",
       "    <tr>\n",
       "      <th>3</th>\n",
       "      <td>2002-02-19</td>\n",
       "      <td>2.47500</td>\n",
       "      <td>2.47500</td>\n",
       "      <td>2.34375</td>\n",
       "      <td>2.38750</td>\n",
       "      <td>1.607504</td>\n",
       "      <td>7410400</td>\n",
       "      <td>2</td>\n",
       "    </tr>\n",
       "    <tr>\n",
       "      <th>4</th>\n",
       "      <td>2002-02-20</td>\n",
       "      <td>2.40000</td>\n",
       "      <td>2.46875</td>\n",
       "      <td>2.38125</td>\n",
       "      <td>2.46875</td>\n",
       "      <td>1.662210</td>\n",
       "      <td>6892800</td>\n",
       "      <td>2</td>\n",
       "    </tr>\n",
       "  </tbody>\n",
       "</table>\n",
       "</div>"
      ],
      "text/plain": [
       "        Date     Open     High      Low    Close  Adj Close    Volume  month\n",
       "0 2002-02-13  2.40625  2.51500  2.38125  2.51250   1.691666  76216000      2\n",
       "1 2002-02-14  2.54375  2.54875  2.48125  2.50000   1.683250  11021600      2\n",
       "2 2002-02-15  2.50000  2.50625  2.46250  2.48750   1.674834   8389600      2\n",
       "3 2002-02-19  2.47500  2.47500  2.34375  2.38750   1.607504   7410400      2\n",
       "4 2002-02-20  2.40000  2.46875  2.38125  2.46875   1.662210   6892800      2"
      ]
     },
     "execution_count": 11,
     "metadata": {},
     "output_type": "execute_result"
    }
   ],
   "source": [
    "df.head()"
   ]
  },
  {
   "cell_type": "code",
   "execution_count": 13,
   "id": "73c577d3",
   "metadata": {},
   "outputs": [
    {
     "name": "stdout",
     "output_type": "stream",
     "text": [
      "<class 'pandas.core.frame.DataFrame'>\n",
      "RangeIndex: 5600 entries, 0 to 5599\n",
      "Data columns (total 8 columns):\n",
      " #   Column     Non-Null Count  Dtype         \n",
      "---  ------     --------------  -----         \n",
      " 0   Date       5600 non-null   datetime64[ns]\n",
      " 1   Open       5600 non-null   float64       \n",
      " 2   High       5600 non-null   float64       \n",
      " 3   Low        5600 non-null   float64       \n",
      " 4   Close      5600 non-null   float64       \n",
      " 5   Adj Close  5600 non-null   float64       \n",
      " 6   Volume     5600 non-null   int64         \n",
      " 7   month      5600 non-null   int64         \n",
      "dtypes: datetime64[ns](1), float64(5), int64(2)\n",
      "memory usage: 350.1 KB\n"
     ]
    }
   ],
   "source": [
    "df.info()"
   ]
  },
  {
   "cell_type": "code",
   "execution_count": 23,
   "id": "17adcfcd",
   "metadata": {},
   "outputs": [
    {
     "name": "stdout",
     "output_type": "stream",
     "text": [
      "Month: 1, Average: 8.394146076404493\n",
      "Month: 2, Average: 8.115184758660508\n",
      "Month: 3, Average: 9.417955668326698\n",
      "Month: 4, Average: 9.578932123689722\n",
      "Month: 5, Average: 9.249860214135023\n",
      "Month: 6, Average: 10.193287575692963\n",
      "Month: 7, Average: 9.48407867025863\n",
      "Month: 8, Average: 9.596032276639347\n",
      "Month: 9, Average: 9.570212510000005\n",
      "Month: 10, Average: 9.064278152892557\n",
      "Month: 11, Average: 9.442765287777776\n",
      "Month: 12, Average: 8.551337557112056\n"
     ]
    }
   ],
   "source": [
    "monthly_totals = {month: 0 for month in range(1, 13)}\n",
    "monthly_counts = {month: 0 for month in range(1, 13)}\n",
    "for i in range(len(df)):\n",
    "    month = df.loc[i, 'Date'].month\n",
    "    avg = (df.loc[i, 'High'] + df.loc[i, 'Low']) / 2\n",
    "    \n",
    "    monthly_totals[month] += avg\n",
    "    monthly_counts[month] += 1\n",
    "\n",
    "monthly_averages = {month: (monthly_totals[month] / monthly_counts[month]) if monthly_counts[month] > 0 else 0 for month in range(1, 13)}\n",
    "\n",
    "for month in range(1, 13):\n",
    "    print(f'Month: {month}, Average: {monthly_averages[month]}')"
   ]
  },
  {
   "cell_type": "code",
   "execution_count": 30,
   "id": "634b8970",
   "metadata": {},
   "outputs": [],
   "source": [
    "def scatter(df, x, y, outliers):\n",
    "    idx=[]\n",
    "    for i in range(outliers):\n",
    "        idx=df[x].idxmax()\n",
    "        df.drop([idx], inplace=True)\n",
    "    sns.scatterplot(data=df, x=x, y=y)"
   ]
  },
  {
   "cell_type": "code",
   "execution_count": 31,
   "id": "0adb9f1a",
   "metadata": {},
   "outputs": [
    {
     "data": {
      "image/png": "[encoded data removed]",
      "text/plain": [
       "<Figure size 640x480 with 1 Axes>"
      ]
     },
     "metadata": {},
     "output_type": "display_data"
    }
   ],
   "source": [
    "scatter(df, 'Low', 'High', 0)"
   ]
  },
  {
   "cell_type": "markdown",
   "id": "d3dc9c7a",
   "metadata": {},
   "source": [
    "The data appears to have a fairly strong, positive correlation between the high and low prices. "
   ]
  },
  {
   "cell_type": "code",
   "execution_count": 32,
   "id": "1fa66778",
   "metadata": {},
   "outputs": [
    {
     "data": {
      "image/png": "[encoded data removed]",
      "text/plain": [
       "<Figure size 640x480 with 1 Axes>"
      ]
     },
     "metadata": {},
     "output_type": "display_data"
    }
   ],
   "source": [
    "scatter(df, 'Low', 'Volume', 0)"
   ]
  },
  {
   "cell_type": "code",
   "execution_count": 33,
   "id": "5314921d",
   "metadata": {},
   "outputs": [
    {
     "data": {
      "text/plain": [
       "0.10259646883179026"
      ]
     },
     "execution_count": 33,
     "metadata": {},
     "output_type": "execute_result"
    }
   ],
   "source": [
    "df['Low'].corr(df['Volume'])"
   ]
  },
  {
   "cell_type": "markdown",
   "id": "a0ea9727",
   "metadata": {},
   "source": [
    "The data does not seem to have a relationship. The data is scattered and there is no visible pattern, form, or direction. "
   ]
  }
 ],
 "metadata": {
  "kernelspec": {
   "display_name": "Python 3 (ipykernel)",
   "language": "python",
   "name": "python3"
  },
  "language_info": {
   "codemirror_mode": {
    "name": "ipython",
    "version": 3
   },
   "file_extension": ".py",
   "mimetype": "text/x-python",
   "name": "python",
   "nbconvert_exporter": "python",
   "pygments_lexer": "ipython3",
   "version": "3.9.13"
  }
 },
 "nbformat": 4,
 "nbformat_minor": 5
}
