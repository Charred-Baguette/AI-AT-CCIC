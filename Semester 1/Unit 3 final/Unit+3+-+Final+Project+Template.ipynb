{
 "cells": [
  {
   "cell_type": "markdown",
   "id": "9919c268",
   "metadata": {},
   "source": [
    "# Choose a Data Set\n",
    "\n",
    "Create your own dataset by scraping one of the following websites *(level 5)*:\n",
    "- [Wikipedia](https://www.wikipedia.org/)\n",
    "- [OpenLibrary](https://openlibrary.org/)\n",
    "\n",
    "**OR** \n",
    "\n",
    "Use data gathered from one of the following APIs *(level 4)*: \n",
    "- [TMDB](https://developer.themoviedb.org/reference/intro/getting-started)\n",
    "- [College Scorecard](https://collegescorecard.ed.gov/data/api-documentation/)\n",
    "\n",
    "**OR** \n",
    "\n",
    "Pick a JSON dataset *(level 3)*:\n",
    "- [Food/Restaurant Data](https://drive.google.com/drive/folders/1V94S6WpclvQmbnW88KVMD4EruryA1oma?usp=drive_link)\n",
    "- [Fashion Data](https://drive.google.com/drive/folders/1V8SbFjtRRW8WVf3xBzg0gzLjOtMhHea_?usp=drive_link)\n",
    "\n",
    "**OR** \n",
    "\n",
    "Pick a CSV dataset *(level 2)*:\n",
    "- [LA Parking Tickets](https://drive.google.com/drive/folders/1vaOfwMi6QmZEGsXr8VM0ulPGzvTTBCgm?usp=drive_link)\n",
    "- [Hotels](https://drive.google.com/drive/folders/1IpVFxgwBJvJHKoOuBsk6WK2qYqFYP4hi?usp=drive_link)"
   ]
  },
  {
   "cell_type": "markdown",
   "id": "ae147ea6",
   "metadata": {},
   "source": [
    "# My Question\n",
    "### Write your question here.\n",
    "\n",
    "Given a random book in the Open Library, what is the expected amount of pages?"
   ]
  },
  {
   "cell_type": "markdown",
   "id": "149f324f",
   "metadata": {},
   "source": [
    "# My Answer"
   ]
  },
  {
   "cell_type": "code",
   "execution_count": 24,
   "id": "f916031d",
   "metadata": {},
   "outputs": [],
   "source": [
    "import requests\n",
    "from bs4 import BeautifulSoup\n",
    "import random\n",
    "from tqdm import tqdm\n",
    "import pandas as pd\n",
    "import re\n",
    "import time\n",
    "import seaborn as sns"
   ]
  },
  {
   "cell_type": "code",
   "execution_count": 25,
   "id": "0dc546bf",
   "metadata": {},
   "outputs": [
    {
     "name": "stdout",
     "output_type": "stream",
     "text": [
      "how many random books?200\n"
     ]
    }
   ],
   "source": [
    "books={'Title':[],\n",
    "       'Number of Pages':[]}\n",
    "url='https://openlibrary.org/random'\n",
    "count=int(input('how many random books?'))"
   ]
  },
  {
   "cell_type": "code",
   "execution_count": 36,
   "id": "73b75f8c",
   "metadata": {},
   "outputs": [
    {
     "name": "stderr",
     "output_type": "stream",
     "text": [
      "Processing...: 100%|██████████| 244/244 [27:16<00:00,  6.71s/it]"
     ]
    },
    {
     "name": "stdout",
     "output_type": "stream",
     "text": [
      "<class 'pandas.core.frame.DataFrame'>\n",
      "RangeIndex: 494 entries, 0 to 493\n",
      "Data columns (total 2 columns):\n",
      " #   Column           Non-Null Count  Dtype \n",
      "---  ------           --------------  ----- \n",
      " 0   Title            494 non-null    object\n",
      " 1   Number of Pages  494 non-null    object\n",
      "dtypes: object(2)\n",
      "memory usage: 7.8+ KB\n",
      "We have a success rate of 2.0245901639344264.\n"
     ]
    },
    {
     "name": "stderr",
     "output_type": "stream",
     "text": [
      "\n"
     ]
    }
   ],
   "source": [
    "with tqdm(total=count, desc=\"Processing...\") as pbar:\n",
    "    for _ in range(count):\n",
    "        time.sleep(.5)\n",
    "        response = requests.get(url)\n",
    "        soup = BeautifulSoup(response.text, 'html.parser')\n",
    "        Title=soup.find('h1', class_=\"work-title\")\n",
    "        if Title is None: \n",
    "            pbar.update(1)\n",
    "\n",
    "            continue\n",
    "        page_count=soup.find('span', class_='edition-pages')\n",
    "        if page_count is None:\n",
    "            pbar.update(1)\n",
    "\n",
    "            continue\n",
    "        pbar.update(1)\n",
    "        books['Title'].append(Title)\n",
    "        books['Number of Pages'].append(page_count)\n",
    "\n",
    "booksdf=pd.DataFrame(books)\n",
    "booksdf.info()\n",
    "success_rate=len(booksdf)/count\n",
    "print(f'We have a success rate of {success_rate}.')"
   ]
  },
  {
   "cell_type": "markdown",
   "id": "4e4ba6c3",
   "metadata": {},
   "source": [
    "Note: I reran the code as the success rate was quite minimal. This the higher success rate represents the amount of data I have "
   ]
  },
  {
   "cell_type": "code",
   "execution_count": 37,
   "id": "0278122b",
   "metadata": {},
   "outputs": [
    {
     "data": {
      "text/html": [
       "<div>\n",
       "<style scoped>\n",
       "    .dataframe tbody tr th:only-of-type {\n",
       "        vertical-align: middle;\n",
       "    }\n",
       "\n",
       "    .dataframe tbody tr th {\n",
       "        vertical-align: top;\n",
       "    }\n",
       "\n",
       "    .dataframe thead th {\n",
       "        text-align: right;\n",
       "    }\n",
       "</style>\n",
       "<table border=\"1\" class=\"dataframe\">\n",
       "  <thead>\n",
       "    <tr style=\"text-align: right;\">\n",
       "      <th></th>\n",
       "      <th>Title</th>\n",
       "      <th>Number of Pages</th>\n",
       "    </tr>\n",
       "  </thead>\n",
       "  <tbody>\n",
       "    <tr>\n",
       "      <th>0</th>\n",
       "      <td>[Le masque de velours]</td>\n",
       "      <td>[305]</td>\n",
       "    </tr>\n",
       "    <tr>\n",
       "      <th>1</th>\n",
       "      <td>[How to Use the Internet (4th Edition)]</td>\n",
       "      <td>[232]</td>\n",
       "    </tr>\n",
       "    <tr>\n",
       "      <th>2</th>\n",
       "      <td>[The prose rhythm of Sallust and Livy]</td>\n",
       "      <td>[151]</td>\n",
       "    </tr>\n",
       "    <tr>\n",
       "      <th>3</th>\n",
       "      <td>[Papyrus]</td>\n",
       "      <td>[90]</td>\n",
       "    </tr>\n",
       "    <tr>\n",
       "      <th>4</th>\n",
       "      <td>[\"Joss Stone\"]</td>\n",
       "      <td>[96]</td>\n",
       "    </tr>\n",
       "  </tbody>\n",
       "</table>\n",
       "</div>"
      ],
      "text/plain": [
       "                                     Title Number of Pages\n",
       "0                   [Le masque de velours]           [305]\n",
       "1  [How to Use the Internet (4th Edition)]           [232]\n",
       "2   [The prose rhythm of Sallust and Livy]           [151]\n",
       "3                                [Papyrus]            [90]\n",
       "4                           [\"Joss Stone\"]            [96]"
      ]
     },
     "execution_count": 37,
     "metadata": {},
     "output_type": "execute_result"
    }
   ],
   "source": [
    "booksdf.head()\n"
   ]
  },
  {
   "cell_type": "code",
   "execution_count": 38,
   "id": "b228559e",
   "metadata": {},
   "outputs": [
    {
     "name": "stdout",
     "output_type": "stream",
     "text": [
      "The expected value for the amount of pages of a random book is 231.32591093117406.\n"
     ]
    }
   ],
   "source": [
    "# Alternate between code for analysis and markdown descriptions of your analysis\n",
    "#doing code for expected value\n",
    "expected_value=0\n",
    "booksdf['Number of Pages'] = booksdf['Number of Pages'].apply(\n",
    "    lambda x: int(''.join(filter(str.isdigit, str(x))))  # This part was necessary since the number of pages was saved in brackets.\n",
    ")\n",
    "\n",
    "for count in booksdf['Number of Pages']:\n",
    "    probability=1/len(booksdf)\n",
    "    tmp=probability*count\n",
    "    expected_value+=tmp\n",
    "print(f'The expected value for the amount of pages of a random book is {expected_value}.')"
   ]
  },
  {
   "cell_type": "markdown",
   "id": "a8bc8bcb",
   "metadata": {},
   "source": [
    "The expected value is 231.2359 pages. This was caluclated by using the expected value equation which is the sum of the probability times the actual value. In other words, I calculated the probability as 1 divided by the length of the dataset (as that is the probability for each book). I then multiplied that probability by the actual page count for each respective book. I then added all the values to get the expected value of 231.2359 pages. The reason that the final expected value is not a whole number is because you can parts of pages filled up. It is possible that the entire pages are not filled out."
   ]
  },
  {
   "cell_type": "code",
   "execution_count": 40,
   "id": "69c67502",
   "metadata": {},
   "outputs": [
    {
     "name": "stdout",
     "output_type": "stream",
     "text": [
      "The standard deviation is 203.15782604686737.\n",
      "The mean is 231.3259109311741.\n"
     ]
    }
   ],
   "source": [
    "# To find variance we use the standard deviation of the expected value\n",
    "total=0\n",
    "mean=sum(booksdf['Number of Pages'])/len(booksdf)\n",
    "squared_differences=0\n",
    "for i in booksdf['Number of Pages']:\n",
    "    squared_difference=(i-mean)**2\n",
    "    squared_differences+=squared_difference\n",
    "variance=squared_differences/len(booksdf)\n",
    "standard_deviation=variance**.5\n",
    "print(f'The standard deviation is {standard_deviation}.')\n",
    "print(f'The mean is {mean}.')"
   ]
  },
  {
   "cell_type": "markdown",
   "id": "4d93cfe1",
   "metadata": {},
   "source": [
    "The standard deviation is 203.1578. This means that 68% of the data is within 203.157 pages. Therefore, while the expected value for the amount of pages is 231.3259, it is possible that the actual amount of pages can vary greatly. The higher the standard deviation the more variability. This variability makes sense as the books are randomly chosen. It is entirely possible that books as advanced as War and Peace or as simple as picture books have been chosen. "
   ]
  },
  {
   "cell_type": "code",
   "execution_count": 43,
   "id": "ec222b6c",
   "metadata": {},
   "outputs": [
    {
     "name": "stdout",
     "output_type": "stream",
     "text": [
      "494\n"
     ]
    }
   ],
   "source": [
    "print(len(booksdf))"
   ]
  },
  {
   "cell_type": "code",
   "execution_count": 42,
   "id": "94e3fabf",
   "metadata": {},
   "outputs": [
    {
     "data": {
      "text/plain": [
       "<AxesSubplot:xlabel='Number of Pages', ylabel='Count'>"
      ]
     },
     "execution_count": 42,
     "metadata": {},
     "output_type": "execute_result"
    },
    {
     "data": {
      "image/png": "[encoded data removed]",
      "text/plain": [
       "<Figure size 640x480 with 1 Axes>"
      ]
     },
     "metadata": {},
     "output_type": "display_data"
    }
   ],
   "source": [
    "sns.histplot(data=booksdf, x='Number of Pages', bins=100)"
   ]
  },
  {
   "cell_type": "markdown",
   "id": "cd9d9d3c",
   "metadata": {},
   "source": [
    "The general distribution from the histogram is very skewed right. This can be seen as so much of the data is on the left. This general distribution affirms the expected value and the standard deviation. The majority of the data is around 231 pages. Thus, the expected value (aka the mean) is accurate. However, we can easily see that there are outliers (with one being as extreme as around 1750 pages). Thus, there is clearly a lot of variability, but the largest chunk is within 200 pages of 231. Overall, this graph affirms my expected value and my standard deviation."
   ]
  },
  {
   "cell_type": "markdown",
   "id": "b1b7bc3a",
   "metadata": {},
   "source": [
    "# Final Answer\n"
   ]
  },
  {
   "cell_type": "markdown",
   "id": "64bc1c4c",
   "metadata": {},
   "source": [
    "I had to address this question: given a random book in the Open Library, what is the expected amount of pages for a randomly selected book? By using the expected value formula, I found the expected value to be 231.325 pages. This is supported by the graph as that is where a lot of the data is. However, one must also understand the spread of the data around that expected value. The expected value is not completely accurate after all. By using the standard deviation formula, I have found the standard deviation to be 203.157 pages. This means that about 68% of the data is within a range of 203 pages of 231 pages. Put simply, 68% of the data is between 28 pages and 434 pages. This shows that the distribution of data is very wide. This is also affirmed by the general distribution graph where the largest chunks of data is within that range. As such, the expected value,  while not inaccurate, is not perfectly reflective of the data. This makes sense given that books were chosen at random. In reality, while you can expect the amount of pages to be generally within that range, the possibility still exists for massive outliers such as the book with over 1500 pages. These conclusions have been reached with a sample size of 494 books."
   ]
  },
  {
   "cell_type": "code",
   "execution_count": null,
   "id": "3670b71f",
   "metadata": {},
   "outputs": [],
   "source": []
  }
 ],
 "metadata": {
  "kernelspec": {
   "display_name": "Python 3 (ipykernel)",
   "language": "python",
   "name": "python3"
  },
  "language_info": {
   "codemirror_mode": {
    "name": "ipython",
    "version": 3
   },
   "file_extension": ".py",
   "mimetype": "text/x-python",
   "name": "python",
   "nbconvert_exporter": "python",
   "pygments_lexer": "ipython3",
   "version": "3.9.13"
  }
 },
 "nbformat": 4,
 "nbformat_minor": 5
}
